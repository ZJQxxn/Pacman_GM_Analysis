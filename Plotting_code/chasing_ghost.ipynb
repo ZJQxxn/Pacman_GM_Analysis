{
 "cells": [
  {
   "cell_type": "markdown",
   "metadata": {},
   "source": [
    "## 准备"
   ]
  },
  {
   "cell_type": "code",
   "execution_count": 1,
   "metadata": {
    "scrolled": true
   },
   "outputs": [
    {
     "name": "stderr",
     "output_type": "stream",
     "text": [
      "In D:\\Miniconda3\\lib\\site-packages\\matplotlib\\mpl-data\\stylelib\\_classic_test.mplstyle: \n",
      "The text.latex.unicode rcparam was deprecated in Matplotlib 3.0 and will be removed in 3.2.\n",
      "In D:\\Miniconda3\\lib\\site-packages\\matplotlib\\mpl-data\\stylelib\\_classic_test.mplstyle: \n",
      "The savefig.frameon rcparam was deprecated in Matplotlib 3.1 and will be removed in 3.3.\n",
      "In D:\\Miniconda3\\lib\\site-packages\\matplotlib\\mpl-data\\stylelib\\_classic_test.mplstyle: \n",
      "The pgf.debug rcparam was deprecated in Matplotlib 3.0 and will be removed in 3.2.\n",
      "In D:\\Miniconda3\\lib\\site-packages\\matplotlib\\mpl-data\\stylelib\\_classic_test.mplstyle: \n",
      "The verbose.level rcparam was deprecated in Matplotlib 3.1 and will be removed in 3.3.\n",
      "In D:\\Miniconda3\\lib\\site-packages\\matplotlib\\mpl-data\\stylelib\\_classic_test.mplstyle: \n",
      "The verbose.fileo rcparam was deprecated in Matplotlib 3.1 and will be removed in 3.3.\n"
     ]
    },
    {
     "data": {
      "application/javascript": [
       "\n",
       "            setTimeout(function() {\n",
       "                var nbb_cell_id = 1;\n",
       "                var nbb_unformatted_code = \"%load_ext nb_black\\n%matplotlib inline\";\n",
       "                var nbb_formatted_code = \"%load_ext nb_black\\n%matplotlib inline\";\n",
       "                var nbb_cells = Jupyter.notebook.get_cells();\n",
       "                for (var i = 0; i < nbb_cells.length; ++i) {\n",
       "                    if (nbb_cells[i].input_prompt_number == nbb_cell_id) {\n",
       "                        if (nbb_cells[i].get_text() == nbb_unformatted_code) {\n",
       "                             nbb_cells[i].set_text(nbb_formatted_code);\n",
       "                        }\n",
       "                        break;\n",
       "                    }\n",
       "                }\n",
       "            }, 500);\n",
       "            "
      ],
      "text/plain": [
       "<IPython.core.display.Javascript object>"
      ]
     },
     "metadata": {},
     "output_type": "display_data"
    }
   ],
   "source": [
    "%load_ext nb_black\n",
    "%matplotlib inline"
   ]
  },
  {
   "cell_type": "code",
   "execution_count": 2,
   "metadata": {},
   "outputs": [
    {
     "ename": "AttributeError",
     "evalue": "'DataFrame' object has no attribute 'path'",
     "output_type": "error",
     "traceback": [
      "\u001b[1;31m---------------------------------------------------------------------------\u001b[0m",
      "\u001b[1;31mAttributeError\u001b[0m                            Traceback (most recent call last)",
      "\u001b[1;32m<ipython-input-2-8360578080e6>\u001b[0m in \u001b[0;36m<module>\u001b[1;34m\u001b[0m\n\u001b[0;32m      2\u001b[0m \u001b[1;33m\u001b[0m\u001b[0m\n\u001b[0;32m      3\u001b[0m \u001b[1;31m# importlib.reload(pacmanutils)\u001b[0m\u001b[1;33m\u001b[0m\u001b[1;33m\u001b[0m\u001b[1;33m\u001b[0m\u001b[0m\n\u001b[1;32m----> 4\u001b[1;33m \u001b[1;32mfrom\u001b[0m \u001b[0mpacmanutils\u001b[0m \u001b[1;32mimport\u001b[0m \u001b[1;33m*\u001b[0m\u001b[1;33m\u001b[0m\u001b[1;33m\u001b[0m\u001b[0m\n\u001b[0m",
      "\u001b[1;32mD:\\programming\\Python\\Pacman_GM_Analysis\\Plotting_code\\pacmanutils.py\u001b[0m in \u001b[0;36m<module>\u001b[1;34m\u001b[0m\n\u001b[0;32m    207\u001b[0m     \u001b[0mlocs_df\u001b[0m\u001b[1;33m.\u001b[0m\u001b[0mpos1\u001b[0m\u001b[1;33m.\u001b[0m\u001b[0mapply\u001b[0m\u001b[1;33m(\u001b[0m\u001b[0meval\u001b[0m\u001b[1;33m)\u001b[0m\u001b[1;33m,\u001b[0m\u001b[1;33m\u001b[0m\u001b[1;33m\u001b[0m\u001b[0m\n\u001b[0;32m    208\u001b[0m     \u001b[0mlocs_df\u001b[0m\u001b[1;33m.\u001b[0m\u001b[0mpos2\u001b[0m\u001b[1;33m.\u001b[0m\u001b[0mapply\u001b[0m\u001b[1;33m(\u001b[0m\u001b[0meval\u001b[0m\u001b[1;33m)\u001b[0m\u001b[1;33m,\u001b[0m\u001b[1;33m\u001b[0m\u001b[1;33m\u001b[0m\u001b[0m\n\u001b[1;32m--> 209\u001b[1;33m     \u001b[0mlocs_df\u001b[0m\u001b[1;33m.\u001b[0m\u001b[0mpath\u001b[0m\u001b[1;33m.\u001b[0m\u001b[0mapply\u001b[0m\u001b[1;33m(\u001b[0m\u001b[0meval\u001b[0m\u001b[1;33m)\u001b[0m\u001b[1;33m\u001b[0m\u001b[1;33m\u001b[0m\u001b[0m\n\u001b[0m\u001b[0;32m    210\u001b[0m )\n\u001b[0;32m    211\u001b[0m \u001b[0mhandler_text2num\u001b[0m \u001b[1;33m=\u001b[0m \u001b[1;33m{\u001b[0m\u001b[1;34m\"up\"\u001b[0m\u001b[1;33m:\u001b[0m \u001b[1;36m1\u001b[0m\u001b[1;33m,\u001b[0m \u001b[1;34m\"down\"\u001b[0m\u001b[1;33m:\u001b[0m \u001b[1;36m2\u001b[0m\u001b[1;33m,\u001b[0m \u001b[1;34m\"left\"\u001b[0m\u001b[1;33m:\u001b[0m \u001b[1;36m3\u001b[0m\u001b[1;33m,\u001b[0m \u001b[1;34m\"right\"\u001b[0m\u001b[1;33m:\u001b[0m \u001b[1;36m4\u001b[0m\u001b[1;33m,\u001b[0m \u001b[1;34m\"None\"\u001b[0m\u001b[1;33m:\u001b[0m \u001b[1;36m0\u001b[0m\u001b[1;33m}\u001b[0m\u001b[1;33m\u001b[0m\u001b[1;33m\u001b[0m\u001b[0m\n",
      "\u001b[1;32mD:\\Miniconda3\\lib\\site-packages\\pandas\\core\\generic.py\u001b[0m in \u001b[0;36m__getattr__\u001b[1;34m(self, name)\u001b[0m\n\u001b[0;32m   4370\u001b[0m             \u001b[1;32mif\u001b[0m \u001b[0mself\u001b[0m\u001b[1;33m.\u001b[0m\u001b[0m_info_axis\u001b[0m\u001b[1;33m.\u001b[0m\u001b[0m_can_hold_identifiers_and_holds_name\u001b[0m\u001b[1;33m(\u001b[0m\u001b[0mname\u001b[0m\u001b[1;33m)\u001b[0m\u001b[1;33m:\u001b[0m\u001b[1;33m\u001b[0m\u001b[1;33m\u001b[0m\u001b[0m\n\u001b[0;32m   4371\u001b[0m                 \u001b[1;32mreturn\u001b[0m \u001b[0mself\u001b[0m\u001b[1;33m[\u001b[0m\u001b[0mname\u001b[0m\u001b[1;33m]\u001b[0m\u001b[1;33m\u001b[0m\u001b[1;33m\u001b[0m\u001b[0m\n\u001b[1;32m-> 4372\u001b[1;33m             \u001b[1;32mreturn\u001b[0m \u001b[0mobject\u001b[0m\u001b[1;33m.\u001b[0m\u001b[0m__getattribute__\u001b[0m\u001b[1;33m(\u001b[0m\u001b[0mself\u001b[0m\u001b[1;33m,\u001b[0m \u001b[0mname\u001b[0m\u001b[1;33m)\u001b[0m\u001b[1;33m\u001b[0m\u001b[1;33m\u001b[0m\u001b[0m\n\u001b[0m\u001b[0;32m   4373\u001b[0m \u001b[1;33m\u001b[0m\u001b[0m\n\u001b[0;32m   4374\u001b[0m     \u001b[1;32mdef\u001b[0m \u001b[0m__setattr__\u001b[0m\u001b[1;33m(\u001b[0m\u001b[0mself\u001b[0m\u001b[1;33m,\u001b[0m \u001b[0mname\u001b[0m\u001b[1;33m,\u001b[0m \u001b[0mvalue\u001b[0m\u001b[1;33m)\u001b[0m\u001b[1;33m:\u001b[0m\u001b[1;33m\u001b[0m\u001b[1;33m\u001b[0m\u001b[0m\n",
      "\u001b[1;31mAttributeError\u001b[0m: 'DataFrame' object has no attribute 'path'"
     ]
    },
    {
     "data": {
      "application/javascript": [
       "\n",
       "            setTimeout(function() {\n",
       "                var nbb_cell_id = 2;\n",
       "                var nbb_unformatted_code = \"# import pacmanutils\\n\\n# importlib.reload(pacmanutils)\\nfrom pacmanutils import *\";\n",
       "                var nbb_formatted_code = \"# import pacmanutils\\n\\n# importlib.reload(pacmanutils)\\nfrom pacmanutils import *\";\n",
       "                var nbb_cells = Jupyter.notebook.get_cells();\n",
       "                for (var i = 0; i < nbb_cells.length; ++i) {\n",
       "                    if (nbb_cells[i].input_prompt_number == nbb_cell_id) {\n",
       "                        if (nbb_cells[i].get_text() == nbb_unformatted_code) {\n",
       "                             nbb_cells[i].set_text(nbb_formatted_code);\n",
       "                        }\n",
       "                        break;\n",
       "                    }\n",
       "                }\n",
       "            }, 500);\n",
       "            "
      ],
      "text/plain": [
       "<IPython.core.display.Javascript object>"
      ]
     },
     "metadata": {},
     "output_type": "display_data"
    }
   ],
   "source": [
    "# import pacmanutils\n",
    "\n",
    "# importlib.reload(pacmanutils)\n",
    "from pacmanutils import *"
   ]
  },
  {
   "cell_type": "code",
   "execution_count": 3,
   "metadata": {},
   "outputs": [
    {
     "ename": "NameError",
     "evalue": "name 'plt' is not defined",
     "output_type": "error",
     "traceback": [
      "\u001b[1;31m---------------------------------------------------------------------------\u001b[0m",
      "\u001b[1;31mNameError\u001b[0m                                 Traceback (most recent call last)",
      "\u001b[1;32m<ipython-input-3-e326878d9e15>\u001b[0m in \u001b[0;36m<module>\u001b[1;34m\u001b[0m\n\u001b[0;32m      9\u001b[0m     \u001b[1;34m\"xtick.labelsize\"\u001b[0m\u001b[1;33m:\u001b[0m \u001b[1;36m7\u001b[0m\u001b[1;33m,\u001b[0m\u001b[1;33m\u001b[0m\u001b[1;33m\u001b[0m\u001b[0m\n\u001b[0;32m     10\u001b[0m     \u001b[1;34m\"figure.dpi\"\u001b[0m\u001b[1;33m:\u001b[0m \u001b[1;36m300\u001b[0m\u001b[1;33m,\u001b[0m\u001b[1;33m\u001b[0m\u001b[1;33m\u001b[0m\u001b[0m\n\u001b[1;32m---> 11\u001b[1;33m     \u001b[1;34m\"axes.prop_cycle\"\u001b[0m\u001b[1;33m:\u001b[0m \u001b[0mplt\u001b[0m\u001b[1;33m.\u001b[0m\u001b[0mcycler\u001b[0m\u001b[1;33m(\u001b[0m\u001b[1;34m\"color\"\u001b[0m\u001b[1;33m,\u001b[0m \u001b[0mplt\u001b[0m\u001b[1;33m.\u001b[0m\u001b[0mcm\u001b[0m\u001b[1;33m.\u001b[0m\u001b[0mviridis\u001b[0m\u001b[1;33m(\u001b[0m\u001b[0mnp\u001b[0m\u001b[1;33m.\u001b[0m\u001b[0mlinspace\u001b[0m\u001b[1;33m(\u001b[0m\u001b[1;36m0\u001b[0m\u001b[1;33m,\u001b[0m \u001b[1;36m1\u001b[0m\u001b[1;33m,\u001b[0m \u001b[1;36m6\u001b[0m\u001b[1;33m)\u001b[0m\u001b[1;33m)\u001b[0m\u001b[1;33m)\u001b[0m\u001b[1;33m,\u001b[0m\u001b[1;33m\u001b[0m\u001b[1;33m\u001b[0m\u001b[0m\n\u001b[0m\u001b[0;32m     12\u001b[0m }\n\u001b[0;32m     13\u001b[0m \u001b[0mplt\u001b[0m\u001b[1;33m.\u001b[0m\u001b[0mrcParams\u001b[0m\u001b[1;33m.\u001b[0m\u001b[0mupdate\u001b[0m\u001b[1;33m(\u001b[0m\u001b[0mparams\u001b[0m\u001b[1;33m)\u001b[0m\u001b[1;33m\u001b[0m\u001b[1;33m\u001b[0m\u001b[0m\n",
      "\u001b[1;31mNameError\u001b[0m: name 'plt' is not defined"
     ]
    },
    {
     "data": {
      "application/javascript": [
       "\n",
       "            setTimeout(function() {\n",
       "                var nbb_cell_id = 3;\n",
       "                var nbb_unformatted_code = \"from IPython.core.debugger import set_trace\\nfrom networkx.algorithms.shortest_paths.generic import all_shortest_paths\\nfrom scipy.stats import variation\\n\\n\\nparams = {\\n    \\\"legend.fontsize\\\": \\\"medium\\\",\\n    \\\"ytick.labelsize\\\": 7,\\n    \\\"xtick.labelsize\\\": 7,\\n    \\\"figure.dpi\\\": 300,\\n    \\\"axes.prop_cycle\\\": plt.cycler(\\\"color\\\", plt.cm.viridis(np.linspace(0, 1, 6))),\\n}\\nplt.rcParams.update(params)\\n\\ndf_total = pd.read_csv(\\\"df_total.csv\\\", index_col=0).rename(\\n    columns={\\\"Unnamed: 0\\\": \\\"index\\\"}\\n)\\n\\nfor c in [\\n    \\\"ghost1Pos\\\",\\n    \\\"ghost2Pos\\\",\\n    \\\"pacmanPos\\\",\\n    \\\"nearrwdPos\\\",\\n    \\\"before_last\\\",\\n    \\\"after_first\\\",\\n    \\\"pos\\\",\\n    \\\"previousPos\\\",\\n    \\\"possible_dirs\\\",\\n    \\\"next_eat_rwd\\\",\\n    \\\"nearbean_dir\\\",\\n    \\\"energizers\\\",\\n    \\\"ghost1_wrt_pacman\\\",\\n    \\\"energizers_start\\\",\\n    \\\"beans\\\",\\n    \\\"next_cross\\\",\\n    \\\"next_possible_dir\\\",\\n]:\\n    df_total[c] = df_total[c].apply(lambda x: eval(x) if isinstance(x, str) else np.nan)\\n\\nlast_trials = [\\n    sorted(group)[-1]\\n    for idx, group in groupby(\\n        df_total.file.unique(),\\n        key=lambda i: str(i.split(\\\"-\\\")[0]) + \\\"-\\\" + \\\"-\\\".join(i.split(\\\"-\\\")[2:]),\\n    )\\n]\\n\\nindexes = [list(i) for i in consecutive_groups(df_total[df_total.ifscared1 >= 3].index)]\\nindexes_filtered = [i for i in indexes if (df_total.loc[i, \\\"ifscared1\\\"] == 3).sum() > 0]\\nscared_to_eaten = [\\n    list(\\n        range(\\n            i[0],\\n            df_total.loc[i, \\\"ifscared1\\\"].where(lambda x: x == 3).dropna().index[0] + 1,\\n        )\\n    )\\n    for i in indexes_filtered\\n]\\n\\nfor l in scared_to_eaten:\\n    mask = (\\n        df_total.loc[l, \\\"status_h1\\\"]\\n        .groupby(df_total.loc[l, \\\"status_h1\\\"].diff().ne(0).cumsum())\\n        .transform(\\\"size\\\")\\n        .lt(3)\\n    )\\n    df_total.loc[l, \\\"status_h1\\\"] = (\\n        df_total.loc[l, \\\"status_h1\\\"].mask(mask).fillna(method=\\\"ffill\\\").fillna(1)\\n    )\\n\\nfrom_last_peak = [\\n    list(\\n        range(\\n            df_total.loc[i, \\\"distance1\\\"]\\n            .diff()\\n            .where(lambda x: x > 0)\\n            .dropna()\\n            .index[-1],\\n            i[-1] + 1,\\n        )\\n    )\\n    if len(df_total.loc[i, \\\"distance1\\\"].diff().where(lambda x: x > 0).dropna().index)\\n    > 0\\n    else i\\n    for i in scared_to_eaten\\n]  ## scared\\u7684\\u60c5\\u51b5\\u4e0b\\uff0c\\u4ece\\u6700\\u540e\\u4e00\\u4e2a\\u5cf0\\u503c\\u5230\\u6700\\u540e\\u4e00\\u4e2a\\u70b9\\n\\n# Process_dict = {}\\n# Rewards_dict = {}\\n# path = \\\"DataHMM/\\\"\\n# for d in os.listdir(path):\\n#     if \\\"Omega\\\" in d:\\n#         Process_dict = take_record_df(path + d, Process_dict)\\n#         Rewards_dict = take_reward_df(\\n#             path + d + \\\"/Rewards/\\\", Process_dict, Rewards_dict\\n#         )\\n\\n# pickle.dump(Rewards_dict, open(\\\"Rewards_dict.p\\\", \\\"wb\\\"))\\n# pickle.dump(Process_dict, open(\\\"Process_dict.p\\\", \\\"wb\\\"))\\nRewards_dict = pickle.load(open(\\\"Rewards_dict.p\\\", \\\"rb\\\"))\\nProcess_dict = pickle.load(open(\\\"Process_dict.p\\\", \\\"rb\\\"))\\n\\nreward_dfs = pd.concat(Rewards_dict.values())\\nreward_dfs = reward_dfs.assign(\\n    file=reward_dfs.DayTrial + \\\".csv\\\", rwdpos=tuple_list(reward_dfs[[\\\"X\\\", \\\"Y\\\"]].values)\\n)\\n\\nreward_collective = (\\n    reward_dfs.groupby([\\\"file\\\", \\\"Step\\\"])\\n    .apply(lambda x: x.rwdpos.tolist())\\n    .reset_index()\\n).rename(columns={0: \\\"beans\\\"})\\n\\nreward_collective_global = (\\n    (\\n        reward_dfs.merge(\\n            map_info[[\\\"pos\\\", \\\"pos_global\\\"]],\\n            left_on=\\\"rwdpos\\\",\\n            right_on=\\\"pos\\\",\\n            how=\\\"left\\\",\\n        )\\n        .groupby([\\\"file\\\", \\\"Step\\\"])\\n        .apply(lambda x: list(x.pos_global))\\n    )\\n    .rename(\\\"beans_global\\\")\\n    .reset_index()\\n)\";\n",
       "                var nbb_formatted_code = \"from IPython.core.debugger import set_trace\\nfrom networkx.algorithms.shortest_paths.generic import all_shortest_paths\\nfrom scipy.stats import variation\\n\\n\\nparams = {\\n    \\\"legend.fontsize\\\": \\\"medium\\\",\\n    \\\"ytick.labelsize\\\": 7,\\n    \\\"xtick.labelsize\\\": 7,\\n    \\\"figure.dpi\\\": 300,\\n    \\\"axes.prop_cycle\\\": plt.cycler(\\\"color\\\", plt.cm.viridis(np.linspace(0, 1, 6))),\\n}\\nplt.rcParams.update(params)\\n\\ndf_total = pd.read_csv(\\\"df_total.csv\\\", index_col=0).rename(\\n    columns={\\\"Unnamed: 0\\\": \\\"index\\\"}\\n)\\n\\nfor c in [\\n    \\\"ghost1Pos\\\",\\n    \\\"ghost2Pos\\\",\\n    \\\"pacmanPos\\\",\\n    \\\"nearrwdPos\\\",\\n    \\\"before_last\\\",\\n    \\\"after_first\\\",\\n    \\\"pos\\\",\\n    \\\"previousPos\\\",\\n    \\\"possible_dirs\\\",\\n    \\\"next_eat_rwd\\\",\\n    \\\"nearbean_dir\\\",\\n    \\\"energizers\\\",\\n    \\\"ghost1_wrt_pacman\\\",\\n    \\\"energizers_start\\\",\\n    \\\"beans\\\",\\n    \\\"next_cross\\\",\\n    \\\"next_possible_dir\\\",\\n]:\\n    df_total[c] = df_total[c].apply(lambda x: eval(x) if isinstance(x, str) else np.nan)\\n\\nlast_trials = [\\n    sorted(group)[-1]\\n    for idx, group in groupby(\\n        df_total.file.unique(),\\n        key=lambda i: str(i.split(\\\"-\\\")[0]) + \\\"-\\\" + \\\"-\\\".join(i.split(\\\"-\\\")[2:]),\\n    )\\n]\\n\\nindexes = [list(i) for i in consecutive_groups(df_total[df_total.ifscared1 >= 3].index)]\\nindexes_filtered = [i for i in indexes if (df_total.loc[i, \\\"ifscared1\\\"] == 3).sum() > 0]\\nscared_to_eaten = [\\n    list(\\n        range(\\n            i[0],\\n            df_total.loc[i, \\\"ifscared1\\\"].where(lambda x: x == 3).dropna().index[0] + 1,\\n        )\\n    )\\n    for i in indexes_filtered\\n]\\n\\nfor l in scared_to_eaten:\\n    mask = (\\n        df_total.loc[l, \\\"status_h1\\\"]\\n        .groupby(df_total.loc[l, \\\"status_h1\\\"].diff().ne(0).cumsum())\\n        .transform(\\\"size\\\")\\n        .lt(3)\\n    )\\n    df_total.loc[l, \\\"status_h1\\\"] = (\\n        df_total.loc[l, \\\"status_h1\\\"].mask(mask).fillna(method=\\\"ffill\\\").fillna(1)\\n    )\\n\\nfrom_last_peak = [\\n    list(\\n        range(\\n            df_total.loc[i, \\\"distance1\\\"]\\n            .diff()\\n            .where(lambda x: x > 0)\\n            .dropna()\\n            .index[-1],\\n            i[-1] + 1,\\n        )\\n    )\\n    if len(df_total.loc[i, \\\"distance1\\\"].diff().where(lambda x: x > 0).dropna().index)\\n    > 0\\n    else i\\n    for i in scared_to_eaten\\n]  ## scared\\u7684\\u60c5\\u51b5\\u4e0b\\uff0c\\u4ece\\u6700\\u540e\\u4e00\\u4e2a\\u5cf0\\u503c\\u5230\\u6700\\u540e\\u4e00\\u4e2a\\u70b9\\n\\n# Process_dict = {}\\n# Rewards_dict = {}\\n# path = \\\"DataHMM/\\\"\\n# for d in os.listdir(path):\\n#     if \\\"Omega\\\" in d:\\n#         Process_dict = take_record_df(path + d, Process_dict)\\n#         Rewards_dict = take_reward_df(\\n#             path + d + \\\"/Rewards/\\\", Process_dict, Rewards_dict\\n#         )\\n\\n# pickle.dump(Rewards_dict, open(\\\"Rewards_dict.p\\\", \\\"wb\\\"))\\n# pickle.dump(Process_dict, open(\\\"Process_dict.p\\\", \\\"wb\\\"))\\nRewards_dict = pickle.load(open(\\\"Rewards_dict.p\\\", \\\"rb\\\"))\\nProcess_dict = pickle.load(open(\\\"Process_dict.p\\\", \\\"rb\\\"))\\n\\nreward_dfs = pd.concat(Rewards_dict.values())\\nreward_dfs = reward_dfs.assign(\\n    file=reward_dfs.DayTrial + \\\".csv\\\", rwdpos=tuple_list(reward_dfs[[\\\"X\\\", \\\"Y\\\"]].values)\\n)\\n\\nreward_collective = (\\n    reward_dfs.groupby([\\\"file\\\", \\\"Step\\\"])\\n    .apply(lambda x: x.rwdpos.tolist())\\n    .reset_index()\\n).rename(columns={0: \\\"beans\\\"})\\n\\nreward_collective_global = (\\n    (\\n        reward_dfs.merge(\\n            map_info[[\\\"pos\\\", \\\"pos_global\\\"]],\\n            left_on=\\\"rwdpos\\\",\\n            right_on=\\\"pos\\\",\\n            how=\\\"left\\\",\\n        )\\n        .groupby([\\\"file\\\", \\\"Step\\\"])\\n        .apply(lambda x: list(x.pos_global))\\n    )\\n    .rename(\\\"beans_global\\\")\\n    .reset_index()\\n)\";\n",
       "                var nbb_cells = Jupyter.notebook.get_cells();\n",
       "                for (var i = 0; i < nbb_cells.length; ++i) {\n",
       "                    if (nbb_cells[i].input_prompt_number == nbb_cell_id) {\n",
       "                        if (nbb_cells[i].get_text() == nbb_unformatted_code) {\n",
       "                             nbb_cells[i].set_text(nbb_formatted_code);\n",
       "                        }\n",
       "                        break;\n",
       "                    }\n",
       "                }\n",
       "            }, 500);\n",
       "            "
      ],
      "text/plain": [
       "<IPython.core.display.Javascript object>"
      ]
     },
     "metadata": {},
     "output_type": "display_data"
    }
   ],
   "source": [
    "from IPython.core.debugger import set_trace\n",
    "from networkx.algorithms.shortest_paths.generic import all_shortest_paths\n",
    "from scipy.stats import variation\n",
    "\n",
    "\n",
    "params = {\n",
    "    \"legend.fontsize\": \"medium\",\n",
    "    \"ytick.labelsize\": 7,\n",
    "    \"xtick.labelsize\": 7,\n",
    "    \"figure.dpi\": 300,\n",
    "    \"axes.prop_cycle\": plt.cycler(\"color\", plt.cm.viridis(np.linspace(0, 1, 6))),\n",
    "}\n",
    "plt.rcParams.update(params)\n",
    "\n",
    "df_total = pd.read_csv(\"df_total.csv\", index_col=0).rename(\n",
    "    columns={\"Unnamed: 0\": \"index\"}\n",
    ")\n",
    "\n",
    "for c in [\n",
    "    \"ghost1Pos\",\n",
    "    \"ghost2Pos\",\n",
    "    \"pacmanPos\",\n",
    "    \"nearrwdPos\",\n",
    "    \"before_last\",\n",
    "    \"after_first\",\n",
    "    \"pos\",\n",
    "    \"previousPos\",\n",
    "    \"possible_dirs\",\n",
    "    \"next_eat_rwd\",\n",
    "    \"nearbean_dir\",\n",
    "    \"energizers\",\n",
    "    \"ghost1_wrt_pacman\",\n",
    "    \"energizers_start\",\n",
    "    \"beans\",\n",
    "    \"next_cross\",\n",
    "    \"next_possible_dir\",\n",
    "]:\n",
    "    df_total[c] = df_total[c].apply(lambda x: eval(x) if isinstance(x, str) else np.nan)\n",
    "\n",
    "last_trials = [\n",
    "    sorted(group)[-1]\n",
    "    for idx, group in groupby(\n",
    "        df_total.file.unique(),\n",
    "        key=lambda i: str(i.split(\"-\")[0]) + \"-\" + \"-\".join(i.split(\"-\")[2:]),\n",
    "    )\n",
    "]\n",
    "\n",
    "indexes = [list(i) for i in consecutive_groups(df_total[df_total.ifscared1 >= 3].index)]\n",
    "indexes_filtered = [i for i in indexes if (df_total.loc[i, \"ifscared1\"] == 3).sum() > 0]\n",
    "scared_to_eaten = [\n",
    "    list(\n",
    "        range(\n",
    "            i[0],\n",
    "            df_total.loc[i, \"ifscared1\"].where(lambda x: x == 3).dropna().index[0] + 1,\n",
    "        )\n",
    "    )\n",
    "    for i in indexes_filtered\n",
    "]\n",
    "\n",
    "for l in scared_to_eaten:\n",
    "    mask = (\n",
    "        df_total.loc[l, \"status_h1\"]\n",
    "        .groupby(df_total.loc[l, \"status_h1\"].diff().ne(0).cumsum())\n",
    "        .transform(\"size\")\n",
    "        .lt(3)\n",
    "    )\n",
    "    df_total.loc[l, \"status_h1\"] = (\n",
    "        df_total.loc[l, \"status_h1\"].mask(mask).fillna(method=\"ffill\").fillna(1)\n",
    "    )\n",
    "\n",
    "from_last_peak = [\n",
    "    list(\n",
    "        range(\n",
    "            df_total.loc[i, \"distance1\"]\n",
    "            .diff()\n",
    "            .where(lambda x: x > 0)\n",
    "            .dropna()\n",
    "            .index[-1],\n",
    "            i[-1] + 1,\n",
    "        )\n",
    "    )\n",
    "    if len(df_total.loc[i, \"distance1\"].diff().where(lambda x: x > 0).dropna().index)\n",
    "    > 0\n",
    "    else i\n",
    "    for i in scared_to_eaten\n",
    "]  ## scared的情况下，从最后一个峰值到最后一个点\n",
    "\n",
    "# Process_dict = {}\n",
    "# Rewards_dict = {}\n",
    "# path = \"DataHMM/\"\n",
    "# for d in os.listdir(path):\n",
    "#     if \"Omega\" in d:\n",
    "#         Process_dict = take_record_df(path + d, Process_dict)\n",
    "#         Rewards_dict = take_reward_df(\n",
    "#             path + d + \"/Rewards/\", Process_dict, Rewards_dict\n",
    "#         )\n",
    "\n",
    "# pickle.dump(Rewards_dict, open(\"Rewards_dict.p\", \"wb\"))\n",
    "# pickle.dump(Process_dict, open(\"Process_dict.p\", \"wb\"))\n",
    "Rewards_dict = pickle.load(open(\"Rewards_dict.p\", \"rb\"))\n",
    "Process_dict = pickle.load(open(\"Process_dict.p\", \"rb\"))\n",
    "\n",
    "reward_dfs = pd.concat(Rewards_dict.values())\n",
    "reward_dfs = reward_dfs.assign(\n",
    "    file=reward_dfs.DayTrial + \".csv\", rwdpos=tuple_list(reward_dfs[[\"X\", \"Y\"]].values)\n",
    ")\n",
    "\n",
    "reward_collective = (\n",
    "    reward_dfs.groupby([\"file\", \"Step\"])\n",
    "    .apply(lambda x: x.rwdpos.tolist())\n",
    "    .reset_index()\n",
    ").rename(columns={0: \"beans\"})\n",
    "\n",
    "reward_collective_global = (\n",
    "    (\n",
    "        reward_dfs.merge(\n",
    "            map_info[[\"pos\", \"pos_global\"]],\n",
    "            left_on=\"rwdpos\",\n",
    "            right_on=\"pos\",\n",
    "            how=\"left\",\n",
    "        )\n",
    "        .groupby([\"file\", \"Step\"])\n",
    "        .apply(lambda x: list(x.pos_global))\n",
    "    )\n",
    "    .rename(\"beans_global\")\n",
    "    .reset_index()\n",
    ")"
   ]
  },
  {
   "cell_type": "code",
   "execution_count": null,
   "metadata": {},
   "outputs": [],
   "source": [
    "# import tarfile\n",
    "\n",
    "# my_tar = tarfile.open(\"DataHMM.tar.xz\")\n",
    "# my_tar.extractall(\"DataHMM_fruit/\")\n",
    "\n",
    "# Process_dict = {}\n",
    "# Rewards_dict = {}\n",
    "# path = \"DataHMM_fruit/DataHMM/\"\n",
    "# for d in [\n",
    "#     \"Omega-25-Jun-2019-1\",\n",
    "#     \"Omega-16-Jul-2019-1\",\n",
    "#     \"Omega-04-Jul-2019-1\",\n",
    "#     \"Omega-15-Jul-2019-1\",\n",
    "#     \"Omega-21-Aug-2019-1\",\n",
    "#     \"Omega-19-Jun-2019-3\",\n",
    "#     \"Omega-11-Jun-2019-1\",\n",
    "#     \"Omega-13-Aug-2019-1\",\n",
    "#     \"Omega-18-Jul-2019-2\",\n",
    "#     \"Omega-22-Jul-2019-1\",\n",
    "#     \"Omega-28-Aug-2019-1\",\n",
    "#     \"Omega-27-Jun-2019-1\",\n",
    "#     \"Omega-30-Aug-2019-1\",\n",
    "# ]:\n",
    "#     Process_dict = take_record_df(path + d, Process_dict)\n",
    "#     Rewards_dict = take_reward_df(path + d + \"/Rewards/\", Process_dict, Rewards_dict)\n",
    "\n",
    "# pickle.dump(Rewards_dict, open(\"Rewards_dict.p\", \"wb\"))"
   ]
  },
  {
   "cell_type": "code",
   "execution_count": 3,
   "metadata": {},
   "outputs": [],
   "source": [
    "# df_total = df_total.merge(\n",
    "#     reward_collective, left_on=[\"file\", \"index\"], right_on=[\"file\", \"Step\"], how=\"left\"\n",
    "# )\n",
    "\n",
    "# reward_collective[\"beans_shift\"] = reward_collective.beans.shift(1)\n",
    "# reward_collective[\"next_eat_rwd1\"] = reward_collective.apply(\n",
    "#     lambda x: list(set(x.beans_shift) - set(x.beans))[0]\n",
    "#     if not isinstance(x.beans_shift, float)\n",
    "#     and len(list(set(x.beans_shift) - set(x.beans))) > 0\n",
    "#     else np.nan,\n",
    "#     1,\n",
    "# )\n",
    "# df_total = (\n",
    "#     df_total.groupby(\"file\")\n",
    "#     .apply(ghost_dir)\n",
    "#     .merge(\n",
    "#         reward_collective[[\"file\", \"Step\", \"next_eat_rwd1\"]],\n",
    "#         right_on=[\"file\", \"Step\"],\n",
    "#         left_on=[\"file\", \"index\"],\n",
    "#         how=\"left\",\n",
    "#     )\n",
    "#     .drop(columns=\"next_eat_rwd\")\n",
    "#     .rename(columns={\"next_eat_rwd1\": \"next_eat_rwd\"})\n",
    "# )\n",
    "\n",
    "# # df_total[\"energizers_shift\"] = df_total.energizers.shift()\n",
    "\n",
    "# df_total = df_total.merge(\n",
    "#     df_total.groupby(\"file\")\n",
    "#     .energizers.first()\n",
    "#     .rename(\"energizers_start\")\n",
    "#     .reset_index(),\n",
    "#     on=\"file\",\n",
    "#     how=\"left\",\n",
    "# )\n",
    "\n",
    "# df_total[\"indicates\"] = (\n",
    "#     pd.Series(df_total.index)\n",
    "#     .mask(\n",
    "#         ~df_total.apply(\n",
    "#             lambda x: x.next_eat_rwd in x.energizers_start\n",
    "#             if not isinstance(x.next_eat_rwd, float)\n",
    "#             and not isinstance(x.energizers_start, float)\n",
    "#             else False,\n",
    "#             1,\n",
    "#         )\n",
    "#     )\n",
    "#     .fillna(method=\"ffill\")\n",
    "# )\n",
    "# df_total[\"remain_scared_time1\"] = df_total[\"remain_scared_time2\"] = 34 - (\n",
    "#     df_total.index - df_total[\"indicates\"]\n",
    "# )\n",
    "\n",
    "# df_total.loc[df_total.ifscared1 <= 3, \"remain_scared_time1\"] = np.nan\n",
    "# df_total.loc[df_total.ifscared2 <= 3, \"remain_scared_time2\"] = np.nan"
   ]
  },
  {
   "cell_type": "markdown",
   "metadata": {},
   "source": [
    "## when ghosts are scared, eat beans or chase ghosts?"
   ]
  },
  {
   "cell_type": "code",
   "execution_count": 4,
   "metadata": {},
   "outputs": [
    {
     "ename": "NameError",
     "evalue": "name 'pd' is not defined",
     "output_type": "error",
     "traceback": [
      "\u001b[1;31m---------------------------------------------------------------------------\u001b[0m",
      "\u001b[1;31mNameError\u001b[0m                                 Traceback (most recent call last)",
      "\u001b[1;32m<ipython-input-4-27c0cb9988b4>\u001b[0m in \u001b[0;36m<module>\u001b[1;34m\u001b[0m\n\u001b[1;32m----> 1\u001b[1;33m \u001b[0mget_ipython\u001b[0m\u001b[1;33m(\u001b[0m\u001b[1;33m)\u001b[0m\u001b[1;33m.\u001b[0m\u001b[0mrun_cell_magic\u001b[0m\u001b[1;33m(\u001b[0m\u001b[1;34m'timeit'\u001b[0m\u001b[1;33m,\u001b[0m \u001b[1;34m''\u001b[0m\u001b[1;33m,\u001b[0m \u001b[1;34m'# 1 chasing pacman, 2 going corner, 3 dead ghosts (include ghosts are being eaten)\\n# 4 scared ghosts, 5 flash scared ghosts\\ndf_total = pd.DataFrame()\\nfor sel_file in Process_dict.keys():\\n    df_explore = (\\n        Process_dict[sel_file]\\n        .merge(\\n            locs_df,\\n            left_on=[\"pacmanPos\", \"ghost1Pos\"],\\n            right_on=[\"pos1\", \"pos2\"],\\n            how=\"left\",\\n        )\\n        .drop([\"pos1\", \"pos2\"], 1)\\n        .rename(columns={\"dis\": \"distance1\"})\\n        .merge(\\n            locs_df,\\n            left_on=[\"pacmanPos\", \"ghost2Pos\"],\\n            right_on=[\"pos1\", \"pos2\"],\\n            how=\"left\",\\n        )\\n        .drop([\"pos1\", \"pos2\"], 1)\\n        .rename(columns={\"dis\": \"distance2\"})\\n    ).fillna(0)\\n\\n    reward_sel = Rewards_dict[sel_file]\\n    df_explore = pd.concat(\\n        [\\n            reward_sel.groupby(\"Step\").count().X.rename(\"rwd_cnt\"),\\n            add_nearest_pts_dis(df_explore, reward_sel),\\n        ],\\n        axis=1,\\n    )\\n\\n    for w in [\"1\", \"2\"]:\\n        df_explore = (\\n            df_explore.reset_index()\\n            .merge(\\n                locs_df,\\n                left_on=[\"ghost\" + w + \"Pos\", \"nearrwdPos\"],\\n                right_on=[\"pos1\", \"pos2\"],\\n                how=\"left\",\\n            )\\n            .drop(columns=[\"pos1\", \"pos2\"])\\n            .rename(columns={\"dis\": \"ghost\" + w + \"_bean_dis\"})\\n            .set_index(\"index\")\\n        )\\n        df_explore[\"route_bean\" + w] = (\\n            df_explore[\"ghost\" + w + \"_bean_dis\"] + df_explore[\"rwd_pac_distance\"]\\n            <= df_explore[\"distance\" + w]\\n        )\\n\\n    try:\\n        st = suicide_df[suicide_df.file == sel_file.split(\".\")[0]].actual.values[0]\\n        df_explore.loc[st:, \"status_s\"] = 1\\n        df_explore.status_s = df_explore.status_s.fillna(0)\\n    except:\\n        pass\\n\\n    # label graze and hunt\\n    df_explore = pacman_dir(\\n        evade(hunt(graze(pacman_chase_ghost(df_explore.dropna(subset=[\"pacmanPos\"])))))\\n    )\\n    df_explore[\"file\"] = sel_file\\n\\n    df_total = df_total.append(df_explore)\\n\\ndf_total.loc[\\n    (df_total.ifscared1 >= 3)\\n    | (df_total.distance1 >= 15)\\n    | (df_total.pac_to_ghost1 == True),\\n    \"status_e1\",\\n] = 0\\n\\ndf_total.loc[\\n    (df_total.ifscared2 >= 3)\\n    | (df_total.distance2 >= 15)\\n    | (df_total.pac_to_ghost2 == True),\\n    \"status_e2\",\\n] = 0\\n\\n# df_total.handler.replace(\\n#     {0: \"None\", 1: \"up\", 2: \"down\", 3: \"left\", 4: \"right\"}, inplace=True\\n# )\\n'\u001b[0m\u001b[1;33m)\u001b[0m\u001b[1;33m\u001b[0m\u001b[1;33m\u001b[0m\u001b[0m\n\u001b[0m",
      "\u001b[1;32mD:\\Miniconda3\\lib\\site-packages\\IPython\\core\\interactiveshell.py\u001b[0m in \u001b[0;36mrun_cell_magic\u001b[1;34m(self, magic_name, line, cell)\u001b[0m\n\u001b[0;32m   2357\u001b[0m             \u001b[1;32mwith\u001b[0m \u001b[0mself\u001b[0m\u001b[1;33m.\u001b[0m\u001b[0mbuiltin_trap\u001b[0m\u001b[1;33m:\u001b[0m\u001b[1;33m\u001b[0m\u001b[1;33m\u001b[0m\u001b[0m\n\u001b[0;32m   2358\u001b[0m                 \u001b[0margs\u001b[0m \u001b[1;33m=\u001b[0m \u001b[1;33m(\u001b[0m\u001b[0mmagic_arg_s\u001b[0m\u001b[1;33m,\u001b[0m \u001b[0mcell\u001b[0m\u001b[1;33m)\u001b[0m\u001b[1;33m\u001b[0m\u001b[1;33m\u001b[0m\u001b[0m\n\u001b[1;32m-> 2359\u001b[1;33m                 \u001b[0mresult\u001b[0m \u001b[1;33m=\u001b[0m \u001b[0mfn\u001b[0m\u001b[1;33m(\u001b[0m\u001b[1;33m*\u001b[0m\u001b[0margs\u001b[0m\u001b[1;33m,\u001b[0m \u001b[1;33m**\u001b[0m\u001b[0mkwargs\u001b[0m\u001b[1;33m)\u001b[0m\u001b[1;33m\u001b[0m\u001b[1;33m\u001b[0m\u001b[0m\n\u001b[0m\u001b[0;32m   2360\u001b[0m             \u001b[1;32mreturn\u001b[0m \u001b[0mresult\u001b[0m\u001b[1;33m\u001b[0m\u001b[1;33m\u001b[0m\u001b[0m\n\u001b[0;32m   2361\u001b[0m \u001b[1;33m\u001b[0m\u001b[0m\n",
      "\u001b[1;32m<D:\\Miniconda3\\lib\\site-packages\\decorator.py:decorator-gen-61>\u001b[0m in \u001b[0;36mtimeit\u001b[1;34m(self, line, cell, local_ns)\u001b[0m\n",
      "\u001b[1;32mD:\\Miniconda3\\lib\\site-packages\\IPython\\core\\magic.py\u001b[0m in \u001b[0;36m<lambda>\u001b[1;34m(f, *a, **k)\u001b[0m\n\u001b[0;32m    185\u001b[0m     \u001b[1;31m# but it's overkill for just that one bit of state.\u001b[0m\u001b[1;33m\u001b[0m\u001b[1;33m\u001b[0m\u001b[1;33m\u001b[0m\u001b[0m\n\u001b[0;32m    186\u001b[0m     \u001b[1;32mdef\u001b[0m \u001b[0mmagic_deco\u001b[0m\u001b[1;33m(\u001b[0m\u001b[0marg\u001b[0m\u001b[1;33m)\u001b[0m\u001b[1;33m:\u001b[0m\u001b[1;33m\u001b[0m\u001b[1;33m\u001b[0m\u001b[0m\n\u001b[1;32m--> 187\u001b[1;33m         \u001b[0mcall\u001b[0m \u001b[1;33m=\u001b[0m \u001b[1;32mlambda\u001b[0m \u001b[0mf\u001b[0m\u001b[1;33m,\u001b[0m \u001b[1;33m*\u001b[0m\u001b[0ma\u001b[0m\u001b[1;33m,\u001b[0m \u001b[1;33m**\u001b[0m\u001b[0mk\u001b[0m\u001b[1;33m:\u001b[0m \u001b[0mf\u001b[0m\u001b[1;33m(\u001b[0m\u001b[1;33m*\u001b[0m\u001b[0ma\u001b[0m\u001b[1;33m,\u001b[0m \u001b[1;33m**\u001b[0m\u001b[0mk\u001b[0m\u001b[1;33m)\u001b[0m\u001b[1;33m\u001b[0m\u001b[1;33m\u001b[0m\u001b[0m\n\u001b[0m\u001b[0;32m    188\u001b[0m \u001b[1;33m\u001b[0m\u001b[0m\n\u001b[0;32m    189\u001b[0m         \u001b[1;32mif\u001b[0m \u001b[0mcallable\u001b[0m\u001b[1;33m(\u001b[0m\u001b[0marg\u001b[0m\u001b[1;33m)\u001b[0m\u001b[1;33m:\u001b[0m\u001b[1;33m\u001b[0m\u001b[1;33m\u001b[0m\u001b[0m\n",
      "\u001b[1;32mD:\\Miniconda3\\lib\\site-packages\\IPython\\core\\magics\\execution.py\u001b[0m in \u001b[0;36mtimeit\u001b[1;34m(self, line, cell, local_ns)\u001b[0m\n\u001b[0;32m   1156\u001b[0m             \u001b[1;32mfor\u001b[0m \u001b[0mindex\u001b[0m \u001b[1;32min\u001b[0m \u001b[0mrange\u001b[0m\u001b[1;33m(\u001b[0m\u001b[1;36m0\u001b[0m\u001b[1;33m,\u001b[0m \u001b[1;36m10\u001b[0m\u001b[1;33m)\u001b[0m\u001b[1;33m:\u001b[0m\u001b[1;33m\u001b[0m\u001b[1;33m\u001b[0m\u001b[0m\n\u001b[0;32m   1157\u001b[0m                 \u001b[0mnumber\u001b[0m \u001b[1;33m=\u001b[0m \u001b[1;36m10\u001b[0m \u001b[1;33m**\u001b[0m \u001b[0mindex\u001b[0m\u001b[1;33m\u001b[0m\u001b[1;33m\u001b[0m\u001b[0m\n\u001b[1;32m-> 1158\u001b[1;33m                 \u001b[0mtime_number\u001b[0m \u001b[1;33m=\u001b[0m \u001b[0mtimer\u001b[0m\u001b[1;33m.\u001b[0m\u001b[0mtimeit\u001b[0m\u001b[1;33m(\u001b[0m\u001b[0mnumber\u001b[0m\u001b[1;33m)\u001b[0m\u001b[1;33m\u001b[0m\u001b[1;33m\u001b[0m\u001b[0m\n\u001b[0m\u001b[0;32m   1159\u001b[0m                 \u001b[1;32mif\u001b[0m \u001b[0mtime_number\u001b[0m \u001b[1;33m>=\u001b[0m \u001b[1;36m0.2\u001b[0m\u001b[1;33m:\u001b[0m\u001b[1;33m\u001b[0m\u001b[1;33m\u001b[0m\u001b[0m\n\u001b[0;32m   1160\u001b[0m                     \u001b[1;32mbreak\u001b[0m\u001b[1;33m\u001b[0m\u001b[1;33m\u001b[0m\u001b[0m\n",
      "\u001b[1;32mD:\\Miniconda3\\lib\\site-packages\\IPython\\core\\magics\\execution.py\u001b[0m in \u001b[0;36mtimeit\u001b[1;34m(self, number)\u001b[0m\n\u001b[0;32m    167\u001b[0m         \u001b[0mgc\u001b[0m\u001b[1;33m.\u001b[0m\u001b[0mdisable\u001b[0m\u001b[1;33m(\u001b[0m\u001b[1;33m)\u001b[0m\u001b[1;33m\u001b[0m\u001b[1;33m\u001b[0m\u001b[0m\n\u001b[0;32m    168\u001b[0m         \u001b[1;32mtry\u001b[0m\u001b[1;33m:\u001b[0m\u001b[1;33m\u001b[0m\u001b[1;33m\u001b[0m\u001b[0m\n\u001b[1;32m--> 169\u001b[1;33m             \u001b[0mtiming\u001b[0m \u001b[1;33m=\u001b[0m \u001b[0mself\u001b[0m\u001b[1;33m.\u001b[0m\u001b[0minner\u001b[0m\u001b[1;33m(\u001b[0m\u001b[0mit\u001b[0m\u001b[1;33m,\u001b[0m \u001b[0mself\u001b[0m\u001b[1;33m.\u001b[0m\u001b[0mtimer\u001b[0m\u001b[1;33m)\u001b[0m\u001b[1;33m\u001b[0m\u001b[1;33m\u001b[0m\u001b[0m\n\u001b[0m\u001b[0;32m    170\u001b[0m         \u001b[1;32mfinally\u001b[0m\u001b[1;33m:\u001b[0m\u001b[1;33m\u001b[0m\u001b[1;33m\u001b[0m\u001b[0m\n\u001b[0;32m    171\u001b[0m             \u001b[1;32mif\u001b[0m \u001b[0mgcold\u001b[0m\u001b[1;33m:\u001b[0m\u001b[1;33m\u001b[0m\u001b[1;33m\u001b[0m\u001b[0m\n",
      "\u001b[1;32m<magic-timeit>\u001b[0m in \u001b[0;36minner\u001b[1;34m(_it, _timer)\u001b[0m\n",
      "\u001b[1;31mNameError\u001b[0m: name 'pd' is not defined"
     ]
    }
   ],
   "source": [
    "%%timeit\n",
    "# 1 chasing pacman, 2 going corner, 3 dead ghosts (include ghosts are being eaten)\n",
    "# 4 scared ghosts, 5 flash scared ghosts\n",
    "df_total = pd.DataFrame()\n",
    "for sel_file in Process_dict.keys():\n",
    "    df_explore = (\n",
    "        Process_dict[sel_file]\n",
    "        .merge(\n",
    "            locs_df,\n",
    "            left_on=[\"pacmanPos\", \"ghost1Pos\"],\n",
    "            right_on=[\"pos1\", \"pos2\"],\n",
    "            how=\"left\",\n",
    "        )\n",
    "        .drop([\"pos1\", \"pos2\"], 1)\n",
    "        .rename(columns={\"dis\": \"distance1\"})\n",
    "        .merge(\n",
    "            locs_df,\n",
    "            left_on=[\"pacmanPos\", \"ghost2Pos\"],\n",
    "            right_on=[\"pos1\", \"pos2\"],\n",
    "            how=\"left\",\n",
    "        )\n",
    "        .drop([\"pos1\", \"pos2\"], 1)\n",
    "        .rename(columns={\"dis\": \"distance2\"})\n",
    "    ).fillna(0)\n",
    "\n",
    "    reward_sel = Rewards_dict[sel_file]\n",
    "    df_explore = pd.concat(\n",
    "        [\n",
    "            reward_sel.groupby(\"Step\").count().X.rename(\"rwd_cnt\"),\n",
    "            add_nearest_pts_dis(df_explore, reward_sel),\n",
    "        ],\n",
    "        axis=1,\n",
    "    )\n",
    "\n",
    "    for w in [\"1\", \"2\"]:\n",
    "        df_explore = (\n",
    "            df_explore.reset_index()\n",
    "            .merge(\n",
    "                locs_df,\n",
    "                left_on=[\"ghost\" + w + \"Pos\", \"nearrwdPos\"],\n",
    "                right_on=[\"pos1\", \"pos2\"],\n",
    "                how=\"left\",\n",
    "            )\n",
    "            .drop(columns=[\"pos1\", \"pos2\"])\n",
    "            .rename(columns={\"dis\": \"ghost\" + w + \"_bean_dis\"})\n",
    "            .set_index(\"index\")\n",
    "        )\n",
    "        df_explore[\"route_bean\" + w] = (\n",
    "            df_explore[\"ghost\" + w + \"_bean_dis\"] + df_explore[\"rwd_pac_distance\"]\n",
    "            <= df_explore[\"distance\" + w]\n",
    "        )\n",
    "\n",
    "    try:\n",
    "        st = suicide_df[suicide_df.file == sel_file.split(\".\")[0]].actual.values[0]\n",
    "        df_explore.loc[st:, \"status_s\"] = 1\n",
    "        df_explore.status_s = df_explore.status_s.fillna(0)\n",
    "    except:\n",
    "        pass\n",
    "\n",
    "    # label graze and hunt\n",
    "    df_explore = pacman_dir(\n",
    "        evade(hunt(graze(pacman_chase_ghost(df_explore.dropna(subset=[\"pacmanPos\"])))))\n",
    "    )\n",
    "    df_explore[\"file\"] = sel_file\n",
    "\n",
    "    df_total = df_total.append(df_explore)\n",
    "\n",
    "df_total.loc[\n",
    "    (df_total.ifscared1 >= 3)\n",
    "    | (df_total.distance1 >= 15)\n",
    "    | (df_total.pac_to_ghost1 == True),\n",
    "    \"status_e1\",\n",
    "] = 0\n",
    "\n",
    "df_total.loc[\n",
    "    (df_total.ifscared2 >= 3)\n",
    "    | (df_total.distance2 >= 15)\n",
    "    | (df_total.pac_to_ghost2 == True),\n",
    "    \"status_e2\",\n",
    "] = 0\n",
    "\n",
    "# df_total.handler.replace(\n",
    "#     {0: \"None\", 1: \"up\", 2: \"down\", 3: \"left\", 4: \"right\"}, inplace=True\n",
    "# )"
   ]
  },
  {
   "cell_type": "markdown",
   "metadata": {},
   "source": [
    "## 修补异常值，保持一个状态的连续性"
   ]
  },
  {
   "cell_type": "code",
   "execution_count": null,
   "metadata": {},
   "outputs": [],
   "source": [
    "for c in [\"status_g\", \"status_h1\", \"status_h2\", \"status_e1\", \"status_e2\"]:\n",
    "    target_idx = (df_total[c] != df_total[c].shift(1)) & (\n",
    "        df_total[c] != df_total[c].shift(-1)\n",
    "    )\n",
    "    target_idx[0] = False\n",
    "    df_total.loc[target_idx, c] = df_total.loc[\n",
    "        target_idx.shift(-1).fillna(False), c\n",
    "    ].values"
   ]
  },
  {
   "cell_type": "markdown",
   "metadata": {},
   "source": [
    "## 把两个鬼的距离和hunt的状态合并"
   ]
  },
  {
   "cell_type": "code",
   "execution_count": null,
   "metadata": {},
   "outputs": [],
   "source": [
    "rwd_dfs = pd.DataFrame()\n",
    "for f in Rewards_dict.values():\n",
    "    rwd_dfs = rwd_dfs.append(\n",
    "        f.groupby([\"Step\", \"DayTrial\"])\n",
    "        .sum()\n",
    "        .Reward.diff()\n",
    "        .where(lambda x: x == -2)\n",
    "        .dropna()\n",
    "        .reset_index()[[\"Step\", \"DayTrial\"]]\n",
    "    ).append(pd.DataFrame({\"Step\": 0, \"DayTrial\": f.DayTrial[0]}, index=[0]))\n",
    "rwd_dfs = rwd_dfs.assign(DayTrial=np.array(rwd_dfs.DayTrial.values) + \".csv\")\n",
    "\n",
    "df_aa = df_total.merge(rwd_dfs, left_on=\"file\", right_on=\"DayTrial\", how=\"left\")\n",
    "df_aa = (\n",
    "    df_aa[df_aa[\"index\"] >= df_aa.Step]\n",
    "    .groupby([\"file\", \"index\"])[\"Step\"]\n",
    "    .max()\n",
    "    .reset_index()\n",
    "    .merge(df_total, on=[\"file\", \"index\"])\n",
    ")\n",
    "\n",
    "df_total[\"scared_time1\"] = (\n",
    "    (df_aa[\"index\"] - df_aa[\"Step\"] + 1).where(lambda x: df_aa[\"ifscared1\"] == 4).values\n",
    ")\n",
    "df_total[\"scared_time2\"] = (\n",
    "    (df_aa[\"index\"] - df_aa[\"Step\"] + 1).where(lambda x: df_aa[\"ifscared2\"] == 4).values\n",
    ")\n",
    "\n",
    "del df_aa"
   ]
  },
  {
   "cell_type": "code",
   "execution_count": null,
   "metadata": {},
   "outputs": [],
   "source": [
    "df_total[\"distance_hunt\"], df_total[\"status_h\"], df_total[\"scared_time\"] = zip(\n",
    "    *df_total.apply(combine_hunt, 1)\n",
    ")\n",
    "df_total[\"distance_evade\"], df_total[\"status_e\"] = zip(\n",
    "    *df_total.apply(combine_evade, 1)\n",
    ")"
   ]
  },
  {
   "cell_type": "markdown",
   "metadata": {},
   "source": [
    "## Decision Tree for Hunt"
   ]
  },
  {
   "cell_type": "code",
   "execution_count": null,
   "metadata": {},
   "outputs": [],
   "source": [
    "w = \"\"\n",
    "df_model = df_total[df_total.ifscared1 == 4]\n",
    "\n",
    "df_model[\"actual\"] = (\n",
    "    df_model[[\"status_g\", \"status_h\" + w]]\n",
    "    .apply(lambda x: \"\".join([str(int(x[0])), str(int(x[1]))]), 1)\n",
    "    .astype(str)\n",
    ")\n",
    "sel_ys = [\"10\", \"01\"]\n",
    "df_model = df_model[df_model.actual.isin(sel_ys)].dropna(\n",
    "    subset=[\"distance_hunt\" + w, \"rwd_pac_distance\"]\n",
    ")\n",
    "X_train, X_test, Y_train, Y_test = train_test_split(\n",
    "    df_model[[\"distance_hunt\" + w, \"rwd_pac_distance\"]],\n",
    "    df_model[\"actual\"],\n",
    "    test_size=0.3,\n",
    "    random_state=0,\n",
    ")\n",
    "clf = DecisionTreeClassifier(max_depth=3, class_weight=\"balanced\", random_state=0)\n",
    "clf.fit(X_train, Y_train)\n",
    "pred = clf.predict(X_test)\n",
    "print(accuracy_score(Y_test, pred))\n",
    "print(recall_score(Y_test, pred, pos_label=\"01\"))\n",
    "print(confusion_matrix(Y_test, pred, labels=sel_ys))\n",
    "\n",
    "w = \"\"\n",
    "fig, ax = plt.subplots(figsize=(30, 10))\n",
    "plot_tree(\n",
    "    clf, ax=ax, fontsize=15, feature_names=X_test.columns, class_names=[\"Hunt\", \"Graze\"]\n",
    ")\n",
    "plt.gca()\n",
    "plt.figure(figsize=(20, 20))"
   ]
  },
  {
   "cell_type": "markdown",
   "metadata": {
    "collapsed": true
   },
   "source": [
    "## 二维可视化decision tree"
   ]
  },
  {
   "cell_type": "code",
   "execution_count": null,
   "metadata": {},
   "outputs": [],
   "source": [
    "from dtreeviz.trees import adjust_colors, ctreeviz_bivar\n",
    "\n",
    "figsize = (6, 5)\n",
    "fig, ax = plt.subplots(1, 1, figsize=figsize)\n",
    "ctreeviz_bivar(\n",
    "    ax,\n",
    "    X_train,\n",
    "    Y_train.replace({\"10\": 1, \"01\": 0}),\n",
    "    max_depth=3,\n",
    "    feature_names=X_test.columns,\n",
    "    class_names=[\"hunt\", \"graze\"],\n",
    "    colors=adjust_colors({\"classes\": [None, None, [\"#C70039\", \"#FFC300\"]]}),\n",
    "    target_name=\"actual\",\n",
    ")\n",
    "plt.tight_layout()\n",
    "# plt.savefig('DT.png')"
   ]
  },
  {
   "cell_type": "markdown",
   "metadata": {},
   "source": [
    "## 预测的准确性画出来: Graze and Hunt"
   ]
  },
  {
   "cell_type": "code",
   "execution_count": null,
   "metadata": {},
   "outputs": [],
   "source": [
    "fig, ax = plt.subplots(figsize=(15, 2))\n",
    "sns.heatmap(\n",
    "    (X_test.iloc[50:100] / X_test.iloc[50:100].sum()).T,\n",
    "    xticklabels=False,\n",
    "    linewidths=1,\n",
    "    vmin=(X_test.iloc[50:100] / X_test.iloc[50:100].sum()).min().min(),\n",
    "    vmax=(X_test.iloc[50:100] / X_test.iloc[50:100].sum()).max().max(),\n",
    "    cbar=False,\n",
    "    square=True,\n",
    ")\n",
    "bottom, top = ax.get_ylim()\n",
    "ax.set_ylim(bottom + 0.5, top - 0.5)\n",
    "plt.yticks(va=\"center\", rotation=0)\n",
    "plt.tick_params(left=False)\n",
    "\n",
    "colors = (plt.cm.Pastel1.colors[7], plt.cm.Pastel1.colors[6])\n",
    "cmap = LinearSegmentedColormap.from_list(\"Custom\", colors, len(colors))\n",
    "\n",
    "fig, ax = plt.subplots(figsize=(15, 2))\n",
    "sns.heatmap(\n",
    "    pd.DataFrame(Y_test.rename(\"actual\").replace({\"01\": 0, \"10\": 1})).iloc[50:100].T,\n",
    "    xticklabels=False,\n",
    "    linewidths=1,\n",
    "    cbar=False,\n",
    "    cmap=cmap,\n",
    "    square=True,\n",
    ")\n",
    "plt.yticks(va=\"center\", rotation=0)\n",
    "plt.tick_params(left=False)\n",
    "\n",
    "fig, ax2 = plt.subplots(figsize=(15, 2))\n",
    "sns.heatmap(\n",
    "    pd.DataFrame(pred, columns=[\"predict\"]).replace({\"01\": 0, \"10\": 1}).iloc[50:100].T,\n",
    "    xticklabels=False,\n",
    "    linewidths=1,\n",
    "    cmap=cmap,\n",
    "    square=True,\n",
    "    cbar_kws={\"orientation\": \"horizontal\"},\n",
    ")\n",
    "plt.yticks(va=\"center\", rotation=0)\n",
    "plt.tick_params(left=False)\n",
    "\n",
    "colorbar = ax2.collections[0].colorbar\n",
    "colorbar.set_ticks([0.25, 0.75])\n",
    "colorbar.set_ticklabels([\"only hunt\", \"only graze\"])\n",
    "colorbar.ax.tick_params(bottom=False)"
   ]
  },
  {
   "cell_type": "markdown",
   "metadata": {},
   "source": [
    "## Decision Tree for Evade"
   ]
  },
  {
   "cell_type": "code",
   "execution_count": null,
   "metadata": {},
   "outputs": [],
   "source": [
    "w = \"1\"\n",
    "df_model = df_total[\n",
    "    (df_total[\"ifscared\" + w] <= 2)\n",
    "    & (df_total[\"distance\" + w] <= 10)\n",
    "    & (df_total[\"route_bean\" + w] == True)\n",
    "    & (df_total[\"toward_each_other\" + w] == True)\n",
    "]\n",
    "\n",
    "ref_df = (\n",
    "    df_model.reset_index()\n",
    "    .groupby([\"file\", df_model.reset_index()[\"index\"] - df_model.reset_index().index])\n",
    "    .max()[\"index\"]\n",
    "    .reset_index()\n",
    "    .drop(\"level_1\", 1)\n",
    ")\n",
    "\n",
    "for idx, item in ref_df.iterrows():\n",
    "    try:\n",
    "        #         if (\n",
    "        #             df_total[df_total.file == item.file].loc[item[\"index\"] + 1, \"distance\" + w]\n",
    "        #             == df_total[df_total.file == item.file].loc[item[\"index\"], \"distance\" + w]\n",
    "        #         ):\n",
    "        #             df_model = df_model.append(\n",
    "        #                 df_total[df_total.file == item[\"file\"]].loc[item[\"index\"] + 1]\n",
    "        #             )\n",
    "        if df_total[df_total.file == item.file].index.max() - item[\"index\"] <= 5:\n",
    "            df_model = df_model.append(\n",
    "                df_total[df_total.file == item[\"file\"]].loc[item[\"index\"] + 1 :, :]\n",
    "            )\n",
    "            ref_df.loc[idx, \"if_last\"] = 1\n",
    "        df_model = df_model.append(\n",
    "            df_total[df_total.file == item[\"file\"]].loc[\n",
    "                item[\"index\"] + 1 : item[\"index\"] + 5, :\n",
    "            ]\n",
    "        )\n",
    "    except:\n",
    "        ref_df.loc[idx, \"if_last\"] = 1"
   ]
  },
  {
   "cell_type": "markdown",
   "metadata": {},
   "source": [
    "## The Great Escape"
   ]
  },
  {
   "cell_type": "markdown",
   "metadata": {},
   "source": [
    "### S2: P 鬼 豆"
   ]
  },
  {
   "cell_type": "code",
   "execution_count": null,
   "metadata": {},
   "outputs": [],
   "source": [
    "## 确认鬼是不是在去豆子的路上\n",
    "df_total.loc[df_total.nearrwdPos.isnull(), \"nearrwdPos\"] = df_total.loc[\n",
    "    df_total.nearrwdPos.isnull(), \"pacmanPos\"\n",
    "]\n",
    "\n",
    "df_total[\"onway2bean1\"] = (\n",
    "    df_total.rwd_pac_distance >= df_total.distance1 + df_total.ghost1_bean_dis\n",
    ")\n",
    "df_total[\"onway2bean2\"] = (\n",
    "    df_total.rwd_pac_distance >= df_total.distance2 + df_total.ghost2_bean_dis\n",
    ")"
   ]
  },
  {
   "cell_type": "code",
   "execution_count": null,
   "metadata": {},
   "outputs": [],
   "source": [
    "## 确认最近的点是不是大点\n",
    "energizers = pd.DataFrame()\n",
    "for f in Rewards_dict.values():\n",
    "    energizers = energizers.append(\n",
    "        f[f.Reward == 2][[\"X\", \"Y\", \"DayTrial\"]].drop_duplicates()\n",
    "    )\n",
    "energizers = energizers.assign(rwd_pos=tuple_list(energizers[[\"X\", \"Y\"]].values))\n",
    "\n",
    "df_total[\"if_energizer\"] = (\n",
    "    ~df_total.merge(\n",
    "        energizers.assign(file=np.array(energizers.DayTrial) + \".csv\"),\n",
    "        right_on=[\"rwd_pos\", \"file\"],\n",
    "        left_on=[\"nearrwdPos\", \"file\"],\n",
    "        how=\"left\",\n",
    "    )\n",
    "    .rwd_pos.isnull()\n",
    "    .values\n",
    ")"
   ]
  },
  {
   "cell_type": "code",
   "execution_count": null,
   "metadata": {},
   "outputs": [],
   "source": [
    "with open(\"ten_points_pac.json\", \"r\") as f:\n",
    "    ten_points_pac = json.load(f)\n",
    "\n",
    "df_model = df_total[\n",
    "    (df_total.ifscared1 <= 2)\n",
    "    & (df_total.rwd_pac_distance <= 15)\n",
    "    & (df_total[\"onway2bean1\"] == True)\n",
    "    & (df_total[\"if_energizer\"] == False)\n",
    "]\n",
    "\n",
    "for idx, item in ten_points_pac.items():\n",
    "    df_model = df_model.loc[\n",
    "        ~((df_model.file == idx + \".csv\") & (df_model.index.isin(item))), :\n",
    "    ]\n",
    "\n",
    "df_model = df_model.assign(\n",
    "    level_0=(df_model.reset_index()[\"index\"] - df_model.reset_index().index).values\n",
    ")\n",
    "df_model = label_s2(df_model)\n",
    "\n",
    "df_model = pd.DataFrame(\n",
    "    [\n",
    "        idx\n",
    "        for idx, item in df_model.groupby([\"file\", \"level_0\", \"label\"])\n",
    "        if len(item) > 1\n",
    "    ],\n",
    "    columns=[\"file\", \"level_0\", \"label\"],\n",
    ").merge(df_model.reset_index(), on=[\"file\", \"level_0\", \"label\"], how=\"left\")\n",
    "\n",
    "df_model[[\"file\", \"level_0\", \"label\"]].drop_duplicates().groupby(\"label\").count()"
   ]
  },
  {
   "cell_type": "code",
   "execution_count": null,
   "metadata": {},
   "outputs": [],
   "source": [
    "df_model = df_model.assign(\n",
    "    if_last=[\n",
    "        bool(Process_dict[item.file].shape[0] - item[\"index\"] <= 5)\n",
    "        for idx, item in df_model.iterrows()\n",
    "    ]\n",
    ")\n",
    "\n",
    "df_model[df_model.label == \"toward\"].groupby([\"file\", \"level_0\"]).max().if_last"
   ]
  },
  {
   "cell_type": "markdown",
   "metadata": {},
   "source": [
    "## S1: 豆 P 鬼"
   ]
  },
  {
   "cell_type": "code",
   "execution_count": null,
   "metadata": {},
   "outputs": [],
   "source": [
    "df_model = df_total[\n",
    "    (df_total.rwd_pac_distance + df_total.distance1 <= df_total.ghost1_bean_dis)\n",
    "    & (df_total.rwd_pac_distance + df_total.distance1 <= 15)\n",
    "    & (df_total.ifscared1 <= 2)\n",
    "    & (df_total[\"if_energizer\"] == False)\n",
    "]\n",
    "\n",
    "for idx, item in ten_points_pac.items():\n",
    "    df_model = df_model.loc[\n",
    "        ~((df_model.file == idx + \".csv\") & (df_model.index.isin(item))), :\n",
    "    ]\n",
    "\n",
    "df_model = df_model.assign(\n",
    "    level_0=(df_model.reset_index()[\"index\"] - df_model.reset_index().index).values\n",
    ")\n",
    "df_model = label_s1(df_model)\n",
    "\n",
    "df_model = pd.DataFrame(\n",
    "    [\n",
    "        idx\n",
    "        for idx, item in df_model.groupby([\"file\", \"level_0\", \"label\"])\n",
    "        if len(item) > 2\n",
    "    ],\n",
    "    columns=[\"file\", \"level_0\", \"label\"],\n",
    ").merge(df_model.reset_index(), on=[\"file\", \"level_0\", \"label\"], how=\"left\")\n",
    "\n",
    "df_model[[\"file\", \"level_0\", \"label\"]].drop_duplicates().groupby(\"label\").count()"
   ]
  },
  {
   "cell_type": "code",
   "execution_count": null,
   "metadata": {},
   "outputs": [],
   "source": [
    "df_model = df_model.assign(\n",
    "    if_last=[\n",
    "        bool(Process_dict[item.file].shape[0] - item[\"index\"] <= 5)\n",
    "        for idx, item in df_model.iterrows()\n",
    "    ]\n",
    ")\n",
    "\n",
    "df_model[df_model.label == \"toward\"].groupby([\"file\", \"level_0\"]).apply(\n",
    "    lambda x: [x.if_last.max(), x[\"index\"].min(), x[\"index\"].max()]\n",
    ")"
   ]
  },
  {
   "cell_type": "markdown",
   "metadata": {},
   "source": [
    "## end game除了suicide还干嘛"
   ]
  },
  {
   "cell_type": "code",
   "execution_count": null,
   "metadata": {},
   "outputs": [],
   "source": [
    "k = random.sample(set(ten_points_pac.keys()) & set(suicide_df.file), 1)[0]\n",
    "print(k, suicide_df[suicide_df.file == k].actual.values[0])\n",
    "df_total[df_total.file == k + \".csv\"].loc[ten_points_pac[k], :].index"
   ]
  },
  {
   "cell_type": "code",
   "execution_count": null,
   "metadata": {},
   "outputs": [],
   "source": [
    "df_total[df_total.status_s == 1].groupby(\n",
    "    [\"status_g\", \"status_e1\", \"status_e2\"]\n",
    ").count().distance1.reset_index()"
   ]
  },
  {
   "cell_type": "markdown",
   "metadata": {},
   "source": [
    "## 闪的时候是不是不太管"
   ]
  },
  {
   "cell_type": "code",
   "execution_count": null,
   "metadata": {},
   "outputs": [],
   "source": [
    "ax = sns.heatmap(\n",
    "    df_total[\n",
    "        (df_total.ifscared1 == 4)\n",
    "        & (df_total.distance1.between(1, 20))\n",
    "        & (df_total.rwd_pac_distance >= 1)\n",
    "    ].pivot_table(\n",
    "        index=\"distance1\",\n",
    "        columns=\"rwd_pac_distance\",\n",
    "        values=\"status_h1\",\n",
    "        aggfunc=lambda x: sum(x) / len(x),\n",
    "    )[\n",
    "        ::-1\n",
    "    ],\n",
    "    cmap=\"coolwarm\",\n",
    "    square=True,\n",
    ")\n",
    "bottom, top = ax.get_ylim()\n",
    "ax.set_xlabel(\"P-Nearest B Distance\")\n",
    "ax.set_ylabel(\"P-G Distance\")\n",
    "ax.set_ylim(bottom + 0.5, top - 0.5)\n",
    "# plt.savefig('only_scared.pdf')"
   ]
  },
  {
   "cell_type": "code",
   "execution_count": null,
   "metadata": {},
   "outputs": [],
   "source": [
    "# •G-P distance\n",
    "# •P-D distance (closest)\n",
    "# 颜色为hunt rate，即hunt time stamp/total time stamp"
   ]
  },
  {
   "cell_type": "markdown",
   "metadata": {},
   "source": [
    "## Grand Theft Auto"
   ]
  },
  {
   "cell_type": "code",
   "execution_count": null,
   "metadata": {},
   "outputs": [],
   "source": [
    "eat_df = pd.DataFrame()\n",
    "energizer_df = pd.DataFrame()\n",
    "for f in Rewards_dict.keys():\n",
    "    rwd_step = (\n",
    "        Rewards_dict[f]\n",
    "        .groupby(\"Step\")\n",
    "        .apply(lambda x: tuple_list(x[[\"X\", \"Y\"]].values))\n",
    "    )\n",
    "    energizer_step = pd.DataFrame(\n",
    "        {\n",
    "            \"energizer\": tuple_list(\n",
    "                Rewards_dict[f][Rewards_dict[f].Reward == 2][[\"X\", \"Y\"]].values\n",
    "            ),\n",
    "            \"file\": f,\n",
    "        }\n",
    "    )\n",
    "\n",
    "    eat_df = eat_df.append(\n",
    "        pd.DataFrame(\n",
    "            {\n",
    "                \"eat_bean\": [np.nan]\n",
    "                + [\n",
    "                    list(set(rwd_step[i - 1]) - set(rwd_step[i]))[0]\n",
    "                    if len(set(rwd_step[i - 1]) - set(rwd_step[i])) > 0\n",
    "                    else np.nan\n",
    "                    for i in rwd_step.index.values[1:]\n",
    "                ],\n",
    "                \"file\": f,\n",
    "            }\n",
    "        )\n",
    "    )\n",
    "    energizer_df = energizer_df.append(energizer_step)\n",
    "\n",
    "eat_df = eat_df.reset_index()  # 每个时刻吃了哪个位置的豆子\n",
    "energizer_df = energizer_df.drop_duplicates()  # 每个csv的energizer是什么"
   ]
  },
  {
   "cell_type": "code",
   "execution_count": null,
   "metadata": {},
   "outputs": [],
   "source": [
    "df_total = (\n",
    "    df_total.merge(eat_df, on=[\"file\", \"index\"], how=\"left\")\n",
    "    .merge(\n",
    "        energizer_df,\n",
    "        right_on=[\"file\", \"energizer\"],\n",
    "        left_on=[\"file\", \"nearrwdPos\"],\n",
    "        how=\"left\",\n",
    "    )\n",
    "    .merge(\n",
    "        eat_df.rename(columns={\"index\": \"eat_tp\", \"eat_bean\": \"nearrwdPos\"}),\n",
    "        on=[\"nearrwdPos\", \"file\"],\n",
    "        how=\"left\",\n",
    "    )\n",
    ")\n",
    "df_total = df_total.assign(if_energizer=~df_total.energizer.isnull())"
   ]
  },
  {
   "cell_type": "code",
   "execution_count": null,
   "metadata": {},
   "outputs": [],
   "source": [
    "w = \"1\"\n",
    "df_model = df_total[\n",
    "    (df_total[\"ifscared\" + w] <= 2)\n",
    "    & (df_total[\"distance\" + w] <= 15)\n",
    "    & (df_total[\"if_energizer\"] == False)\n",
    "    & (\n",
    "        df_total[\"rwd_pac_distance\"] + df_total[\"ghost\" + w + \"_bean_dis\"]\n",
    "        <= df_total[\"distance\" + w]\n",
    "    )\n",
    "].sort_values(by=[\"file\", \"index\"])\n",
    "\n",
    "df_model = label_gta(df_model)\n",
    "df_model.index = list(range(df_model.shape[0]))\n",
    "df_model.loc[:, \"level_0\"] = df_model[\"index\"] - df_model.index"
   ]
  },
  {
   "cell_type": "code",
   "execution_count": null,
   "metadata": {},
   "outputs": [],
   "source": [
    "dict_df = (\n",
    "    df_model.groupby([\"file\", \"level_0\", \"label\"])\n",
    "    .agg(\n",
    "        {\n",
    "            \"index\": lambda x: [x.min(), x.max()] if x.max() - x.min() > 3 else np.nan,\n",
    "            \"status_g\": \"max\",\n",
    "            \"status_e1\": \"max\",\n",
    "            \"eat_tp\": \"last\",\n",
    "        }\n",
    "    )\n",
    "    .reset_index()\n",
    "    .dropna()\n",
    ")"
   ]
  },
  {
   "cell_type": "code",
   "execution_count": null,
   "metadata": {},
   "outputs": [],
   "source": [
    "dict_df[\"get_the_bean\"] = dict_df[\"index\"].apply(lambda x: x[1] + 2) >= dict_df.eat_tp"
   ]
  },
  {
   "cell_type": "code",
   "execution_count": null,
   "metadata": {},
   "outputs": [],
   "source": [
    "dict_df[dict_df.label == \"toward\"].pivot_table(\n",
    "    columns=\"status_e1\", index=\"get_the_bean\", values=\"file\", aggfunc=\"count\"\n",
    ")"
   ]
  },
  {
   "cell_type": "code",
   "execution_count": null,
   "metadata": {},
   "outputs": [],
   "source": [
    "handlers = {\"up\": \"down\", \"down\": \"up\", \"right\": \"left\", \"left\": \"right\"}"
   ]
  },
  {
   "cell_type": "markdown",
   "metadata": {},
   "source": [
    "## GTA reaction time"
   ]
  },
  {
   "cell_type": "code",
   "execution_count": null,
   "metadata": {},
   "outputs": [],
   "source": [
    "l = []\n",
    "for idx, item in dict_df[dict_df.label == \"toward\"].iterrows():\n",
    "    c = df_total[(df_total.file == item.file) & (df_total[\"index\"] >= item.range[0])]\n",
    "    eat_index = c.route_bean1.replace({True: np.nan}).dropna().index.min()\n",
    "    if not np.isnan(eat_index):\n",
    "        dict_df.loc[idx, \"eat_index\"] = df_total.loc[eat_index, \"index\"]\n",
    "    try:\n",
    "        change_index = (\n",
    "            c.apply(\n",
    "                lambda x: x.pacman_dir != c.loc[eat_index, \"pacman_dir\"]\n",
    "                and x.name >= eat_index,\n",
    "                1,\n",
    "            )\n",
    "            .replace({False: np.nan})\n",
    "            .dropna()\n",
    "            .index.values[0]\n",
    "        )\n",
    "        l.append(change_index - eat_index)\n",
    "    except:\n",
    "        pass"
   ]
  },
  {
   "cell_type": "code",
   "execution_count": null,
   "metadata": {},
   "outputs": [],
   "source": [
    "to_plot = pd.value_counts(l) / len(l)"
   ]
  },
  {
   "cell_type": "code",
   "execution_count": null,
   "metadata": {
    "scrolled": false
   },
   "outputs": [],
   "source": [
    "plt.subplots(figsize=(9, 7))\n",
    "ax = sns.barplot(x=\"index\", y=0, data=to_plot.reset_index())\n",
    "plt.xlabel(\"reaction time after GTA\")\n",
    "plt.ylabel(\"Percentage\")\n",
    "plt.vlines(\n",
    "    x=pd.Series(l).dropna().mean(),\n",
    "    ymin=0,\n",
    "    ymax=ax.get_ybound()[-1],\n",
    "    label=\"average\",\n",
    "    color=\"navy\",\n",
    "    linestyles=\"--\",\n",
    ")\n",
    "plt.legend()"
   ]
  },
  {
   "cell_type": "markdown",
   "metadata": {},
   "source": [
    "## how's handler after toward"
   ]
  },
  {
   "cell_type": "code",
   "execution_count": null,
   "metadata": {},
   "outputs": [],
   "source": [
    "dict_df[\"if_finally_dead\"] = dict_df.merge(\n",
    "    df_total.groupby(\"file\").count()[\"index\"].rename(\"total_cnt\").reset_index(),\n",
    "    on=\"file\",\n",
    "    how=\"left\",\n",
    ").apply(\n",
    "    lambda x: (x[\"total_cnt\"] - x[\"eat_index\"] <= 5) and x.file not in last_trials, 1\n",
    ")"
   ]
  },
  {
   "cell_type": "code",
   "execution_count": null,
   "metadata": {},
   "outputs": [],
   "source": [
    "dd = pd.DataFrame()\n",
    "for idx, item in dict_df[\n",
    "    (dict_df.label == \"toward\") & (dict_df.if_finally_dead == True)\n",
    "].iterrows():\n",
    "    dd = dd.append(\n",
    "        df_total[(df_total[\"index\"] >= item.eat_index) & (df_total.file == item.file)]\n",
    "    )"
   ]
  },
  {
   "cell_type": "code",
   "execution_count": null,
   "metadata": {},
   "outputs": [],
   "source": [
    "df = dd.groupby(\"handler\").count()[\"index\"].reset_index()\n",
    "df = df.assign(count=df[\"index\"] / df[\"index\"].sum())\n",
    "ax = sns.barplot(x=\"handler\", y=\"count\", data=df)\n",
    "ax.set_xlabel(\"Handler Direction\")\n",
    "ax.set_ylabel(\"Percentage\")\n",
    "ax.set_title(\"GTA Aftermath Dead\")\n",
    "ax.set_xticklabels([handler_mapping[i] for i in ax.get_xticks()])\n",
    "ax.set_yticks(np.array(range(0, 40, 5)) / 100)\n",
    "ax.set_yticklabels([int(float(i) * 100) for i in ax.get_yticks()])"
   ]
  },
  {
   "cell_type": "code",
   "execution_count": null,
   "metadata": {},
   "outputs": [],
   "source": [
    "df = df_total.groupby(\"handler\").count()[\"index\"].reset_index()\n",
    "df = df.assign(count=df[\"index\"] / df[\"index\"].sum())\n",
    "ax = sns.barplot(x=\"handler\", y=\"count\", data=df)\n",
    "ax.set_xlabel(\"Handler Direction\")\n",
    "ax.set_ylabel(\"Percentage\")\n",
    "ax.set_title(\"Overall Handler Distribution\")\n",
    "ax.set_xticklabels([handler_mapping[i] for i in ax.get_xticks()])\n",
    "ax.set_yticks(np.array(range(0, 40, 5)) / 100)\n",
    "ax.set_yticklabels([int(float(i) * 100) for i in ax.get_yticks()])"
   ]
  },
  {
   "cell_type": "markdown",
   "metadata": {},
   "source": [
    "### GTA绕道吃豆子"
   ]
  },
  {
   "cell_type": "code",
   "execution_count": null,
   "metadata": {},
   "outputs": [],
   "source": [
    "ll = []\n",
    "for idx, item in dict_df[dict_df.label == \"toward\"].iterrows():\n",
    "    r_x, r_y = df_total[df_total.file == item.file].loc[item.range[0]].nearrwdPos\n",
    "\n",
    "    rr = Rewards_dict[item.file]\n",
    "    if (\n",
    "        rr[(rr.Step == item.range[1]) & (rr.X == r_x) & (rr.Y == r_y)].shape[0] == 0\n",
    "        and rr[(rr.Step == item.range[1]) & (rr.Reward == 2)].shape[0]\n",
    "        < rr[(rr.Step == item.range[0]) & (rr.Reward == 2)].shape[0]\n",
    "    ):\n",
    "        ll.append(\"eatB\")\n",
    "    elif rr[(rr.Step == item.range[1]) & (rr.X == r_x) & (rr.Y == r_y)].shape[0] == 0:\n",
    "        ll.append(\"eat\")\n",
    "    else:\n",
    "        ll.append(\"noeat\")\n",
    "\n",
    "df_sts = (\n",
    "    dict_df[dict_df.label == \"toward\"]\n",
    "    .assign(if_eat=ll)\n",
    "    .merge(\n",
    "        df_classify4[df_classify4.label == \"toward\"], on=[\"file\", \"level_0\", \"label\"],\n",
    "    )\n",
    ")\n",
    "df_sts[\"if_dead\"] = df_sts.apply(lambda x: if_cause_dead(x.file, x.range[1]), 1)\n",
    "# .pivot_table(index='if_eat',columns=['status_e1'], values='index', aggfunc='count')"
   ]
  },
  {
   "cell_type": "code",
   "execution_count": null,
   "metadata": {},
   "outputs": [],
   "source": [
    "df_sts.pivot_table(\n",
    "    index=\"if_eat\", columns=[\"status_e1\"], values=\"index\", aggfunc=\"count\"\n",
    ")"
   ]
  },
  {
   "cell_type": "code",
   "execution_count": null,
   "metadata": {},
   "outputs": [],
   "source": [
    "dd = (\n",
    "    df_model[df_model.label == \"toward\"]\n",
    "    .groupby(\"level_0\")[\"index\"]\n",
    "    .min()\n",
    "    .reset_index()\n",
    "    .merge(df_model, on=[\"index\", \"level_0\"])\n",
    ")\n",
    "weights = np.ones_like(dd.rwd_pac_distance) / float(len(dd.rwd_pac_distance))\n",
    "(dd.rwd_pac_distance / (dd.distance1 - dd.rwd_pac_distance)).hist(\n",
    "    bins=np.linspace(0, 7, 100), weights=weights, alpha=0.7, label=\"Scenario 1\"\n",
    ")\n",
    "\n",
    "dd = (\n",
    "    df_model[df_model.label == \"gafterp\"]\n",
    "    .groupby(\"level_0\")[\"index\"]\n",
    "    .min()\n",
    "    .reset_index()\n",
    "    .merge(df_model, on=[\"index\", \"level_0\"])\n",
    ")\n",
    "weights = np.ones_like(dd.rwd_pac_distance) / float(len(dd.rwd_pac_distance))\n",
    "(dd.rwd_pac_distance / (dd.distance1 - dd.rwd_pac_distance)).hist(\n",
    "    bins=np.linspace(0, 7, 100), weights=weights, alpha=0.7, label=\"Scenario 3\"\n",
    ")\n",
    "\n",
    "plt.legend()\n",
    "plt.xlabel(\"PB distance/GB distance\")\n",
    "plt.ylabel(\"Percentage\")\n",
    "plt.grid(False)"
   ]
  },
  {
   "cell_type": "code",
   "execution_count": null,
   "metadata": {},
   "outputs": [],
   "source": [
    "w = \"1\"\n",
    "\n",
    "X_train, X_test, Y_train, Y_test = train_test_split(\n",
    "    df_model2[[\"distance\" + w, \"rwd_pac_distance\"]],\n",
    "    df_model2[\"label\"],\n",
    "    test_size=0.3,\n",
    "    random_state=0,\n",
    ")\n",
    "clf = DecisionTreeClassifier(max_depth=2, class_weight=\"balanced\", random_state=0)\n",
    "clf.fit(X_train, Y_train)\n",
    "pred = clf.predict(X_train)\n",
    "print(accuracy_score(Y_train, pred))\n",
    "print(recall_score(Y_train, pred, pos_label=\"gafterp\"))\n",
    "# 'graze+hunt', 'graze', 'hunt', 'whatever'\n",
    "print(confusion_matrix(Y_train, pred, labels=[\"toward\", \"gafterp\"]))\n",
    "\n",
    "fig, ax = plt.subplots(figsize=(30, 10))\n",
    "plot_tree(\n",
    "    clf,\n",
    "    ax=ax,\n",
    "    fontsize=15,\n",
    "    feature_names=X_test.columns,\n",
    "    class_names=sorted(Y_test.unique()),\n",
    ")\n",
    "plt.gca()\n",
    "plt.figure(figsize=(20, 20))"
   ]
  },
  {
   "cell_type": "markdown",
   "metadata": {},
   "source": [
    "## 预测是suicide还是evade（时间错位，8 is best）"
   ]
  },
  {
   "cell_type": "code",
   "execution_count": null,
   "metadata": {},
   "outputs": [],
   "source": [
    "## only select end game points\n",
    "filtered_df = (\n",
    "    df_total.reset_index()\n",
    "    .merge(ten_points_df, on=[\"index\", \"file\"])\n",
    "    .set_index(\"level_0\")\n",
    ")"
   ]
  },
  {
   "cell_type": "code",
   "execution_count": null,
   "metadata": {},
   "outputs": [],
   "source": [
    "filtered_df = nearby_beans(filtered_df, Rewards_dict).assign(\n",
    "    rwd_pac_distance_delta=filtered_df.rwd_pac_distance.diff()\n",
    ")\n",
    "\n",
    "filtered_df[\"distance1_delta\"] = filtered_df.distance1.diff()"
   ]
  },
  {
   "cell_type": "code",
   "execution_count": null,
   "metadata": {},
   "outputs": [],
   "source": [
    "w = \"1\"\n",
    "l = []\n",
    "\n",
    "col = [\"rwd_pac_distance_delta\", \"distance\" + w + \"_delta\", \"index\", \"near_beans\"]\n",
    "col_m = [i + \"_m\" for i in col]\n",
    "\n",
    "for s in range(1, 30):\n",
    "    filtered_df[col_m] = filtered_df[col].shift(s)\n",
    "    filtered_df2 = filtered_df.dropna(subset=col_m + [\"status_s\"])\n",
    "\n",
    "    df_model = filtered_df2[\n",
    "        (filtered_df2.status_s + filtered_df2.status_e1 == 1)\n",
    "        & (filtered_df2.ifscared1 <= 2)\n",
    "    ]\n",
    "\n",
    "    X_train, X_test, Y_train, Y_test = train_test_split(\n",
    "        df_model[col_m], df_model.status_s, test_size=0.3, random_state=0,\n",
    "    )\n",
    "    logreg = LogisticRegression(class_weight=\"balanced\", solver=\"lbfgs\", random_state=0)\n",
    "\n",
    "    logreg.fit(X_train, Y_train)\n",
    "    pred = logreg.predict(X_test)\n",
    "    #     print(confusion_matrix(Y_test, pred, labels=[0, 1]))\n",
    "    l.append(\n",
    "        [\n",
    "            s,\n",
    "            \"recall:\",\n",
    "            recall_score(Y_test, pred),\n",
    "            \"accuracy\",\n",
    "            accuracy_score(Y_test, pred),\n",
    "            \"F score\",\n",
    "            f1_score(Y_test, pred),\n",
    "        ]\n",
    "    )\n",
    "# mpl.rcParams['figure.dpi']= 300\n",
    "# pd.DataFrame(l)[6].plot(marker='o')\n",
    "# plt.xlabel('Current time T - Feature time t')\n",
    "# plt.ylabel('F Score')"
   ]
  },
  {
   "cell_type": "code",
   "execution_count": null,
   "metadata": {},
   "outputs": [],
   "source": [
    "mpl.rcParams[\"figure.dpi\"] = 300\n",
    "pd.DataFrame(l)[6].plot(marker=\"o\")\n",
    "plt.xlabel(\"Current time T - Feature time t\")\n",
    "plt.ylabel(\"F Score\")"
   ]
  },
  {
   "cell_type": "markdown",
   "metadata": {},
   "source": [
    "## end game situation 转弯提前量"
   ]
  },
  {
   "cell_type": "code",
   "execution_count": null,
   "metadata": {
    "scrolled": true
   },
   "outputs": [],
   "source": [
    "filtered_df[\"corner_switch\"] = filtered_df.apply(\n",
    "    lambda x: (\n",
    "        filtered_df.loc[: x.name - 1, \"handler\"]\n",
    "        != filtered_df.loc[: x.name - 1, \"handler\"].shift()\n",
    "    )\n",
    "    .replace({False: np.nan})\n",
    "    .dropna()\n",
    "    .index.values[-1]\n",
    "    if x.name != 0\n",
    "    else np.nan,\n",
    "    1,\n",
    ")"
   ]
  },
  {
   "cell_type": "code",
   "execution_count": null,
   "metadata": {},
   "outputs": [],
   "source": [
    "to_plot = pd.Series(\n",
    "    [\n",
    "        int(i) if not np.isnan(i) else np.nan\n",
    "        for i in filtered_df.index - filtered_df[\"corner_switch\"] - 1\n",
    "    ]\n",
    ").value_counts() / len(filtered_df.index)"
   ]
  },
  {
   "cell_type": "code",
   "execution_count": null,
   "metadata": {
    "scrolled": false
   },
   "outputs": [],
   "source": [
    "plt.subplots(figsize=(9, 7))\n",
    "ax = sns.barplot(x=\"index\", y=0, data=to_plot.reset_index())\n",
    "plt.vlines(\n",
    "    x=(filtered_df.index - filtered_df[\"corner_switch\"] - 1).mean(),\n",
    "    ymin=0,\n",
    "    ymax=0.3,\n",
    "    color=\"navy\",\n",
    "    linestyle=\"--\",\n",
    "    label=\"average\",\n",
    ")\n",
    "plt.xlabel(\"# time stamps in advance before turning direction (end game situation)\")\n",
    "plt.ylabel(\"percentage\")\n",
    "ax.set_xticklabels(ax.get_xticks())\n",
    "plt.legend()"
   ]
  },
  {
   "cell_type": "markdown",
   "metadata": {},
   "source": [
    "## 自杀后重生：是否有晚按的"
   ]
  },
  {
   "cell_type": "code",
   "execution_count": null,
   "metadata": {},
   "outputs": [],
   "source": [
    "filtered_df.when_switch = filtered_df.when_switch.replace({0: np.nan})"
   ]
  },
  {
   "cell_type": "markdown",
   "metadata": {},
   "source": [
    "### End Game 重生"
   ]
  },
  {
   "cell_type": "code",
   "execution_count": null,
   "metadata": {},
   "outputs": [],
   "source": [
    "ss = pd.DataFrame(\n",
    "    sorted(\n",
    "        df_total.file.drop_duplicates().values,\n",
    "        key=lambda x: [x.split(\"-\")[0]] + x.split(\"-\")[2:],\n",
    "    )\n",
    ")\n",
    "ss[1] = ss[0].shift(-1)\n",
    "restart_index = ss[ss[0].isin(suicide_df.file.values + \".csv\")][1].values"
   ]
  },
  {
   "cell_type": "code",
   "execution_count": null,
   "metadata": {
    "scrolled": false
   },
   "outputs": [],
   "source": [
    "df_restart = filtered_df[filtered_df.file.isin(restart_index)]\n",
    "\n",
    "df = pd.DataFrame(\n",
    "    (\n",
    "        df_restart[df_restart.if_miss == False].apply(\n",
    "            lambda x: x.when_turn - x.when_switch, 1\n",
    "        )\n",
    "    )\n",
    "    .where(lambda x: x >= 0)\n",
    "    .dropna()\n",
    "    .append(\n",
    "        df_restart[df_restart.if_miss == True]\n",
    "        .apply(lambda x: x.miss_dis if x.miss_dis < 0 else np.nan, 1)\n",
    "        .dropna()\n",
    "    )\n",
    "    .value_counts()\n",
    ")"
   ]
  },
  {
   "cell_type": "markdown",
   "metadata": {},
   "source": [
    "### End Game Only Evade"
   ]
  },
  {
   "cell_type": "code",
   "execution_count": null,
   "metadata": {},
   "outputs": [],
   "source": [
    "df2 = pd.DataFrame(\n",
    "    (\n",
    "        filtered_df[\n",
    "            (filtered_df.status_e1 == 1)\n",
    "            & (filtered_df.status_g + filtered_df.status_h1 == 0)\n",
    "            & (filtered_df.ifscared1 <= 2)\n",
    "            & (filtered_df.if_miss == False)\n",
    "        ].when_turn\n",
    "        - filtered_df[\n",
    "            (filtered_df.status_e1 == 1)\n",
    "            & (filtered_df.status_g + filtered_df.status_h1 == 0)\n",
    "            & (filtered_df.ifscared1 <= 2)\n",
    "            & (filtered_df.if_miss == False)\n",
    "        ].when_switch\n",
    "    )\n",
    "    .where(lambda x: x >= 0)\n",
    "    .dropna()\n",
    "    .append(\n",
    "        filtered_df[\n",
    "            (filtered_df.status_e1 == 1)\n",
    "            & (filtered_df.status_g + filtered_df.status_h1 == 0)\n",
    "            & (filtered_df.ifscared1 <= 2)\n",
    "            & (filtered_df.if_miss == True)\n",
    "        ]\n",
    "        .apply(lambda x: x.miss_dis if x.miss_dis < 0 else np.nan, 1)\n",
    "        .dropna()\n",
    "    )\n",
    "    .value_counts()\n",
    ")"
   ]
  },
  {
   "cell_type": "code",
   "execution_count": null,
   "metadata": {},
   "outputs": [],
   "source": [
    "fig, axes = plt.subplots(ncols=2, sharey=True, figsize=(13, 6))\n",
    "\n",
    "sns.barplot(\n",
    "    x=0,\n",
    "    y=\"index\",\n",
    "    data=df.reindex(range(-13, 16)).reset_index(),\n",
    "    estimator=lambda x: x[0] / df[0].sum() * 100,\n",
    "    ax=axes[0],\n",
    "    orient=\"h\",  ## after suicide\n",
    ")\n",
    "sns.barplot(\n",
    "    x=0,\n",
    "    y=\"index\",\n",
    "    data=df2.reindex(range(-13, 16)).reset_index(),\n",
    "    estimator=lambda x: x[0] / df2[0].sum() * 100,\n",
    "    ax=axes[1],\n",
    "    orient=\"h\",  ## only evade\n",
    ")\n",
    "axes[1].yaxis.set_tick_params(labelleft=True)\n",
    "for i in [0, 1]:\n",
    "    axes[i].set_xlim([0, 30])\n",
    "    axes[i].set_ylabel(\"Reaction Time (RT)\")\n",
    "    axes[i].set_xlabel(\"Percentage\")\n",
    "\n",
    "\n",
    "axes[0].invert_xaxis()\n",
    "axes[1].set_ylabel(\"\")\n",
    "axes[0].set_title(\"End Game After Suicide\")\n",
    "axes[1].set_title(\"End Game Only Evade\")\n",
    "\n",
    "print(\"mean:\", df.reset_index().product(1).sum() / df[0].sum())\n",
    "print(\"count:\", df.sum().values[0])\n",
    "print(\">0 percentage:\", (df[df.index > 0].sum() / df.sum()).values[0])\n",
    "print(\"=0 percentage:\", (df[df.index == 0].sum() / df.sum()).values[0])\n",
    "\n",
    "print(\"mean:\", df2.reset_index().product(1).sum() / df2[0].sum())\n",
    "print(\"count:\", df2.sum().values[0])\n",
    "print(\">0 percentage:\", (df2[df2.index > 0].sum() / df2.sum()).values[0])\n",
    "print(\"=0 percentage:\", (df2[df2.index == 0].sum() / df2.sum()).values[0])"
   ]
  },
  {
   "cell_type": "code",
   "execution_count": null,
   "metadata": {},
   "outputs": [],
   "source": [
    "df_total.handler = (\n",
    "    df_total.handler.replace(handler_mapping)\n",
    "    .replace({\"None\": np.nan})\n",
    "    .fillna(method=\"ffill\")\n",
    ")\n",
    "\n",
    "df_total[\"if_miss\"] = df_total.apply(\n",
    "    lambda x: x.handler in x.before_last\n",
    "    and x.handler != x.pacman_dir\n",
    "    and not x.is_corner,\n",
    "    1,\n",
    ")\n",
    "# ].miss_dis.where(lambda x: x < 0).dropna().value_counts().sort_index().plot(kind=\"bar\")"
   ]
  },
  {
   "cell_type": "markdown",
   "metadata": {},
   "source": [
    "### Restart if the path matches the optimal one"
   ]
  },
  {
   "cell_type": "code",
   "execution_count": null,
   "metadata": {
    "scrolled": false
   },
   "outputs": [],
   "source": [
    "df_restart.handler = df_restart.handler.replace({0: np.nan})"
   ]
  },
  {
   "cell_type": "code",
   "execution_count": null,
   "metadata": {},
   "outputs": [],
   "source": [
    "map_dict = (\n",
    "    df_restart.groupby([\"file\"])\n",
    "    .agg({\"handler\": lambda x: x.first_valid_index(), \"rwd_cnt\": \"max\"})\n",
    "    .reset_index()\n",
    ")"
   ]
  },
  {
   "cell_type": "code",
   "execution_count": null,
   "metadata": {},
   "outputs": [],
   "source": [
    "df_restart_new = pd.DataFrame()\n",
    "for idx, item in map_dict.iterrows():\n",
    "    df_restart_new = df_restart_new.append(\n",
    "        df_restart[\n",
    "            (df_restart.file == item[\"file\"]) & (df_restart.rwd_cnt == item[\"rwd_cnt\"])\n",
    "        ].loc[item[\"handler\"] :, :]\n",
    "    )"
   ]
  },
  {
   "cell_type": "code",
   "execution_count": null,
   "metadata": {},
   "outputs": [],
   "source": [
    "path_compare = df_restart_new.groupby([\"file\"]).pacmanPos.agg(\n",
    "    {\n",
    "        \"predict\": lambda x: dijkstra_distance(x.values[0], x.values[-1]),\n",
    "        \"actual\": lambda x: list(x),\n",
    "    }\n",
    ")"
   ]
  },
  {
   "cell_type": "code",
   "execution_count": null,
   "metadata": {},
   "outputs": [],
   "source": [
    "path_compare[\"more_steps\"] = [\n",
    "    len(path_compare.actual[i]) - len(path_compare.predict[i])\n",
    "    for i in range(path_compare.shape[0])\n",
    "]"
   ]
  },
  {
   "cell_type": "code",
   "execution_count": null,
   "metadata": {
    "scrolled": false
   },
   "outputs": [],
   "source": [
    "sns.barplot(\n",
    "    data=path_compare.more_steps.value_counts().sort_index().reset_index(),\n",
    "    x=\"index\",\n",
    "    y=\"more_steps\",\n",
    "    estimator=lambda x: x[0] / path_compare.shape[0] * 100,\n",
    ")\n",
    "plt.grid(False)\n",
    "plt.xlabel(\"# of more steps\")\n",
    "plt.ylabel(\"percentage\")"
   ]
  },
  {
   "cell_type": "markdown",
   "metadata": {},
   "source": [
    "### 眼动数据"
   ]
  },
  {
   "cell_type": "code",
   "execution_count": null,
   "metadata": {},
   "outputs": [],
   "source": [
    "timestep = pd.read_csv(\"timestep.csv\", index_col=0)\n",
    "timestep.pos = timestep.pos.map(eval)\n",
    "\n",
    "timestep = (\n",
    "    timestep.groupby(\"file\")\n",
    "    .apply(lambda x: x.reset_index(drop=True))\n",
    "    .drop(\"file\", axis=1)\n",
    "    .reset_index()\n",
    "    .rename(columns={\"level_1\": \"origin_index\"})\n",
    ")"
   ]
  },
  {
   "cell_type": "code",
   "execution_count": null,
   "metadata": {},
   "outputs": [],
   "source": [
    "## 为df_total加上眼动数据\n",
    "df_total = df_total.merge(\n",
    "    timestep[timestep.file.isin(df_total.file.unique())],\n",
    "    on=[\"file\", \"origin_index\"],\n",
    "    how=\"left\",\n",
    ")"
   ]
  },
  {
   "cell_type": "markdown",
   "metadata": {},
   "source": [
    "### 眼动的规律：转弯的时候vs拨手柄的时候"
   ]
  },
  {
   "cell_type": "code",
   "execution_count": null,
   "metadata": {},
   "outputs": [],
   "source": [
    "## 转弯的时候，建立向前和向后的index\n",
    "zero_feature = \"when_turn\"\n",
    "# aa = df_restart[zero_feature].sort_values().dropna().unique()\n",
    "after = list(\n",
    "    itertools.chain.from_iterable(\n",
    "        df_restart.groupby(\"file\").apply(\n",
    "            lambda x: truncate_after(x[zero_feature].dropna().unique())\n",
    "        )\n",
    "    )\n",
    ")\n",
    "before = list(\n",
    "    itertools.chain.from_iterable(\n",
    "        df_restart.groupby(\"file\").apply(\n",
    "            lambda x: truncate_before(x[zero_feature].dropna().unique())\n",
    "        )\n",
    "    )\n",
    ")\n",
    "\n",
    "\n",
    "## evade的时候，建立向前和向后的index\n",
    "aa_e = filtered_df[\n",
    "    (\n",
    "        (filtered_df.status_e1 == 1)\n",
    "        & (filtered_df.status_g + filtered_df.status_h1 == 0)\n",
    "        & (filtered_df.ifscared1 <= 2)\n",
    "        & (filtered_df.index == filtered_df[zero_feature])\n",
    "    )\n",
    "    | (\n",
    "        (filtered_df.status_e2 == 1)\n",
    "        & (filtered_df.status_g + filtered_df.status_h2 == 0)\n",
    "        & (filtered_df.ifscared2 <= 2)\n",
    "        & (filtered_df.index == filtered_df[zero_feature])\n",
    "    )\n",
    "]\n",
    "\n",
    "after_e = list(\n",
    "    itertools.chain.from_iterable(\n",
    "        aa_e.groupby(\"file\").apply(lambda x: truncate_after(x.index.dropna().unique()))\n",
    "    )\n",
    ")\n",
    "before_e = list(\n",
    "    itertools.chain.from_iterable(\n",
    "        aa_e.groupby(\"file\").apply(lambda x: truncate_before(x.index.dropna().unique()))\n",
    "    )\n",
    ")"
   ]
  },
  {
   "cell_type": "code",
   "execution_count": null,
   "metadata": {
    "scrolled": true
   },
   "outputs": [],
   "source": [
    "var = pd.Series()\n",
    "var_e = pd.Series()\n",
    "rng = range(-8, 8)\n",
    "for i in rng:\n",
    "    if i >= 0:\n",
    "        r = pd.DataFrame(\n",
    "            np.vstack(\n",
    "                df_total.loc[pd.DataFrame(after)[i].dropna().values]\n",
    "                .apply(lambda x: np.array(x[\"pacmanPos\"]) - np.array(x[\"pos\"]), 1)\n",
    "                .values\n",
    "            ),\n",
    "            columns=[\"Pacman X - Eye Fix X\", \"Pacman Y - Eye Fix Y\"],\n",
    "        )\n",
    "        r_e = pd.DataFrame(\n",
    "            np.vstack(\n",
    "                df_total.loc[pd.DataFrame(after_e)[i].dropna().values]\n",
    "                .apply(lambda x: np.array(x[\"pacmanPos\"]) - np.array(x[\"pos\"]), 1)\n",
    "                .values\n",
    "            ),\n",
    "            columns=[\"Pacman X - Eye Fix X\", \"Pacman Y - Eye Fix Y\"],\n",
    "        )\n",
    "    else:\n",
    "        r = pd.DataFrame(\n",
    "            np.vstack(\n",
    "                df_total.loc[pd.DataFrame(before)[-i].dropna().values]\n",
    "                .apply(lambda x: np.array(x[\"pacmanPos\"]) - np.array(x[\"pos\"]), 1)\n",
    "                .values\n",
    "            ),\n",
    "            columns=[\"Pacman X - Eye Fix X\", \"Pacman Y - Eye Fix Y\"],\n",
    "        )\n",
    "        r_e = pd.DataFrame(\n",
    "            np.vstack(\n",
    "                df_total.loc[pd.DataFrame(before_e)[-i].dropna().values]\n",
    "                .apply(lambda x: np.array(x[\"pacmanPos\"]) - np.array(x[\"pos\"]), 1)\n",
    "                .values\n",
    "            ),\n",
    "            columns=[\"Pacman X - Eye Fix X\", \"Pacman Y - Eye Fix Y\"],\n",
    "        )\n",
    "    var = pd.concat([var, r.var()], 1)\n",
    "    var_e = pd.concat([var_e, r_e.var()], 1)\n",
    "var = var.dropna(axis=1)\n",
    "var.columns = list(rng)\n",
    "var_e = var_e.dropna(axis=1)\n",
    "var_e.columns = list(rng)"
   ]
  },
  {
   "cell_type": "code",
   "execution_count": null,
   "metadata": {},
   "outputs": [],
   "source": [
    "ax = r.hist(bins=30)\n",
    "ax[0][0].grid(False)\n",
    "ax[0][0].set_ylabel(\"count\")\n",
    "ax[0][1].grid(False)\n",
    "ax[0][1].figure.set_size_inches(10, 3)"
   ]
  },
  {
   "cell_type": "code",
   "execution_count": null,
   "metadata": {
    "scrolled": false
   },
   "outputs": [],
   "source": [
    "var_e.sum().plot(marker=\"o\", label=\"End Game Evade\")\n",
    "var.sum().plot(marker=\"o\", label=\"End Game Reset\")\n",
    "plt.legend()\n",
    "plt.xlabel(\"how many timesteps before turning\")\n",
    "plt.ylabel(\"x_var + y_var\")"
   ]
  },
  {
   "cell_type": "markdown",
   "metadata": {},
   "source": [
    "### sacc和鬼之间的距离"
   ]
  },
  {
   "cell_type": "code",
   "execution_count": null,
   "metadata": {
    "scrolled": true
   },
   "outputs": [],
   "source": [
    "ghost_dis = pd.Series()\n",
    "ghost_dis_e = pd.Series()\n",
    "rng = range(-8, 8)\n",
    "for i in rng:\n",
    "    if i >= 0:\n",
    "        r = pd.DataFrame(\n",
    "            np.vstack(\n",
    "                df_total.loc[pd.DataFrame(after)[i].dropna().values]\n",
    "                .apply(\n",
    "                    lambda x: abs(np.array(x[\"ghost1Pos\"]) - np.array(x[\"pos\"])).sum()\n",
    "                    <= 3,\n",
    "                    1,\n",
    "                )\n",
    "                .dropna()\n",
    "                .values\n",
    "            ),\n",
    "            columns=[\"Sacc-Ghost Distance\"],\n",
    "        )\n",
    "        r_e = pd.DataFrame(\n",
    "            np.vstack(\n",
    "                df_total.loc[pd.DataFrame(after_e)[i].dropna().values]\n",
    "                .apply(\n",
    "                    lambda x: abs(np.array(x[\"ghost1Pos\"]) - np.array(x[\"pos\"])).sum()\n",
    "                    <= 3,\n",
    "                    1,\n",
    "                )\n",
    "                .dropna()\n",
    "                .values\n",
    "            ),\n",
    "            columns=[\"Sacc-Ghost Distance\"],\n",
    "        )\n",
    "    else:\n",
    "        r = pd.DataFrame(\n",
    "            np.vstack(\n",
    "                df_total.loc[pd.DataFrame(before)[-i].dropna().values]\n",
    "                .apply(\n",
    "                    lambda x: abs(np.array(x[\"ghost1Pos\"]) - np.array(x[\"pos\"])).sum()\n",
    "                    <= 3,\n",
    "                    1,\n",
    "                )\n",
    "                .dropna()\n",
    "                .values\n",
    "            ),\n",
    "            columns=[\"Sacc-Ghost Distance\"],\n",
    "        )\n",
    "        r_e = pd.DataFrame(\n",
    "            np.vstack(\n",
    "                df_total.loc[pd.DataFrame(before_e)[-i].dropna().values]\n",
    "                .apply(\n",
    "                    lambda x: abs(np.array(x[\"ghost1Pos\"]) - np.array(x[\"pos\"])).sum()\n",
    "                    <= 3,\n",
    "                    1,\n",
    "                )\n",
    "                .dropna()\n",
    "                .values\n",
    "            ),\n",
    "            columns=[\"Sacc-Ghost Distance\"],\n",
    "        )\n",
    "    ghost_dis = pd.concat([ghost_dis, r.mean()], 1)\n",
    "    ghost_dis_e = pd.concat([ghost_dis_e, r_e.mean()], 1)\n",
    "ghost_dis = ghost_dis.dropna(axis=1)\n",
    "ghost_dis.columns = list(rng)\n",
    "ghost_dis_e = ghost_dis_e.dropna(axis=1)\n",
    "ghost_dis_e.columns = list(rng)"
   ]
  },
  {
   "cell_type": "code",
   "execution_count": null,
   "metadata": {
    "scrolled": false
   },
   "outputs": [],
   "source": [
    "# ghost_dis_e.T.plot(marker=\"o\", label=\"End Game Evade\")\n",
    "# ghost_dis.T.plot(marker=\"o\", label=\"End Game Reset\")\n",
    "plt.rcParams[\"axes.prop_cycle\"] = plt.cycler(\n",
    "    \"color\", plt.cm.gist_ncar(np.linspace(0, 1, 4))\n",
    ")\n",
    "ghost_dis_e.append(ghost_dis).T.plot(marker=\"o\")\n",
    "plt.legend([\"End Game Evade\", \"End Game Reset\"])\n",
    "plt.xlabel(\"how many timesteps before turning\")\n",
    "plt.ylabel(\"Percentage of Sacc to the Ghost\")"
   ]
  },
  {
   "cell_type": "markdown",
   "metadata": {},
   "source": [
    "## 局部最优，模拟路线"
   ]
  },
  {
   "cell_type": "code",
   "execution_count": null,
   "metadata": {},
   "outputs": [],
   "source": [
    "# d = dict(\n",
    "#     zip(\n",
    "#         map_info.pacmanPos,\n",
    "#         list(\n",
    "#             zip(\n",
    "#                 *[\n",
    "#                     tuple_list(\n",
    "#                         map_info[\n",
    "#                             [\"Next\" + str(i) + \"Pos1\", \"Next\" + str(i) + \"Pos2\"]\n",
    "#                         ].values\n",
    "#                     )\n",
    "#                     for i in range(1, 5)\n",
    "#                 ]\n",
    "#             )\n",
    "#         ),\n",
    "#     )\n",
    "# )\n",
    "\n",
    "# G = nx.DiGraph()\n",
    "# G.add_nodes_from(d.keys())\n",
    "# for k, v in d.items():\n",
    "#     G.add_edges_from(([(k, t) for t in v if t != (0, 0)]))\n",
    "\n",
    "# cross_pos = map_info[map_info.NextNum >= 3].pacmanPos.values\n",
    "# cross_pos = list(\n",
    "#     set(cross_pos)\n",
    "#     - set(\n",
    "#         [\n",
    "#             i\n",
    "#             for i in cross_pos\n",
    "#             if i[0] >= 11 and i[0] <= 18 and i[1] >= 16 and i[1] <= 20\n",
    "#         ]\n",
    "#     )\n",
    "# )\n",
    "\n",
    "# df_new = locs_df[(locs_df.pos1.isin(cross_pos)) & (locs_df.pos2.isin(cross_pos))]\n",
    "# df_new[\"no_cross_path\"] = df_new.apply(\n",
    "#     lambda x: has_cross(list(nx.node_disjoint_paths(G, x.pos1, x.pos2))), 1\n",
    "# )\n",
    "\n",
    "# adjacent_cross = df_new[\n",
    "#     (df_new.no_cross_path.map(len) > 0) & (df_new.dis > 1)\n",
    "# ].sort_values(by=\"pos1\")"
   ]
  },
  {
   "cell_type": "code",
   "execution_count": null,
   "metadata": {},
   "outputs": [],
   "source": [
    "# filtered_df: end game situation data\n",
    "# local_global: the data after restart\n",
    "local_global = filtered_df[\n",
    "    (filtered_df.file.isin(restart_index)) & (filtered_df[\"index\"] == 0)\n",
    "].dropna(subset=[\"next_eat_rwd\"])"
   ]
  },
  {
   "cell_type": "code",
   "execution_count": null,
   "metadata": {
    "scrolled": false
   },
   "outputs": [],
   "source": [
    "local_global.loc[:, \"path_list\"] = local_global.apply(\n",
    "    lambda x: local_opt_paths(x.next_eat_rwd, x.pacmanPos), 1\n",
    ").values"
   ]
  },
  {
   "cell_type": "code",
   "execution_count": null,
   "metadata": {},
   "outputs": [],
   "source": [
    "df_sts = pd.DataFrame(\n",
    "    [\n",
    "        [np.mean([len(x) for x in i]), np.var([len(x) for x in i])]\n",
    "        for i in local_global.path_list.values\n",
    "    ],\n",
    "    columns=[\"mean\", \"var\"],\n",
    ").assign(file=local_global.file.values, opt_dis=local_global.dis_next_eat.values)"
   ]
  },
  {
   "cell_type": "code",
   "execution_count": null,
   "metadata": {},
   "outputs": [],
   "source": [
    "plt.rcParams[\"figure.dpi\"] = 300\n",
    "df_sts = df_sts.merge(\n",
    "    df_total[df_total.file.isin(local_global.file.values)]\n",
    "    .groupby(\"file\")\n",
    "    .apply(\n",
    "        lambda x: x.loc[x.handler.replace({0: np.nan}).first_valid_index() :, :]\n",
    "        .rwd_cnt.value_counts()\n",
    "        .sort_index(ascending=False)\n",
    "        .values[0]\n",
    "    )\n",
    "    .reset_index(),\n",
    "    on=\"file\",\n",
    "    how=\"left\",\n",
    ").rename(columns={0: \"ground_truth\"})"
   ]
  },
  {
   "cell_type": "code",
   "execution_count": null,
   "metadata": {},
   "outputs": [],
   "source": [
    "df_sts[\"mean\"].fillna(60).hist(bins=30, alpha=0.8)\n",
    "df_sts[\"opt_dis\"].fillna(60).hist(bins=30, alpha=0.8)\n",
    "plt.grid(False)\n",
    "plt.legend([\"Average Steps of Simulated Route\", \"Actual Steps\"])\n",
    "plt.xlabel(\"steps\")\n",
    "plt.ylabel(\"count\")"
   ]
  },
  {
   "cell_type": "code",
   "execution_count": null,
   "metadata": {},
   "outputs": [],
   "source": [
    "ax = sns.barplot(\n",
    "    y=0,\n",
    "    x=\"index\",\n",
    "    data=(np.ceil(df_sts[\"mean\"]) - df_sts[\"opt_dis\"])\n",
    "    .fillna(20)\n",
    "    .value_counts()\n",
    "    .reset_index(),\n",
    "    estimator=lambda x: x[0] / df_sts.shape[0] * 100,\n",
    ")\n",
    "ax.set_xlabel(\"# of more steps\")\n",
    "ax.set_ylabel(\"Percentage\")\n",
    "ax.set_xticklabels([int(float(item.get_text())) for item in ax.get_xticklabels()])"
   ]
  },
  {
   "cell_type": "code",
   "execution_count": null,
   "metadata": {
    "scrolled": false
   },
   "outputs": [],
   "source": [
    "for i in range(len(path_list)):\n",
    "    x, y = zip(*path_list[i])\n",
    "    plt.subplots(figsize=(6, 6))\n",
    "    sns.heatmap(array, linewidth=0.5, annot=False, cbar=False, cmap=\"bone\")\n",
    "    plt.plot(np.array(x) + 0.5, np.array(y) + 0.5, marker=\"o\", markersize=5)"
   ]
  },
  {
   "cell_type": "markdown",
   "metadata": {},
   "source": [
    "## 利用local和global的信息预测joystick的方向"
   ]
  },
  {
   "cell_type": "markdown",
   "metadata": {},
   "source": [
    "### 九宫格划分图"
   ]
  },
  {
   "cell_type": "code",
   "execution_count": null,
   "metadata": {
    "scrolled": false
   },
   "outputs": [],
   "source": [
    "plt.rcParams[\"figure.dpi\"] = 300\n",
    "f, ax = plt.subplots(figsize=(10, 10))\n",
    "# ax.set_title(\"Normal: Global Features Applied\")\n",
    "sns.heatmap(array, ax=ax, linewidth=0.5, annot=False, cbar=False, cmap=\"bone\")\n",
    "# plt.vlines(x=xedges[1:-1] + 1, ymin=0, ymax=35, color=\"red\")\n",
    "# plt.hlines(y=yedges[1:-1] + 1, xmin=0, xmax=30, color=\"red\")"
   ]
  },
  {
   "cell_type": "markdown",
   "metadata": {},
   "source": [
    "### No Scared: 建feature+筛数据"
   ]
  },
  {
   "cell_type": "markdown",
   "metadata": {},
   "source": [
    "#### 筛选数据 (scared and no scared)"
   ]
  },
  {
   "cell_type": "code",
   "execution_count": 5,
   "metadata": {},
   "outputs": [
    {
     "data": {
      "text/plain": [
       "<IPython.core.display.Javascript object>"
      ]
     },
     "metadata": {},
     "output_type": "display_data"
    }
   ],
   "source": [
    "## no scared的情况\n",
    "df_total[\"nearbean_dir_local\"] = df_total.apply(\n",
    "    lambda x: x.nearbean_dir if x.rwd_pac_distance <= 5 else np.nan, 1\n",
    ")\n",
    "\n",
    "df_total = pd.concat(\n",
    "    [\n",
    "        df_total,\n",
    "        df_total.groupby(\"file\")\n",
    "        .apply(lambda x: x.pacman_dir.shift(-1))\n",
    "        .reset_index()\n",
    "        .set_index(\"level_1\")\n",
    "        .rename(columns={\"pacman_dir\": \"next_pacman_dir\"})[[\"next_pacman_dir\"]],\n",
    "    ],\n",
    "    1,\n",
    ")"
   ]
  },
  {
   "cell_type": "code",
   "execution_count": 9,
   "metadata": {},
   "outputs": [
    {
     "data": {
      "text/plain": [
       "<IPython.core.display.Javascript object>"
      ]
     },
     "metadata": {},
     "output_type": "display_data"
    }
   ],
   "source": [
    "df_total = df_total.merge(\n",
    "    possible_dirs.rename(columns={\"level_1\": \"current_possible_dirs\"}),\n",
    "    left_on=\"pacmanPos\",\n",
    "    right_on=\"p_choice\",\n",
    "    how=\"left\",\n",
    ").drop(columns=[\"p_choice_x\", \"p_choice_y\"])"
   ]
  },
  {
   "cell_type": "code",
   "execution_count": 279,
   "metadata": {},
   "outputs": [
    {
     "data": {
      "text/plain": [
       "<IPython.core.display.Javascript object>"
      ]
     },
     "metadata": {},
     "output_type": "display_data"
    }
   ],
   "source": [
    "end_game_reset = ten_points_df[\n",
    "    ten_points_df.file.isin(\n",
    "        ten_points_df.merge(df_total[[\"file\", \"index\", \"rwd_cnt\"]])\n",
    "        .groupby(\"file\")\n",
    "        .first()\n",
    "        .apply(lambda x: x[\"index\"] == 0 and x.rwd_cnt <= 3, 1)\n",
    "        .replace({False: np.nan})\n",
    "        .dropna()\n",
    "        .index.values\n",
    "    )\n",
    "]\n",
    "\n",
    "df_model = (\n",
    "    df_total[\n",
    "        #         (df_total.when_switch == df_total.index)\n",
    "        #         & (df_total.next_cross.isin(cross_pos))\n",
    "        #                 & (\n",
    "        #                     ~(\n",
    "        #                         df_total.next_cross.isin([(2, 30), (2, 9), (27, 30), (27, 9)])\n",
    "        #                         & (df_total.pacmanPos.apply(lambda x: x[1] in [9, 30]))\n",
    "        #                     )\n",
    "        #                 )  ## 是否去掉T junction\n",
    "        #         & (df_total.handler.replace(handler_mapping) != df_total.pacman_dir)\n",
    "        (df_total.ifscared1 <= 2)\n",
    "        & (df_total.ifscared2 <= 2)\n",
    "        & (~df_total.pacmanPos.isin(t_junction_pos))\n",
    "        #         & (~df_total.index.isin(end_game_reset))  # 去掉end game reset\n",
    "    ].drop(columns=[\"Step_x\", \"Step_y\"])\n",
    "    #     .merge(ten_points_df, on=[\"file\", \"index\"])\n",
    "    #     .merge(end_game_reset, on=[\"file\", \"index\"])\n",
    ")\n",
    "\n",
    "# scared的情况\n",
    "# df_model = (\n",
    "#     df_total[\n",
    "#         (df_total.when_switch == df_total.index)\n",
    "#         & (df_total.next_cross.isin(cross_pos))\n",
    "#         & (df_total.handler.replace(handler_mapping) != df_total.pacman_dir)\n",
    "#         #     & (df_total.status_h1 == 1)  ## 这里调1）hunt/hunt+graze 2）only graze\n",
    "#         & (df_total.index.isin(list(itertools.chain.from_iterable(scared_to_eaten))))\n",
    "#     ]\n",
    "#     .dropna(subset=[\"pacman_dir\"])\n",
    "#     .drop(columns=[\"Step_x\", \"Step_y\"])\n",
    "# )"
   ]
  },
  {
   "cell_type": "markdown",
   "metadata": {},
   "source": [
    "#### 筛选数据（Eat Energizer）"
   ]
  },
  {
   "cell_type": "code",
   "execution_count": 5,
   "metadata": {},
   "outputs": [
    {
     "data": {
      "text/plain": [
       "<IPython.core.display.Javascript object>"
      ]
     },
     "metadata": {},
     "output_type": "display_data"
    }
   ],
   "source": [
    "df_total = pd.concat(\n",
    "    [\n",
    "        df_total,\n",
    "        df_total.groupby(\"file\")\n",
    "        .apply(lambda x: x.next_eat_rwd.mask(~x.eat_energizer).fillna(method=\"bfill\"))\n",
    "        .rename(\"next_eat_energizer\")\n",
    "        .reset_index()\n",
    "        .drop(columns=[\"file\"])\n",
    "        .set_index(\"level_1\"),\n",
    "    ],\n",
    "    1,\n",
    ")"
   ]
  },
  {
   "cell_type": "code",
   "execution_count": 6,
   "metadata": {},
   "outputs": [
    {
     "data": {
      "text/plain": [
       "<IPython.core.display.Javascript object>"
      ]
     },
     "metadata": {},
     "output_type": "display_data"
    }
   ],
   "source": [
    "df_temp = df_total[[\"next_eat_energizer\", \"pacmanPos\", \"file\", \"index\"]].merge(\n",
    "    locs_df,\n",
    "    left_on=[\"next_eat_energizer\", \"pacmanPos\"],\n",
    "    right_on=[\"pos2\", \"pos1\"],\n",
    "    how=\"left\",\n",
    ")\n",
    "\n",
    "# df_result = df_temp.groupby([\"file\", \"next_eat_energizer\"]).apply(\n",
    "#     lambda d: d.dropna(subset=[\"dis\"]).index.max()\n",
    "#     - d.dropna(subset=[\"dis\"]).dis.diff().where(lambda x: x > 0).dropna().index.max()\n",
    "#     if not pd.isnull(\n",
    "#         d.dropna(subset=[\"dis\"]).dis.diff().where(lambda x: x > 0).dropna().index.max()\n",
    "#     )\n",
    "#     else d.dropna(subset=[\"dis\"]).index.max() - d.dropna(subset=[\"dis\"]).index.min()\n",
    "# )\n",
    "\n",
    "energizer_data = (\n",
    "    df_temp.groupby([\"file\", \"next_eat_energizer\"])\n",
    "    .apply(\n",
    "        lambda d: list(\n",
    "            range(\n",
    "                d.dropna(subset=[\"dis\"])\n",
    "                .dis.diff()\n",
    "                .where(lambda x: x > 0)\n",
    "                .dropna()\n",
    "                .index.max(),\n",
    "                d.dropna(subset=[\"dis\"]).index.max() + 1,\n",
    "            )\n",
    "        )\n",
    "        if not pd.isnull(\n",
    "            d.dropna(subset=[\"dis\"])\n",
    "            .dis.diff()\n",
    "            .where(lambda x: x > 0)\n",
    "            .dropna()\n",
    "            .index.max()\n",
    "        )\n",
    "        else list(\n",
    "            range(\n",
    "                d.dropna(subset=[\"dis\"]).index.min(),\n",
    "                d.dropna(subset=[\"dis\"]).index.max(),\n",
    "            )\n",
    "        )\n",
    "    )\n",
    "    .reset_index()\n",
    ")\n",
    "\n",
    "energizer_data = (\n",
    "    df_total.reset_index()\n",
    "    .merge(energizer_data, on=[\"file\", \"next_eat_energizer\"])\n",
    "    .set_index(\"level_0\")\n",
    ")\n",
    "\n",
    "df_model = energizer_data[\n",
    "    energizer_data.apply(lambda x: x.name in x[0] and len(x[0]) > 15, 1)\n",
    "]"
   ]
  },
  {
   "cell_type": "markdown",
   "metadata": {},
   "source": [
    "#### 旧的features"
   ]
  },
  {
   "cell_type": "code",
   "execution_count": null,
   "metadata": {},
   "outputs": [],
   "source": [
    "df_model = df_model.merge(\n",
    "    reward_collective, left_on=[\"file\", \"index\"], right_on=[\"file\", \"Step\"], how=\"left\"\n",
    ")\n",
    "\n",
    "df_model[\"next_cross\"] = df_model.apply(\n",
    "    lambda x: next_cross(x.pacmanPos, x.pacman_dir), 1\n",
    ")\n",
    "\n",
    "df_model[\"if_go_straight_local\"] = df_model.apply(\n",
    "    lambda x: go_straight(x.pacmanPos, x.pacman_dir, x.beans), 1\n",
    ")\n",
    "\n",
    "df_model[\"nearbean_dir_big\"] = df_model.apply(\n",
    "    lambda x: next_cross_nearbean(x.pacmanPos, x.next_cross, x.beans), 1\n",
    ")\n",
    "\n",
    "df_model[\"energizer_dirs\"] = df_model.apply(\n",
    "    lambda x: approaching_energizer(x.pacmanPos, x.energizers), 1\n",
    ")\n",
    "\n",
    "df_model[\"energizer_dirs_big\"] = df_model.apply(\n",
    "    lambda x: approaching_energizer(x.next_cross, x.energizers), 1\n",
    ")\n",
    "\n",
    "df_model[\"next_possible_dir\"] = df_model.apply(lambda x: dir_choices(x.next_cross), 1)\n",
    "\n",
    "df_model[\"if_go_straight_global\"] = df_model.apply(\n",
    "    lambda x: go_straight(x.pacmanPos, x.pacman_dir, x.beans, False), 1\n",
    ")\n",
    "\n",
    "df_model[\"nearbean_dir_global\"] = df_model.apply(\n",
    "    lambda x: dirs_global(x.pacmanPos, x.beans, x.next_cross), 1\n",
    ")\n",
    "\n",
    "df_model[\"nearbean_dir_big_global\"] = df_model.apply(\n",
    "    lambda x: dirs_global(x.pacmanPos, x.beans, x.next_cross, atcross=True), 1\n",
    ")\n",
    "df_model[\"energizer_dirs_global\"] = df_model.apply(\n",
    "    lambda x: dirs_global(x.pacmanPos, x.energizers, x.next_cross), 1\n",
    ")\n",
    "df_model[\"energizer_dirs_big_global\"] = df_model.apply(\n",
    "    lambda x: dirs_global(x.pacmanPos, x.energizers, x.next_cross, atcross=True), 1\n",
    ")\n",
    "\n",
    "df_model = check_ghost_twosides(df_model)"
   ]
  },
  {
   "cell_type": "code",
   "execution_count": null,
   "metadata": {},
   "outputs": [],
   "source": [
    "df_model.to_csv(\"df_model.csv\", index=False)"
   ]
  },
  {
   "cell_type": "code",
   "execution_count": null,
   "metadata": {},
   "outputs": [],
   "source": [
    "df_model = pd.read_csv(\"df_model.csv\")\n",
    "for c in [\n",
    "    \"ghost1Pos\",\n",
    "    \"ghost2Pos\",\n",
    "    \"pacmanPos\",\n",
    "    \"previousPos\",\n",
    "    \"possible_dirs\",\n",
    "    \"before_last\",\n",
    "    \"after_first\",\n",
    "    \"pos\",\n",
    "    \"next_eat_rwd\",\n",
    "    \"nearbean_dir\",\n",
    "    \"energizers\",\n",
    "    \"nearrwdPos\",\n",
    "    \"ghost1_wrt_pacman\",\n",
    "    \"nearbean_dir_big\",\n",
    "    \"energizer_dirs\",\n",
    "    \"energizer_dirs_big\",\n",
    "    \"next_possible_dir\",\n",
    "    \"next_cross\",\n",
    "    \"nearbean_dir_global\",\n",
    "    \"energizer_dirs_global\",\n",
    "    \"ghost_in_cross\",\n",
    "]:\n",
    "    df_model[c] = df_model[c].apply(\n",
    "        lambda x: eval(x) if not isinstance(x, float) else np.nan\n",
    "    )"
   ]
  },
  {
   "cell_type": "markdown",
   "metadata": {},
   "source": [
    "#### 新的features"
   ]
  },
  {
   "cell_type": "code",
   "execution_count": 280,
   "metadata": {},
   "outputs": [
    {
     "data": {
      "text/plain": [
       "<IPython.core.display.Javascript object>"
      ]
     },
     "metadata": {},
     "output_type": "display_data"
    }
   ],
   "source": [
    "## =============local features=============\n",
    "df_temp = df_model[[\"file\", \"index\", \"pacmanPos\", \"beans\"]].merge(\n",
    "    locs_df.loc[locs_df.dis == 5, [\"pos1\", \"path\"]],\n",
    "    left_on=\"pacmanPos\",\n",
    "    right_on=\"pos1\",\n",
    "    how=\"left\",\n",
    ")\n",
    "\n",
    "df_temp = (\n",
    "    df_temp.assign(\n",
    "        pos2=df_temp.path.apply(lambda x: x[0][1]),\n",
    "        pos1=df_temp.path.apply(lambda x: x[0][0]),\n",
    "    )\n",
    "    .merge(\n",
    "        locs_df[[\"pos2\", \"pos1\", \"relative_dir\"]].rename(\n",
    "            columns={\"relative_dir\": \"local_feature_dir\"}\n",
    "        ),\n",
    "        on=[\"pos2\", \"pos1\"],\n",
    "        how=\"left\",\n",
    "    )\n",
    "    .drop(columns=[\"pos1\", \"pos2\"])\n",
    ")\n",
    "\n",
    "df_temp[\"beans_in_local\"] = df_temp.apply(\n",
    "    lambda x: sum([len(set(p) & set(x.beans)) / 5 for p in x.path]), 1\n",
    ")\n",
    "\n",
    "local_features = (\n",
    "    df_temp.groupby([\"file\", \"index\", \"pacmanPos\", \"local_feature_dir\"])\n",
    "    .apply(lambda x: x.beans_in_local.sum() / x.path.map(len).sum())\n",
    "    .rename(\"beans_in_local\")\n",
    "    .reset_index()\n",
    "    .pivot_table(\n",
    "        index=\"local_feature_dir\",\n",
    "        columns=[\"file\", \"index\", \"pacmanPos\"],\n",
    "        values=\"beans_in_local\",\n",
    "        aggfunc=\"max\",\n",
    "    )\n",
    "    .T.fillna(-1)\n",
    ")\n",
    "\n",
    "local_features.columns = [\"local_\"] + local_features.columns\n",
    "\n",
    "df_model = df_model.merge(\n",
    "    local_features.reset_index(), on=[\"pacmanPos\", \"index\", \"file\"], how=\"left\"\n",
    ")\n",
    "\n",
    "## =============global features=============\n",
    "df_model = df_model.merge(\n",
    "    reward_collective_global,\n",
    "    left_on=[\"file\", \"index\"],\n",
    "    right_on=[\"file\", \"Step\"],\n",
    "    how=\"left\",\n",
    ")\n",
    "df_model = (\n",
    "    df_model.merge(\n",
    "        map_info[[\"pos\", \"pos_global\"]], left_on=\"pacmanPos\", right_on=\"pos\", how=\"left\"\n",
    "    )\n",
    "    .merge(\n",
    "        map_info[[\"pos\", \"pos_global\"]].rename(\n",
    "            columns={\"pos_global\": \"ghost1Pos_global\"}\n",
    "        ),\n",
    "        left_on=\"ghost1Pos\",\n",
    "        right_on=\"pos\",\n",
    "        how=\"left\",\n",
    "    )\n",
    "    .merge(\n",
    "        map_info[[\"pos\", \"pos_global\"]].rename(\n",
    "            columns={\"pos_global\": \"ghost2Pos_global\"}\n",
    "        ),\n",
    "        left_on=\"ghost2Pos\",\n",
    "        right_on=\"pos\",\n",
    "        how=\"left\",\n",
    "    )\n",
    ")\n",
    "\n",
    "df_model = df_model.merge(\n",
    "    pos_cnts.rename(columns={\"region\": \"pacman_region\"}),\n",
    "    left_on=\"pos_global\",\n",
    "    right_on=\"pos\",\n",
    "    how=\"left\",\n",
    ")\n",
    "\n",
    "df_temp_global = (\n",
    "    df_model.beans_global.apply(pd.Series)\n",
    "    .apply(pd.Series.value_counts, axis=1)\n",
    "    .fillna(0)\n",
    "    .div(pos_cnts.set_index(\"pos\").pos_count)\n",
    ")\n",
    "\n",
    "df_temp_global.columns = (\n",
    "    df_temp_global.append(pos_cnts.set_index(\"pos\").region).iloc[-1, :].values\n",
    ")\n",
    "\n",
    "df_model = pd.concat([df_model, df_temp_global], 1,)\n",
    "\n",
    "df_model[\"got_bean_regions\"] = (\n",
    "    df_model.filter(regex=\"region_.*\", axis=1)\n",
    "    .ne(0)\n",
    "    .replace({False: np.nan})\n",
    "    .stack()\n",
    "    .reset_index()\n",
    "    .groupby(\"level_0\")\n",
    "    .apply(lambda x: list(x.level_1.values))\n",
    ")\n",
    "\n",
    "df_model = df_model.merge(\n",
    "    df_model[[\"file\", \"index\", \"pos_global\", \"beans_global\"]]\n",
    "    .explode(\"beans_global\")\n",
    "    .merge(\n",
    "        global_pos_dirs.rename(columns={\"relative_dir\": \"region_dirs\"}),\n",
    "        left_on=[\"pos_global\", \"beans_global\"],\n",
    "        right_on=[\"pos1\", \"pos2\"],\n",
    "    )\n",
    "    .groupby([\"file\", \"index\"])\n",
    "    .apply(lambda x: list(set(itertools.chain(*x.region_dirs))))\n",
    "    .rename(\"region_dirs\")\n",
    "    .reset_index(),\n",
    "    how=\"left\",\n",
    "    on=[\"file\", \"index\"],\n",
    ")  # create feature 'region_dirs' indicating the directions of regions\n",
    "\n",
    "# energizer2global = (\n",
    "#     pd.concat(\n",
    "#         df_model.loc[~df_model.energizers.isnull()]\n",
    "#         .apply(\n",
    "#             lambda x: pd.DataFrame(\n",
    "#                 {\n",
    "#                     \"energizers\": x.energizers,\n",
    "#                     \"pos_global\": [x.pos_global] * len(x.energizers),\n",
    "#                     \"pacmanPos\": [x.pacmanPos] * len(x.energizers),\n",
    "#                     \"file\": [x.file] * len(x.energizers),\n",
    "#                     \"index\": [x[\"index\"]] * len(x.energizers),\n",
    "#                 }\n",
    "#             ),\n",
    "#             1,\n",
    "#         )\n",
    "#         .values\n",
    "#     )\n",
    "#     .merge(\n",
    "#         map_info[[\"pos_global\", \"pos\"]].rename(\n",
    "#             columns={\"pos_global\": \"energizers_global\"}\n",
    "#         ),\n",
    "#         left_on=\"energizers\",\n",
    "#         right_on=\"pos\",\n",
    "#         how=\"left\",\n",
    "#     )\n",
    "#     .drop(columns=\"pos\")\n",
    "# )\n",
    "\n",
    "# ## energizers relative dirs\n",
    "# df_model = df_model.merge(\n",
    "#     energizer2global.merge(\n",
    "#         locs_df[[\"pos1\", \"pos2\", \"relative_dir\"]],\n",
    "#         right_on=[\"pos2\", \"pos1\"],\n",
    "#         left_on=[\"energizers\", \"pacmanPos\"],\n",
    "#     )\n",
    "#     .drop(columns=[\"pos2\", \"pos1\"])\n",
    "#     .groupby([\"file\", \"index\", \"pacmanPos\"])\n",
    "#     .apply(lambda x: list(set(x.relative_dir)))\n",
    "#     .rename(\"energizers_dir\")\n",
    "#     .reset_index(),\n",
    "#     on=[\"file\", \"index\", \"pacmanPos\"],\n",
    "#     how=\"left\",\n",
    "# )\n",
    "\n",
    "# ## energizers relative global dirs\n",
    "# df_model = df_model.merge(\n",
    "#     energizer2global.merge(\n",
    "#         global_pos_dirs,\n",
    "#         right_on=[\"pos2\", \"pos1\"],\n",
    "#         left_on=[\"energizers_global\", \"pos_global\"],\n",
    "#     )\n",
    "#     .drop(columns=[\"pos2\", \"pos1\"])\n",
    "#     .groupby([\"file\", \"index\", \"pacmanPos\"])\n",
    "#     .apply(lambda x: list(set(itertools.chain(*x.relative_dir))))\n",
    "#     .rename(\"energizers_dir_global\")\n",
    "#     .reset_index(),\n",
    "#     on=[\"file\", \"index\", \"pacmanPos\"],\n",
    "#     how=\"left\",\n",
    "# )\n",
    "\n",
    "# # df_model[\"cluster_quality\"] = df_model.cluster_beancount.apply(\n",
    "# #     lambda x: variation(sorted(x)[:-1])\n",
    "# # )\n",
    "\n",
    "# ## fillin NaN with []\n",
    "# df_model.loc[\n",
    "#     df_model.energizers_dir_global.isnull(), \"energizers_dir_global\"\n",
    "# ] = df_model.loc[\n",
    "#     df_model.energizers_dir_global.isnull(), \"energizers_dir_global\"\n",
    "# ].apply(\n",
    "#     lambda x: []\n",
    "# )\n",
    "\n",
    "\n",
    "# df_model.loc[df_model.energizers.isnull(), \"energizers_dir\"] = df_model.loc[\n",
    "#     df_model.energizers.isnull(), \"energizers_dir\"\n",
    "# ].apply(lambda x: [])\n",
    "\n",
    "df_model = df_model.merge(\n",
    "    global_pos_dirs[[\"pos2\", \"pos1\", \"relative_dir\"]].rename(\n",
    "        columns={\"relative_dir\": \"ghost1_dir_global\"}\n",
    "    ),\n",
    "    left_on=[\"ghost1Pos_global\", \"pos_global\"],\n",
    "    right_on=[\"pos2\", \"pos1\"],\n",
    "    how=\"left\",\n",
    ").drop(columns=[\"pos1\", \"pos2\"])\n",
    "\n",
    "df_model = df_model.merge(\n",
    "    global_pos_dirs[[\"pos2\", \"pos1\", \"relative_dir\"]].rename(\n",
    "        columns={\"relative_dir\": \"ghost2_dir_global\"}\n",
    "    ),\n",
    "    left_on=[\"ghost2Pos_global\", \"pos_global\"],\n",
    "    right_on=[\"pos2\", \"pos1\"],\n",
    "    how=\"left\",\n",
    ").drop(columns=[\"pos1\", \"pos2\"])\n",
    "\n",
    "df_global_dirs = (\n",
    "    df_model[[\"file\", \"index\", \"got_bean_regions\", \"pacman_region\"]]\n",
    "    .explode(\"got_bean_regions\")\n",
    "    .merge(\n",
    "        global_pos_dirs,\n",
    "        left_on=[\"got_bean_regions\", \"pacman_region\"],\n",
    "        right_on=[\"pos2_region\", \"pos1_region\"],\n",
    "        how=\"left\",\n",
    "    )\n",
    "    .drop(columns=[\"pos2_region\", \"pos1_region\", \"pos1\", \"pos2\"])\n",
    "    .merge(\n",
    "        df_model.set_index([\"file\", \"index\"])\n",
    "        .filter(regex=\"region_[0-9]+\")\n",
    "        .stack()\n",
    "        .rename(\"value\")\n",
    "        .reset_index(),\n",
    "        left_on=[\"file\", \"index\", \"got_bean_regions\"],\n",
    "        right_on=[\"file\", \"index\", \"level_2\"],\n",
    "        how=\"left\",\n",
    "    )\n",
    "    .drop(columns=[\"level_2\"])\n",
    ")"
   ]
  },
  {
   "cell_type": "code",
   "execution_count": 281,
   "metadata": {},
   "outputs": [
    {
     "data": {
      "text/plain": [
       "<IPython.core.display.Javascript object>"
      ]
     },
     "metadata": {},
     "output_type": "display_data"
    }
   ],
   "source": [
    "df_global_dirs = (\n",
    "    df_global_dirs[\n",
    "        df_global_dirs.relative_dir.isin([[\"up\"], [\"down\"], [\"right\"], [\"left\"]])\n",
    "    ]\n",
    "    .explode(\"relative_dir\")\n",
    "    .groupby([\"file\", \"index\", \"relative_dir\"])\n",
    "    .value.sum()\n",
    "    .reset_index()\n",
    "    .pivot_table(\n",
    "        index=\"relative_dir\", columns=[\"file\", \"index\"], values=\"value\", aggfunc=\"sum\"\n",
    "    )\n",
    "    .T.reset_index()\n",
    "    .fillna(0)\n",
    ")"
   ]
  },
  {
   "cell_type": "code",
   "execution_count": 282,
   "metadata": {},
   "outputs": [
    {
     "data": {
      "text/plain": [
       "<IPython.core.display.Javascript object>"
      ]
     },
     "metadata": {},
     "output_type": "display_data"
    }
   ],
   "source": [
    "df_global_dirs.columns = df_global_dirs.columns[:-4].tolist() + list(\n",
    "    \"global_\" + df_global_dirs.columns[-4:]\n",
    ")\n",
    "\n",
    "df_model = df_model.merge(df_global_dirs, on=[\"file\", \"index\"])"
   ]
  },
  {
   "cell_type": "code",
   "execution_count": 283,
   "metadata": {},
   "outputs": [
    {
     "data": {
      "text/plain": [
       "<IPython.core.display.Javascript object>"
      ]
     },
     "metadata": {},
     "output_type": "display_data"
    }
   ],
   "source": [
    "df_model = df_model[\n",
    "    df_model.apply(\n",
    "        lambda x: len(x.got_bean_regions) - 1\n",
    "        if x.pacman_region in x.got_bean_regions\n",
    "        else len(x.got_bean_regions),\n",
    "        1,\n",
    "    )\n",
    "    > 0\n",
    "]"
   ]
  },
  {
   "cell_type": "markdown",
   "metadata": {},
   "source": [
    "### No Scared: 建模"
   ]
  },
  {
   "cell_type": "markdown",
   "metadata": {},
   "source": [
    "#### 旧features建模"
   ]
  },
  {
   "cell_type": "code",
   "execution_count": null,
   "metadata": {},
   "outputs": [],
   "source": [
    "local_features = [\n",
    "    \"nearbean_dir_big\",\n",
    "    \"next_possible_dir\",\n",
    "    \"ghost_cross_over_dirs\",\n",
    "    \"pacman_dir\",\n",
    "    \"energizer_dirs_big\",\n",
    "    \"if_go_straight_local\",\n",
    "    \"handler\",\n",
    "]\n",
    "\n",
    "\n",
    "global_features = [\n",
    "    \"nearbean_dir_big_global\",\n",
    "    \"next_possible_dir\",\n",
    "    \"ghost_cross_over_dirs_global\",\n",
    "    \"pacman_dir\",\n",
    "    \"energizer_dirs_big_global\",\n",
    "    \"if_go_straight_global\",\n",
    "    \"handler\",\n",
    "]\n",
    "\n",
    "X = df_model.assign(\n",
    "    ghost_cross_over_dirs=df_model.apply(\n",
    "        lambda x: list(set(x.energizer_dirs_big) & set(x.next_possible_dir))\n",
    "        if not isinstance(x.energizer_dirs_big, float)\n",
    "        else np.nan,\n",
    "        1,\n",
    "    ),\n",
    "    ghost_cross_over_dirs_global=df_model.apply(\n",
    "        lambda x: list(set(x.energizer_dirs_big_global) & set(x.next_possible_dir))\n",
    "        if not isinstance(x.energizer_dirs_big_global, float)\n",
    "        else np.nan,\n",
    "        1,\n",
    "    ),\n",
    ")[\n",
    "    df_model.assign(handlertext=df_model.handler.replace(handler_mapping)).apply(\n",
    "        lambda x: x.handlertext in x.next_possible_dir\n",
    "        if x.next_possible_dir and not isinstance(x.next_possible_dir, float)\n",
    "        else False,\n",
    "        1,\n",
    "    )\n",
    "][\n",
    "    local_features\n",
    "]\n",
    "X.if_go_straight_local.fillna(False, inplace=True)\n",
    "\n",
    "les = {}\n",
    "le = preprocessing.LabelEncoder()\n",
    "for i in local_features[:-2]:\n",
    "    X[i] = le.fit_transform(X[i].astype(str))\n",
    "    les[i] = dict(zip(le.transform(le.classes_), le.classes_))\n",
    "\n",
    "X_train, X_test, Y_train, Y_test = train_test_split(\n",
    "    X.loc[:, X.columns != \"handler\"], X.handler, test_size=0.3, random_state=42\n",
    ")\n",
    "\n",
    "clf = DecisionTreeClassifier(class_weight=\"balanced\")\n",
    "clf.fit(X_train, Y_train)\n",
    "\n",
    "y_pred = (\n",
    "    pd.DataFrame(clf.predict_proba(X_test), columns=[1, 2, 3, 4])\n",
    "    .mask(\n",
    "        (\n",
    "            1\n",
    "            - pd.get_dummies(\n",
    "                df_model.loc[X_test.index, \"next_possible_dir\"].apply(pd.Series).stack()\n",
    "            ).sum(level=0)[[\"up\", \"down\", \"left\", \"right\"]]\n",
    "        )\n",
    "        .astype(bool)\n",
    "        .values\n",
    "    )\n",
    "    .idxmax(axis=1)\n",
    ")\n",
    "\n",
    "confusion_matrix(Y_test, y_pred)\n",
    "accuracy_score(Y_test, y_pred)"
   ]
  },
  {
   "cell_type": "markdown",
   "metadata": {},
   "source": [
    "#### 新features建模"
   ]
  },
  {
   "cell_type": "code",
   "execution_count": 240,
   "metadata": {},
   "outputs": [
    {
     "data": {
      "text/plain": [
       "0.8112903225806452"
      ]
     },
     "execution_count": 240,
     "metadata": {},
     "output_type": "execute_result"
    },
    {
     "data": {
      "text/plain": [
       "<IPython.core.display.Javascript object>"
      ]
     },
     "metadata": {},
     "output_type": "display_data"
    }
   ],
   "source": [
    "local_features = [\n",
    "    \"local_up\",\n",
    "    \"local_down\",\n",
    "    \"local_left\",\n",
    "    \"local_right\",\n",
    "    #     \"pacman_dir\",\n",
    "    \"ghost1_wrt_pacman\",\n",
    "    \"pacmanPos\",\n",
    "    #     \"current_possible_dirs\",\n",
    "    #     \"next_possible_dir\",\n",
    "    #     \"energizers_dir\",\n",
    "    #     \"nearbean_dir_local\",\n",
    "    \"next_pacman_dir\",\n",
    "]\n",
    "\n",
    "# global_features = [\n",
    "#     \"bean_dirs_global\",\n",
    "#     \"ghost1_dir_global\",\n",
    "#     \"bean_dirs_global_energizers\",\n",
    "#     \"next_possible_dir\",\n",
    "#     \"handler\",\n",
    "# ]\n",
    "\n",
    "global_features = [\n",
    "    #     \"region_4\",\n",
    "    #     \"region_6\",\n",
    "    #     \"region_5\",\n",
    "    #     \"region_3\",\n",
    "    #     \"region_2\",\n",
    "    #     \"region_8\",\n",
    "    #     \"region_7\",\n",
    "    #     \"region_1\",\n",
    "    #     \"region_0\",\n",
    "    #     \"region_9\",\n",
    "    #     \"region_10\",\n",
    "    \"global_up\",\n",
    "    \"global_down\",\n",
    "    \"global_left\",\n",
    "    \"global_right\",\n",
    "    #     \"pacman_dir\",\n",
    "    #     \"pos_global\",\n",
    "    \"ghost1_dir_global\",\n",
    "    \"pacman_region\",\n",
    "    #     \"current_possible_dirs\",\n",
    "    #     \"next_possible_dir\",\n",
    "    #         \"energizers_dir_global\",\n",
    "    \"next_pacman_dir\",\n",
    "]\n",
    "\n",
    "X = (\n",
    "    df_model\n",
    "    #     [\n",
    "    #         df_model.assign(handlertext=df_model.handler.replace(handler_mapping)).apply(\n",
    "    #             lambda x: x.handlertext in x.next_possible_dir\n",
    "    #             if x.next_possible_dir and not isinstance(x.next_possible_dir, float)\n",
    "    #             else False,\n",
    "    #             1,\n",
    "    #         )\n",
    "    #     ]\n",
    "    .loc[\n",
    "        #         df_model.apply(\n",
    "        #             lambda x: len(x.got_bean_regions) - 1\n",
    "        #             if x.pacman_region in x.got_bean_regions\n",
    "        #             else len(x.got_bean_regions),\n",
    "        #             1,\n",
    "        #         )\n",
    "        #         .where(lambda x: x == 1)\n",
    "        #         .dropna()\n",
    "        #         .index.values,\n",
    "        :,\n",
    "        local_features,\n",
    "    ].dropna(subset=[\"next_pacman_dir\"])\n",
    ")\n",
    "\n",
    "les = {}\n",
    "le = preprocessing.LabelEncoder()\n",
    "for i in local_features[4:-1]:\n",
    "    # for i in global_features[4:-1]:\n",
    "    X[i] = le.fit_transform(X[i].astype(str))\n",
    "    les[i] = dict(zip(le.transform(le.classes_), le.classes_))\n",
    "\n",
    "X_train, X_test, Y_train, Y_test = train_test_split(\n",
    "    X.loc[:, X.columns != \"next_pacman_dir\"],\n",
    "    X.next_pacman_dir,\n",
    "    test_size=0.3,\n",
    "    random_state=42,\n",
    ")\n",
    "\n",
    "clf = DecisionTreeClassifier(class_weight=\"balanced\", max_depth=5)\n",
    "clf.fit(X_train, Y_train)\n",
    "\n",
    "# y_pred = (\n",
    "#     pd.DataFrame(clf.predict_proba(X_test), columns=[1,2,3,4])\n",
    "#     .mask(\n",
    "#         (\n",
    "#             1\n",
    "#             - pd.get_dummies(\n",
    "#                 df_model.loc[X_test.index, \"current_possible_dirs\"]\n",
    "#                 .apply(pd.Series)\n",
    "#                 .stack()\n",
    "#             ).sum(level=0)[[\"up\", \"down\", \"left\", \"right\"]]\n",
    "#         )\n",
    "#         .astype(bool)\n",
    "#         .values\n",
    "#     )\n",
    "#     .idxmax(axis=1)\n",
    "# )\n",
    "\n",
    "y_pred = (\n",
    "    pd.DataFrame(clf.predict_proba(X_test), columns=[\"down\", \"left\", \"right\", \"up\"])\n",
    "    .mask(\n",
    "        (\n",
    "            1\n",
    "            - pd.get_dummies(\n",
    "                df_model.loc[X_test.index, \"current_possible_dirs\"]\n",
    "                .apply(pd.Series)\n",
    "                .stack()\n",
    "            ).sum(level=0)[[\"down\", \"left\", \"right\", \"up\"]]\n",
    "        )\n",
    "        .astype(bool)\n",
    "        .values\n",
    "    )\n",
    "    .idxmax(axis=1)\n",
    ")\n",
    "\n",
    "confusion_matrix(Y_test, y_pred)\n",
    "accuracy_score(Y_test, y_pred)"
   ]
  },
  {
   "cell_type": "code",
   "execution_count": 247,
   "metadata": {},
   "outputs": [
    {
     "data": {
      "text/plain": [
       "pacmanPos  got_bean_regions  next_pacman_dir\n",
       "(13, 27)   region_7          right              1\n",
       "(16, 21)   region_6          left               1\n",
       "           region_5          left               1\n",
       "           region_0          left               1\n",
       "(16, 9)    region_0          left               1\n",
       "(15, 33)   region_0          left               1\n",
       "(15, 27)   region_5          left               1\n",
       "(15, 21)   region_6          left               1\n",
       "           region_5          left               1\n",
       "           region_0          left               1\n",
       "(15, 9)    region_0          left               1\n",
       "(16, 24)   region_7          right              1\n",
       "(14, 33)   region_7          right              1\n",
       "           region_0          right              1\n",
       "                             left               1\n",
       "(14, 27)   region_6          right              1\n",
       "           region_2          left               1\n",
       "(14, 21)   region_6          left               1\n",
       "           region_5          left               1\n",
       "           region_0          left               1\n",
       "(13, 33)   region_4          left               1\n",
       "           region_0          right              1\n",
       "                             left               1\n",
       "(14, 33)   region_4          left               1\n",
       "(13, 32)   region_9          down               1\n",
       "(16, 25)   region_7          up                 1\n",
       "(16, 27)   region_0          right              1\n",
       "(17, 24)   region_7          right              1\n",
       "(17, 21)   region_6          left               1\n",
       "           region_5          left               1\n",
       "Name: index, dtype: int64"
      ]
     },
     "execution_count": 247,
     "metadata": {},
     "output_type": "execute_result"
    },
    {
     "data": {
      "text/plain": [
       "<IPython.core.display.Javascript object>"
      ]
     },
     "metadata": {},
     "output_type": "display_data"
    }
   ],
   "source": [
    "df_model.groupby(\n",
    "    [\"pacmanPos\", df_model.got_bean_regions.apply(lambda x: x[0]), \"next_pacman_dir\"]\n",
    ")[\"index\"].count().sort_values()[:30]"
   ]
  },
  {
   "cell_type": "code",
   "execution_count": null,
   "metadata": {},
   "outputs": [],
   "source": [
    "df_model.loc[X_test.index, global_features + [\"file\", \"index\"]].assign(\n",
    "    y_pred=y_pred.values, y_actual=Y_test.values\n",
    ").loc[y_pred.values != Y_test.values]"
   ]
  },
  {
   "cell_type": "markdown",
   "metadata": {},
   "source": [
    "#### 比对global和local预测的结果"
   ]
  },
  {
   "cell_type": "code",
   "execution_count": null,
   "metadata": {},
   "outputs": [],
   "source": [
    "check_if_local_global = df_model[\n",
    "    df_model.assign(handlertext=df_model.handler.replace(handler_mapping)).apply(\n",
    "        lambda x: x.handlertext in x.next_possible_dir\n",
    "        if x.next_possible_dir and not isinstance(x.next_possible_dir, float)\n",
    "        else False,\n",
    "        1,\n",
    "    )\n",
    "]\n",
    "\n",
    "check_if_local_global.loc[X.handler.values == y_pred.values, \"global_get\"] = 1\n",
    "check_if_local_global.loc[X.handler.values == y_pred1.values, \"local_get\"] = 1"
   ]
  },
  {
   "cell_type": "code",
   "execution_count": null,
   "metadata": {
    "scrolled": false
   },
   "outputs": [],
   "source": [
    "check_if_local_global[\"exclude_pos\"] = check_if_local_global.apply(\n",
    "    lambda x: pd.value_counts(x.beans_global).drop(x.pos_global).values\n",
    "    if x.pos_global in pd.value_counts(x.beans_global).index\n",
    "    else pd.value_counts(x.beans_global).values,\n",
    "    1,\n",
    ")"
   ]
  },
  {
   "cell_type": "code",
   "execution_count": null,
   "metadata": {
    "scrolled": false
   },
   "outputs": [],
   "source": [
    "## 加交叉项：global dir和手柄选择\n",
    "check_if_local_global[\n",
    "    check_if_local_global.cluster_beancount.astype(str)\n",
    "    == check_if_local_global.exclude_pos.astype(str)\n",
    "][\n",
    "    [\n",
    "        \"file\",\n",
    "        \"index\",\n",
    "        \"cluster_beancount\",\n",
    "        \"cluster_quality\",\n",
    "        \"global_get\",\n",
    "        \"local_get\",\n",
    "        \"exclude_pos\",\n",
    "        \"bean_dirs_global\",\n",
    "    ]\n",
    "]"
   ]
  },
  {
   "cell_type": "markdown",
   "metadata": {},
   "source": [
    "### 预测准确度热力图"
   ]
  },
  {
   "cell_type": "code",
   "execution_count": null,
   "metadata": {},
   "outputs": [],
   "source": [
    "# y_pred = (\n",
    "#     pd.DataFrame(\n",
    "#         clf.predict_proba(X.loc[:, X.columns != \"handler\"]), columns=[1, 2, 3, 4]\n",
    "#     )\n",
    "#     .mask(\n",
    "#         (\n",
    "#             1\n",
    "#             - pd.get_dummies(\n",
    "#                 df_model.loc[X.index, \"next_possible_dir\"].apply(pd.Series).stack()\n",
    "#             ).sum(level=0)[[\"up\", \"down\", \"left\", \"right\"]]\n",
    "#         )\n",
    "#         .astype(bool)\n",
    "#         .values\n",
    "#     )\n",
    "#     .idxmax(axis=1)\n",
    "# )\n",
    "\n",
    "y_pred = (\n",
    "    pd.DataFrame(clf.predict_proba(X_test), columns=[\"down\", \"left\", \"right\", \"up\"],)\n",
    "    .mask(\n",
    "        (\n",
    "            1\n",
    "            - pd.get_dummies(\n",
    "                df_model.loc[X_test.index, \"current_possible_dirs\"]\n",
    "                .apply(pd.Series)\n",
    "                .stack()\n",
    "            ).sum(level=0)[[\"down\", \"left\", \"right\", \"up\"]]\n",
    "        )\n",
    "        .astype(bool)\n",
    "        .values\n",
    "    )\n",
    "    .idxmax(axis=1)\n",
    ")\n",
    "\n",
    "# y_pred: global, y_pred1: local\n",
    "accuracy_map = (\n",
    "    df_model.loc[X_test.index, [\"pacmanPos\", \"next_pacman_dir\"]]\n",
    "    .assign(prd=y_pred.values, check=y_pred.values == Y_test.values)\n",
    "    .groupby(\"pacmanPos\")\n",
    "    .check.agg({\"avg_accuracy\": \"mean\", \"handler\": \"count\"},)\n",
    ")"
   ]
  },
  {
   "cell_type": "code",
   "execution_count": null,
   "metadata": {
    "scrolled": false
   },
   "outputs": [],
   "source": [
    "plt.rcParams[\"figure.dpi\"] = 300\n",
    "f, ax = plt.subplots(figsize=(10, 10))\n",
    "ax.set_title(\"T Junction: Local Features Applied\")\n",
    "sns.heatmap(array, ax=ax, linewidth=0.5, annot=False, cbar=False, cmap=\"bone\")\n",
    "sc = ax.scatter(\n",
    "    pd.Series(accuracy_map.index).apply(lambda x: x[0]) + 0.5,\n",
    "    pd.Series(accuracy_map.index).apply(lambda x: x[1]) + 0.5,\n",
    "    s=accuracy_map.handler / 2,\n",
    "    c=accuracy_map.avg_accuracy,\n",
    "    cmap=\"Oranges\",\n",
    ")\n",
    "plt.colorbar(sc, aspect=80)\n",
    "handles, labels = sc.legend_elements(prop=\"sizes\", alpha=0.6)\n",
    "# print(labels)\n",
    "labels = [i.replace(i[14:-2], str(int(int(i[14:-2]) * 2))) for i in labels]\n",
    "legend2 = plt.legend(handles, labels, ncol=5, title=\"Sample Size\")"
   ]
  },
  {
   "cell_type": "markdown",
   "metadata": {},
   "source": [
    "### ten_points_df第一个吃掉的豆子的距离"
   ]
  },
  {
   "cell_type": "code",
   "execution_count": 253,
   "metadata": {},
   "outputs": [
    {
     "data": {
      "text/plain": [
       "<IPython.core.display.Javascript object>"
      ]
     },
     "metadata": {},
     "output_type": "display_data"
    }
   ],
   "source": [
    "first_eat_bean = df_total[\n",
    "    df_total.file.isin(\n",
    "        ten_points_df.groupby(\"file\")[\"index\"]\n",
    "        .min()\n",
    "        .eq(0)\n",
    "        .replace({False: np.nan})\n",
    "        .dropna()\n",
    "        .index\n",
    "    )\n",
    "]"
   ]
  },
  {
   "cell_type": "code",
   "execution_count": 263,
   "metadata": {},
   "outputs": [
    {
     "name": "stderr",
     "output_type": "stream",
     "text": [
      "/home/zhihua/anaconda3/lib/python3.7/site-packages/pandas/core/generic.py:5303: SettingWithCopyWarning: \n",
      "A value is trying to be set on a copy of a slice from a DataFrame.\n",
      "Try using .loc[row_indexer,col_indexer] = value instead\n",
      "\n",
      "See the caveats in the documentation: https://pandas.pydata.org/pandas-docs/stable/user_guide/indexing.html#returning-a-view-versus-a-copy\n",
      "  self[name] = value\n"
     ]
    },
    {
     "data": {
      "text/plain": [
       "<IPython.core.display.Javascript object>"
      ]
     },
     "metadata": {},
     "output_type": "display_data"
    }
   ],
   "source": [
    "first_eat_bean.next_eat_rwd = first_eat_bean.next_eat_rwd.fillna(method=\"bfill\")"
   ]
  },
  {
   "cell_type": "code",
   "execution_count": 272,
   "metadata": {},
   "outputs": [
    {
     "data": {
      "text/plain": [
       "<matplotlib.axes._subplots.AxesSubplot at 0x7f84464195c0>"
      ]
     },
     "execution_count": 272,
     "metadata": {},
     "output_type": "execute_result"
    },
    {
     "data": {
      "image/png": "[encoded data removed]",
      "text/plain": [
       "<Figure size 1800x1200 with 1 Axes>"
      ]
     },
     "metadata": {
      "needs_background": "light"
     },
     "output_type": "display_data"
    },
    {
     "data": {
      "text/plain": [
       "<IPython.core.display.Javascript object>"
      ]
     },
     "metadata": {},
     "output_type": "display_data"
    }
   ],
   "source": [
    "sns.countplot(\n",
    "    first_eat_bean.groupby(\"file\")\n",
    "    .first()[[\"pacmanPos\", \"next_eat_rwd\"]]\n",
    "    .reset_index()\n",
    "    .merge(\n",
    "        locs_df[[\"pos1\", \"pos2\", \"dis\"]],\n",
    "        left_on=[\"pacmanPos\", \"next_eat_rwd\"],\n",
    "        right_on=[\"pos1\", \"pos2\"],\n",
    "        how=\"left\",\n",
    "    )\n",
    "    .drop_duplicates()\n",
    "    .dis\n",
    ")"
   ]
  },
  {
   "cell_type": "markdown",
   "metadata": {},
   "source": [
    "### pacman如何吃每个大区域的豆子"
   ]
  },
  {
   "cell_type": "code",
   "execution_count": 299,
   "metadata": {},
   "outputs": [
    {
     "data": {
      "text/plain": [
       "<IPython.core.display.Javascript object>"
      ]
     },
     "metadata": {},
     "output_type": "display_data"
    }
   ],
   "source": [
    "df_model = df_model.merge(\n",
    "    df_model[[\"file\", \"index\", \"beans_global\"]]\n",
    "    .explode(\"beans_global\")\n",
    "    .groupby([\"file\", \"index\"])\n",
    "    .apply(lambda x: list(x.beans_global.value_counts().values))\n",
    "    .reset_index(),\n",
    "    on=[\"file\", \"index\"],\n",
    "    how=\"left\",\n",
    ")"
   ]
  },
  {
   "cell_type": "code",
   "execution_count": 301,
   "metadata": {},
   "outputs": [
    {
     "data": {
      "text/plain": [
       "<IPython.core.display.Javascript object>"
      ]
     },
     "metadata": {},
     "output_type": "display_data"
    }
   ],
   "source": [
    "df_model = df_model.rename(columns={0: \"beans_in_each_region\"})"
   ]
  },
  {
   "cell_type": "code",
   "execution_count": 307,
   "metadata": {},
   "outputs": [
    {
     "data": {
      "text/html": [
       "<div>\n",
       "<style scoped>\n",
       "    .dataframe tbody tr th:only-of-type {\n",
       "        vertical-align: middle;\n",
       "    }\n",
       "\n",
       "    .dataframe tbody tr th {\n",
       "        vertical-align: top;\n",
       "    }\n",
       "\n",
       "    .dataframe thead th {\n",
       "        text-align: right;\n",
       "    }\n",
       "</style>\n",
       "<table border=\"1\" class=\"dataframe\">\n",
       "  <thead>\n",
       "    <tr style=\"text-align: right;\">\n",
       "      <th></th>\n",
       "      <th>file</th>\n",
       "      <th>index</th>\n",
       "      <th>beans_in_each_region</th>\n",
       "    </tr>\n",
       "  </thead>\n",
       "  <tbody>\n",
       "    <tr>\n",
       "      <th>50</th>\n",
       "      <td>10-1-Omega-16-Jul-2019.csv</td>\n",
       "      <td>215</td>\n",
       "      <td>[6, 6, 6, 2, 2, 1]</td>\n",
       "    </tr>\n",
       "    <tr>\n",
       "      <th>51</th>\n",
       "      <td>10-1-Omega-16-Jul-2019.csv</td>\n",
       "      <td>262</td>\n",
       "      <td>[3, 3, 2, 1]</td>\n",
       "    </tr>\n",
       "    <tr>\n",
       "      <th>52</th>\n",
       "      <td>10-1-Omega-16-Jul-2019.csv</td>\n",
       "      <td>263</td>\n",
       "      <td>[3, 3, 2, 1]</td>\n",
       "    </tr>\n",
       "    <tr>\n",
       "      <th>53</th>\n",
       "      <td>10-1-Omega-16-Jul-2019.csv</td>\n",
       "      <td>264</td>\n",
       "      <td>[3, 3, 2, 1]</td>\n",
       "    </tr>\n",
       "    <tr>\n",
       "      <th>54</th>\n",
       "      <td>10-1-Omega-16-Jul-2019.csv</td>\n",
       "      <td>265</td>\n",
       "      <td>[3, 3, 2, 1]</td>\n",
       "    </tr>\n",
       "    <tr>\n",
       "      <th>55</th>\n",
       "      <td>10-1-Omega-16-Jul-2019.csv</td>\n",
       "      <td>266</td>\n",
       "      <td>[3, 3, 2, 1]</td>\n",
       "    </tr>\n",
       "    <tr>\n",
       "      <th>56</th>\n",
       "      <td>10-1-Omega-16-Jul-2019.csv</td>\n",
       "      <td>267</td>\n",
       "      <td>[3, 3, 2, 1]</td>\n",
       "    </tr>\n",
       "    <tr>\n",
       "      <th>57</th>\n",
       "      <td>10-1-Omega-16-Jul-2019.csv</td>\n",
       "      <td>268</td>\n",
       "      <td>[3, 2, 2, 1]</td>\n",
       "    </tr>\n",
       "    <tr>\n",
       "      <th>58</th>\n",
       "      <td>10-1-Omega-16-Jul-2019.csv</td>\n",
       "      <td>269</td>\n",
       "      <td>[3, 2, 2, 1]</td>\n",
       "    </tr>\n",
       "    <tr>\n",
       "      <th>59</th>\n",
       "      <td>10-1-Omega-16-Jul-2019.csv</td>\n",
       "      <td>270</td>\n",
       "      <td>[3, 2, 2, 1]</td>\n",
       "    </tr>\n",
       "    <tr>\n",
       "      <th>60</th>\n",
       "      <td>10-1-Omega-16-Jul-2019.csv</td>\n",
       "      <td>271</td>\n",
       "      <td>[3, 2, 1, 1]</td>\n",
       "    </tr>\n",
       "    <tr>\n",
       "      <th>61</th>\n",
       "      <td>10-1-Omega-16-Jul-2019.csv</td>\n",
       "      <td>272</td>\n",
       "      <td>[3, 2, 1, 1]</td>\n",
       "    </tr>\n",
       "    <tr>\n",
       "      <th>62</th>\n",
       "      <td>10-1-Omega-16-Jul-2019.csv</td>\n",
       "      <td>273</td>\n",
       "      <td>[3, 2, 1, 1]</td>\n",
       "    </tr>\n",
       "    <tr>\n",
       "      <th>63</th>\n",
       "      <td>10-1-Omega-16-Jul-2019.csv</td>\n",
       "      <td>274</td>\n",
       "      <td>[3, 2, 1, 1]</td>\n",
       "    </tr>\n",
       "    <tr>\n",
       "      <th>64</th>\n",
       "      <td>10-1-Omega-16-Jul-2019.csv</td>\n",
       "      <td>275</td>\n",
       "      <td>[3, 2, 1, 1]</td>\n",
       "    </tr>\n",
       "    <tr>\n",
       "      <th>65</th>\n",
       "      <td>10-1-Omega-16-Jul-2019.csv</td>\n",
       "      <td>276</td>\n",
       "      <td>[3, 2, 1, 1]</td>\n",
       "    </tr>\n",
       "    <tr>\n",
       "      <th>66</th>\n",
       "      <td>10-1-Omega-16-Jul-2019.csv</td>\n",
       "      <td>277</td>\n",
       "      <td>[3, 2, 1, 1]</td>\n",
       "    </tr>\n",
       "    <tr>\n",
       "      <th>67</th>\n",
       "      <td>10-1-Omega-16-Jul-2019.csv</td>\n",
       "      <td>278</td>\n",
       "      <td>[3, 2, 1, 1]</td>\n",
       "    </tr>\n",
       "    <tr>\n",
       "      <th>68</th>\n",
       "      <td>10-1-Omega-16-Jul-2019.csv</td>\n",
       "      <td>279</td>\n",
       "      <td>[3, 2, 1, 1]</td>\n",
       "    </tr>\n",
       "    <tr>\n",
       "      <th>69</th>\n",
       "      <td>10-1-Omega-16-Jul-2019.csv</td>\n",
       "      <td>280</td>\n",
       "      <td>[3, 2, 1, 1]</td>\n",
       "    </tr>\n",
       "    <tr>\n",
       "      <th>70</th>\n",
       "      <td>10-1-Omega-16-Jul-2019.csv</td>\n",
       "      <td>281</td>\n",
       "      <td>[3, 2, 1, 1]</td>\n",
       "    </tr>\n",
       "    <tr>\n",
       "      <th>71</th>\n",
       "      <td>10-1-Omega-16-Jul-2019.csv</td>\n",
       "      <td>282</td>\n",
       "      <td>[3, 2, 1, 1]</td>\n",
       "    </tr>\n",
       "    <tr>\n",
       "      <th>72</th>\n",
       "      <td>10-1-Omega-16-Jul-2019.csv</td>\n",
       "      <td>283</td>\n",
       "      <td>[3, 2, 1, 1]</td>\n",
       "    </tr>\n",
       "    <tr>\n",
       "      <th>73</th>\n",
       "      <td>10-1-Omega-16-Jul-2019.csv</td>\n",
       "      <td>284</td>\n",
       "      <td>[3, 2, 1, 1]</td>\n",
       "    </tr>\n",
       "    <tr>\n",
       "      <th>74</th>\n",
       "      <td>10-1-Omega-16-Jul-2019.csv</td>\n",
       "      <td>285</td>\n",
       "      <td>[3, 2, 1, 1]</td>\n",
       "    </tr>\n",
       "    <tr>\n",
       "      <th>75</th>\n",
       "      <td>10-1-Omega-16-Jul-2019.csv</td>\n",
       "      <td>286</td>\n",
       "      <td>[3, 2, 1, 1]</td>\n",
       "    </tr>\n",
       "    <tr>\n",
       "      <th>76</th>\n",
       "      <td>10-1-Omega-16-Jul-2019.csv</td>\n",
       "      <td>287</td>\n",
       "      <td>[3, 2, 1, 1]</td>\n",
       "    </tr>\n",
       "    <tr>\n",
       "      <th>77</th>\n",
       "      <td>10-1-Omega-16-Jul-2019.csv</td>\n",
       "      <td>288</td>\n",
       "      <td>[3, 2, 1, 1]</td>\n",
       "    </tr>\n",
       "    <tr>\n",
       "      <th>78</th>\n",
       "      <td>10-1-Omega-16-Jul-2019.csv</td>\n",
       "      <td>289</td>\n",
       "      <td>[3, 2, 1]</td>\n",
       "    </tr>\n",
       "    <tr>\n",
       "      <th>79</th>\n",
       "      <td>10-1-Omega-16-Jul-2019.csv</td>\n",
       "      <td>290</td>\n",
       "      <td>[3, 2, 1]</td>\n",
       "    </tr>\n",
       "    <tr>\n",
       "      <th>80</th>\n",
       "      <td>10-1-Omega-16-Jul-2019.csv</td>\n",
       "      <td>291</td>\n",
       "      <td>[3, 1, 1]</td>\n",
       "    </tr>\n",
       "    <tr>\n",
       "      <th>81</th>\n",
       "      <td>10-1-Omega-16-Jul-2019.csv</td>\n",
       "      <td>292</td>\n",
       "      <td>[2, 1]</td>\n",
       "    </tr>\n",
       "    <tr>\n",
       "      <th>82</th>\n",
       "      <td>10-2-Omega-16-Jul-2019.csv</td>\n",
       "      <td>0</td>\n",
       "      <td>[3, 1]</td>\n",
       "    </tr>\n",
       "    <tr>\n",
       "      <th>83</th>\n",
       "      <td>10-2-Omega-16-Jul-2019.csv</td>\n",
       "      <td>1</td>\n",
       "      <td>[3, 1]</td>\n",
       "    </tr>\n",
       "    <tr>\n",
       "      <th>84</th>\n",
       "      <td>10-2-Omega-16-Jul-2019.csv</td>\n",
       "      <td>2</td>\n",
       "      <td>[3, 1]</td>\n",
       "    </tr>\n",
       "    <tr>\n",
       "      <th>85</th>\n",
       "      <td>10-2-Omega-16-Jul-2019.csv</td>\n",
       "      <td>3</td>\n",
       "      <td>[3, 1]</td>\n",
       "    </tr>\n",
       "    <tr>\n",
       "      <th>86</th>\n",
       "      <td>10-2-Omega-16-Jul-2019.csv</td>\n",
       "      <td>4</td>\n",
       "      <td>[3, 1]</td>\n",
       "    </tr>\n",
       "    <tr>\n",
       "      <th>87</th>\n",
       "      <td>10-2-Omega-16-Jul-2019.csv</td>\n",
       "      <td>5</td>\n",
       "      <td>[3, 1]</td>\n",
       "    </tr>\n",
       "    <tr>\n",
       "      <th>88</th>\n",
       "      <td>10-2-Omega-16-Jul-2019.csv</td>\n",
       "      <td>6</td>\n",
       "      <td>[3, 1]</td>\n",
       "    </tr>\n",
       "    <tr>\n",
       "      <th>89</th>\n",
       "      <td>10-2-Omega-16-Jul-2019.csv</td>\n",
       "      <td>7</td>\n",
       "      <td>[3, 1]</td>\n",
       "    </tr>\n",
       "    <tr>\n",
       "      <th>90</th>\n",
       "      <td>10-2-Omega-16-Jul-2019.csv</td>\n",
       "      <td>15</td>\n",
       "      <td>[2, 1]</td>\n",
       "    </tr>\n",
       "    <tr>\n",
       "      <th>91</th>\n",
       "      <td>10-2-Omega-16-Jul-2019.csv</td>\n",
       "      <td>16</td>\n",
       "      <td>[2, 1]</td>\n",
       "    </tr>\n",
       "    <tr>\n",
       "      <th>92</th>\n",
       "      <td>10-2-Omega-16-Jul-2019.csv</td>\n",
       "      <td>17</td>\n",
       "      <td>[2, 1]</td>\n",
       "    </tr>\n",
       "    <tr>\n",
       "      <th>93</th>\n",
       "      <td>10-2-Omega-16-Jul-2019.csv</td>\n",
       "      <td>18</td>\n",
       "      <td>[2, 1]</td>\n",
       "    </tr>\n",
       "    <tr>\n",
       "      <th>94</th>\n",
       "      <td>10-2-Omega-16-Jul-2019.csv</td>\n",
       "      <td>19</td>\n",
       "      <td>[2, 1]</td>\n",
       "    </tr>\n",
       "    <tr>\n",
       "      <th>95</th>\n",
       "      <td>10-2-Omega-16-Jul-2019.csv</td>\n",
       "      <td>20</td>\n",
       "      <td>[2, 1]</td>\n",
       "    </tr>\n",
       "    <tr>\n",
       "      <th>96</th>\n",
       "      <td>10-2-Omega-16-Jul-2019.csv</td>\n",
       "      <td>21</td>\n",
       "      <td>[2, 1]</td>\n",
       "    </tr>\n",
       "    <tr>\n",
       "      <th>97</th>\n",
       "      <td>10-2-Omega-16-Jul-2019.csv</td>\n",
       "      <td>22</td>\n",
       "      <td>[2, 1]</td>\n",
       "    </tr>\n",
       "    <tr>\n",
       "      <th>98</th>\n",
       "      <td>10-2-Omega-16-Jul-2019.csv</td>\n",
       "      <td>23</td>\n",
       "      <td>[2, 1]</td>\n",
       "    </tr>\n",
       "    <tr>\n",
       "      <th>99</th>\n",
       "      <td>10-2-Omega-16-Jul-2019.csv</td>\n",
       "      <td>24</td>\n",
       "      <td>[2, 1]</td>\n",
       "    </tr>\n",
       "  </tbody>\n",
       "</table>\n",
       "</div>"
      ],
      "text/plain": [
       "                          file  index beans_in_each_region\n",
       "50  10-1-Omega-16-Jul-2019.csv    215   [6, 6, 6, 2, 2, 1]\n",
       "51  10-1-Omega-16-Jul-2019.csv    262         [3, 3, 2, 1]\n",
       "52  10-1-Omega-16-Jul-2019.csv    263         [3, 3, 2, 1]\n",
       "53  10-1-Omega-16-Jul-2019.csv    264         [3, 3, 2, 1]\n",
       "54  10-1-Omega-16-Jul-2019.csv    265         [3, 3, 2, 1]\n",
       "55  10-1-Omega-16-Jul-2019.csv    266         [3, 3, 2, 1]\n",
       "56  10-1-Omega-16-Jul-2019.csv    267         [3, 3, 2, 1]\n",
       "57  10-1-Omega-16-Jul-2019.csv    268         [3, 2, 2, 1]\n",
       "58  10-1-Omega-16-Jul-2019.csv    269         [3, 2, 2, 1]\n",
       "59  10-1-Omega-16-Jul-2019.csv    270         [3, 2, 2, 1]\n",
       "60  10-1-Omega-16-Jul-2019.csv    271         [3, 2, 1, 1]\n",
       "61  10-1-Omega-16-Jul-2019.csv    272         [3, 2, 1, 1]\n",
       "62  10-1-Omega-16-Jul-2019.csv    273         [3, 2, 1, 1]\n",
       "63  10-1-Omega-16-Jul-2019.csv    274         [3, 2, 1, 1]\n",
       "64  10-1-Omega-16-Jul-2019.csv    275         [3, 2, 1, 1]\n",
       "65  10-1-Omega-16-Jul-2019.csv    276         [3, 2, 1, 1]\n",
       "66  10-1-Omega-16-Jul-2019.csv    277         [3, 2, 1, 1]\n",
       "67  10-1-Omega-16-Jul-2019.csv    278         [3, 2, 1, 1]\n",
       "68  10-1-Omega-16-Jul-2019.csv    279         [3, 2, 1, 1]\n",
       "69  10-1-Omega-16-Jul-2019.csv    280         [3, 2, 1, 1]\n",
       "70  10-1-Omega-16-Jul-2019.csv    281         [3, 2, 1, 1]\n",
       "71  10-1-Omega-16-Jul-2019.csv    282         [3, 2, 1, 1]\n",
       "72  10-1-Omega-16-Jul-2019.csv    283         [3, 2, 1, 1]\n",
       "73  10-1-Omega-16-Jul-2019.csv    284         [3, 2, 1, 1]\n",
       "74  10-1-Omega-16-Jul-2019.csv    285         [3, 2, 1, 1]\n",
       "75  10-1-Omega-16-Jul-2019.csv    286         [3, 2, 1, 1]\n",
       "76  10-1-Omega-16-Jul-2019.csv    287         [3, 2, 1, 1]\n",
       "77  10-1-Omega-16-Jul-2019.csv    288         [3, 2, 1, 1]\n",
       "78  10-1-Omega-16-Jul-2019.csv    289            [3, 2, 1]\n",
       "79  10-1-Omega-16-Jul-2019.csv    290            [3, 2, 1]\n",
       "80  10-1-Omega-16-Jul-2019.csv    291            [3, 1, 1]\n",
       "81  10-1-Omega-16-Jul-2019.csv    292               [2, 1]\n",
       "82  10-2-Omega-16-Jul-2019.csv      0               [3, 1]\n",
       "83  10-2-Omega-16-Jul-2019.csv      1               [3, 1]\n",
       "84  10-2-Omega-16-Jul-2019.csv      2               [3, 1]\n",
       "85  10-2-Omega-16-Jul-2019.csv      3               [3, 1]\n",
       "86  10-2-Omega-16-Jul-2019.csv      4               [3, 1]\n",
       "87  10-2-Omega-16-Jul-2019.csv      5               [3, 1]\n",
       "88  10-2-Omega-16-Jul-2019.csv      6               [3, 1]\n",
       "89  10-2-Omega-16-Jul-2019.csv      7               [3, 1]\n",
       "90  10-2-Omega-16-Jul-2019.csv     15               [2, 1]\n",
       "91  10-2-Omega-16-Jul-2019.csv     16               [2, 1]\n",
       "92  10-2-Omega-16-Jul-2019.csv     17               [2, 1]\n",
       "93  10-2-Omega-16-Jul-2019.csv     18               [2, 1]\n",
       "94  10-2-Omega-16-Jul-2019.csv     19               [2, 1]\n",
       "95  10-2-Omega-16-Jul-2019.csv     20               [2, 1]\n",
       "96  10-2-Omega-16-Jul-2019.csv     21               [2, 1]\n",
       "97  10-2-Omega-16-Jul-2019.csv     22               [2, 1]\n",
       "98  10-2-Omega-16-Jul-2019.csv     23               [2, 1]\n",
       "99  10-2-Omega-16-Jul-2019.csv     24               [2, 1]"
      ]
     },
     "execution_count": 307,
     "metadata": {},
     "output_type": "execute_result"
    },
    {
     "data": {
      "text/plain": [
       "<IPython.core.display.Javascript object>"
      ]
     },
     "metadata": {},
     "output_type": "display_data"
    }
   ],
   "source": [
    "df_model[[\"file\", \"index\", \"beans_in_each_region\"]][50:100]"
   ]
  },
  {
   "cell_type": "markdown",
   "metadata": {},
   "source": [
    "### 模拟agent to eat energizer"
   ]
  },
  {
   "cell_type": "code",
   "execution_count": 94,
   "metadata": {},
   "outputs": [
    {
     "data": {
      "text/plain": [
       "<IPython.core.display.Javascript object>"
      ]
     },
     "metadata": {},
     "output_type": "display_data"
    }
   ],
   "source": [
    "def energizer_graze_agent(pos, beans, energizers, pacman_last_dir):\n",
    "    #     set_trace()\n",
    "    temp = locs_df_notunl[(locs_df_notunl.pos1 == pos) & (locs_df_notunl.dis == 5)]\n",
    "\n",
    "    temp = (\n",
    "        temp.assign(\n",
    "            x1=temp.path.apply(lambda x: x[0][0]), x2=temp.path.apply(lambda x: x[0][1])\n",
    "        )\n",
    "        .merge(\n",
    "            locs_df_notunl[[\"pos1\", \"pos2\", \"relative_dir\"]].rename(\n",
    "                columns={\"relative_dir\": \"path_dir\"}\n",
    "            ),\n",
    "            right_on=[\"pos1\", \"pos2\"],\n",
    "            left_on=[\"x1\", \"x2\"],\n",
    "            how=\"left\",\n",
    "            suffixes=[\"\", \"_add\"],\n",
    "        )\n",
    "        .drop(columns=[\"pos1_add\", \"pos2_add\", \"x1\", \"x2\", \"relative_dir\"])\n",
    "    ).explode(\"path\")\n",
    "\n",
    "    df_stst = temp.assign(\n",
    "        local_beans=temp.path.apply(lambda x: len(set(x) & set(beans))),\n",
    "        turns=temp.path.apply(lambda x: len(set(x) & set(turning_pos))),\n",
    "        if_energizer=temp.path.apply(lambda x: len(set(x) & set(energizers))),\n",
    "    ).set_index(\"path_dir\")\n",
    "\n",
    "    if pd.isnull(pacman_last_dir):\n",
    "        pass\n",
    "    elif opposite_dirs[pacman_last_dir] in df_stst.index.values:\n",
    "        df_stst = df_stst.drop(opposite_dirs[pacman_last_dir])\n",
    "    else:\n",
    "        pass\n",
    "\n",
    "    if df_stst.if_energizer.sum() > 0:\n",
    "        pick_dir = df_stst[df_stst.if_energizer > 0].index.values\n",
    "    else:\n",
    "        pick_dir = select_idx_index(\n",
    "            -df_stst[df_stst.local_beans == df_stst.local_beans.max()].turns\n",
    "        )\n",
    "        \n",
    "    if len(pick_dir) > 1 and pacman_last_dir in pick_dir:\n",
    "        pick = pacman_last_dir\n",
    "    else:\n",
    "        pick = pick_dir[0]\n",
    "    return (\n",
    "        locs_df_notunl[\n",
    "            (locs_df_notunl.pos1 == pos)\n",
    "            & (locs_df_notunl.relative_dir == pick)\n",
    "            & ((locs_df_notunl.dis == 1))\n",
    "        ].pos2.values[0],\n",
    "        pick,\n",
    "    )"
   ]
  },
  {
   "cell_type": "code",
   "execution_count": 8,
   "metadata": {},
   "outputs": [
    {
     "data": {
      "text/plain": [
       "<IPython.core.display.Javascript object>"
      ]
     },
     "metadata": {},
     "output_type": "display_data"
    }
   ],
   "source": [
    "energizer_eat_start = (\n",
    "    df_model.reset_index()\n",
    "    .groupby([\"file\", \"next_eat_energizer\"])\n",
    "    .level_0.first()\n",
    "    .values\n",
    ")"
   ]
  },
  {
   "cell_type": "code",
   "execution_count": 242,
   "metadata": {
    "scrolled": true
   },
   "outputs": [
    {
     "name": "stdout",
     "output_type": "stream",
     "text": [
      "28025 (27, 6) 302\n"
     ]
    },
    {
     "data": {
      "text/plain": [
       "<IPython.core.display.Javascript object>"
      ]
     },
     "metadata": {},
     "output_type": "display_data"
    }
   ],
   "source": [
    "l_all = []\n",
    "# for idx in energizer_eat_start[102:]:#59363,50764,18315,72049,51563,61146,73768,28025,28808,8798,35171,21529,21999,29982,68109,30982\n",
    "for idx in [28025]:\n",
    "    curr_row = df_model[df_model.index == idx].copy()\n",
    "    curr_pos, curr_beans, energizers, pacman_dir = (\n",
    "        curr_row[\"pacmanPos\"].values[0],\n",
    "        curr_row[\"beans\"].values[0],\n",
    "        curr_row[\"energizers\"].values[0],\n",
    "        curr_row[\"pacman_dir\"].values[0],\n",
    "    )\n",
    "    #     print(curr_pos, len(curr_beans), energizers, pacman_dir)\n",
    "    curr_path = [idx, curr_pos]\n",
    "    if curr_pos not in forbidden_pos:\n",
    "        for i in range(300):\n",
    "            next_pos, pacman_dir = energizer_graze_agent(\n",
    "                curr_pos, curr_beans, energizers, pacman_dir\n",
    "            )\n",
    "            curr_path.append(next_pos)\n",
    "            if next_pos in energizers:\n",
    "                break\n",
    "            curr_beans = [c for c in curr_beans if c != curr_pos]\n",
    "\n",
    "            curr_pos = next_pos\n",
    "        l_all.append(curr_path)\n",
    "        print(idx, next_pos, len(curr_path))"
   ]
  },
  {
   "cell_type": "code",
   "execution_count": 243,
   "metadata": {},
   "outputs": [
    {
     "data": {
      "text/plain": [
       "<matplotlib.collections.PathCollection at 0x7f932acf7208>"
      ]
     },
     "execution_count": 243,
     "metadata": {},
     "output_type": "execute_result"
    },
    {
     "data": {
      "image/png": "[encoded data removed]",
      "text/plain": [
       "<Figure size 3000x3000 with 1 Axes>"
      ]
     },
     "metadata": {
      "needs_background": "light"
     },
     "output_type": "display_data"
    },
    {
     "data": {
      "text/plain": [
       "<IPython.core.display.Javascript object>"
      ]
     },
     "metadata": {},
     "output_type": "display_data"
    }
   ],
   "source": [
    "fig, ax = plt.subplots(figsize=(10, 10))\n",
    "ax = sns.heatmap(array, cbar=False, cmap=\"bone\", linewidth=0.1)\n",
    "p = pd.DataFrame(curr_path[1:])\n",
    "xy = np.array(list(zip(*p.values))).T + 0.5\n",
    "for start, stop in zip(xy[:-1], xy[1:]):\n",
    "    x, y = zip(start, stop)\n",
    "    x1, y1 = start\n",
    "    x2, y2 = stop\n",
    "    plt.arrow(\n",
    "        x1,\n",
    "        y1,\n",
    "        x2 - x1,\n",
    "        y2 - y1,\n",
    "        linewidth=2,\n",
    "        head_width=0.3,\n",
    "        head_length=0.3,\n",
    "        fc=\"orange\",\n",
    "        ec=\"orange\",\n",
    "    )\n",
    "\n",
    "plt.scatter(\n",
    "    x=[i[0] + 0.5 for i in df_model.loc[idx, \"beans\"]],\n",
    "    y=[i[1] + 0.5 for i in df_model.loc[idx, \"beans\"]],\n",
    "    color=\"brown\",\n",
    "    s=70,\n",
    ")\n",
    "plt.scatter(\n",
    "    x=[i[0] + 0.5 for i in energizers],\n",
    "    y=[i[1] + 0.5 for i in energizers],\n",
    "    color=\"brown\",\n",
    "    s=140,\n",
    ")\n",
    "plt.scatter(\n",
    "    df_model.loc[idx, \"pacmanPos\"][0] + 0.5,\n",
    "    df_model.loc[idx, \"pacmanPos\"][1] + 0.5,\n",
    "    color=\"green\",\n",
    "    marker=\"*\",\n",
    "    s=210,\n",
    ")\n",
    "plt.scatter(\n",
    "    curr_path[-1][0] + 0.5, curr_path[-1][1] + 0.5, color=\"purple\", marker=\"*\", s=210,\n",
    ")"
   ]
  },
  {
   "cell_type": "code",
   "execution_count": 108,
   "metadata": {},
   "outputs": [
    {
     "data": {
      "text/plain": [
       "<IPython.core.display.Javascript object>"
      ]
     },
     "metadata": {},
     "output_type": "display_data"
    }
   ],
   "source": [
    "actual = (\n",
    "    df_model.assign(\n",
    "        start_index=df_model.reset_index()\n",
    "        .level_0.mask(~df_model.reset_index().level_0.isin(energizer_eat_start))\n",
    "        .fillna(method=\"ffill\")\n",
    "        .values\n",
    "    )\n",
    "    .groupby(\"start_index\")\n",
    "    .apply(lambda x: list(x.pacmanPos.values))\n",
    ")\n",
    "\n",
    "simulated = pd.DataFrame({\"path\": [i[1:] for i in l_all]}, index=[i[0] for i in l_all])\n",
    "compare_df = pd.concat([simulated, actual], 1)\n",
    "compare_df.columns = [\"simulated\", \"actual\"]"
   ]
  },
  {
   "cell_type": "markdown",
   "metadata": {},
   "source": [
    "#### Histogram of the simulated trajectory length"
   ]
  },
  {
   "cell_type": "code",
   "execution_count": 124,
   "metadata": {
    "scrolled": true
   },
   "outputs": [
    {
     "data": {
      "text/plain": [
       "Text(0.5, 0, 'Simulated Trajectory Length')"
      ]
     },
     "execution_count": 124,
     "metadata": {},
     "output_type": "execute_result"
    },
    {
     "data": {
      "image/png": "[encoded data removed]",
      "text/plain": [
       "<Figure size 6600x900 with 1 Axes>"
      ]
     },
     "metadata": {
      "needs_background": "light"
     },
     "output_type": "display_data"
    },
    {
     "data": {
      "text/plain": [
       "<IPython.core.display.Javascript object>"
      ]
     },
     "metadata": {},
     "output_type": "display_data"
    }
   ],
   "source": [
    "plt.subplots(figsize=(22, 3))\n",
    "ax = sns.countplot(compare_df.simulated.dropna().map(len))\n",
    "ax.set_xticklabels(ax.get_xticklabels(), rotation=30)\n",
    "ax.set_xlabel(\"Simulated Trajectory Length\")"
   ]
  },
  {
   "cell_type": "markdown",
   "metadata": {},
   "source": [
    "#### The ratio to reach the energizer"
   ]
  },
  {
   "cell_type": "code",
   "execution_count": 170,
   "metadata": {},
   "outputs": [
    {
     "data": {
      "text/plain": [
       "0.6527777777777778"
      ]
     },
     "execution_count": 170,
     "metadata": {},
     "output_type": "execute_result"
    },
    {
     "data": {
      "text/plain": [
       "<IPython.core.display.Javascript object>"
      ]
     },
     "metadata": {},
     "output_type": "display_data"
    }
   ],
   "source": [
    "if_reach_same_energizer = (\n",
    "    compare_df.assign(\n",
    "        sim_last=compare_df.simulated.apply(\n",
    "            lambda x: x[-1] if not isinstance(x, float) else np.nan\n",
    "        ),\n",
    "        actual_last=compare_df.actual.apply(\n",
    "            lambda x: x[-1] if not isinstance(x, float) else np.nan\n",
    "        ),\n",
    "    )\n",
    "    .merge(\n",
    "        locs_df,\n",
    "        left_on=[\"sim_last\", \"actual_last\"],\n",
    "        right_on=[\"pos1\", \"pos2\"],\n",
    "        how=\"left\",\n",
    "    )\n",
    "    .dis\n",
    "    <= 2\n",
    ")\n",
    "if_reach_same_energizer.mean()"
   ]
  },
  {
   "cell_type": "markdown",
   "metadata": {},
   "source": [
    "#### Trajectory overlap rate"
   ]
  },
  {
   "cell_type": "code",
   "execution_count": 126,
   "metadata": {},
   "outputs": [
    {
     "data": {
      "text/plain": [
       "Text(0, 0.5, 'count')"
      ]
     },
     "execution_count": 126,
     "metadata": {},
     "output_type": "execute_result"
    },
    {
     "data": {
      "image/png": "[encoded data removed]",
      "text/plain": [
       "<Figure size 1800x1200 with 1 Axes>"
      ]
     },
     "metadata": {
      "needs_background": "light"
     },
     "output_type": "display_data"
    },
    {
     "data": {
      "text/plain": [
       "<IPython.core.display.Javascript object>"
      ]
     },
     "metadata": {},
     "output_type": "display_data"
    }
   ],
   "source": [
    "plt.rcParams[\"figure.dpi\"] = 300\n",
    "compare_df.apply(\n",
    "    lambda x: len(set(x.simulated) & set(x.actual)) / len(x.actual)\n",
    "    if not isinstance(x.simulated, float)\n",
    "    else 0,\n",
    "    1,\n",
    ").hist(bins=np.linspace(0, 1, 10))\n",
    "plt.grid(False)\n",
    "plt.xlabel(\"Trajectory Overlap Rate\")\n",
    "plt.ylabel(\"count\")"
   ]
  },
  {
   "cell_type": "markdown",
   "metadata": {},
   "source": [
    "#### trajectory length histgram for ratio = 0.8~1"
   ]
  },
  {
   "cell_type": "code",
   "execution_count": 187,
   "metadata": {},
   "outputs": [
    {
     "data": {
      "text/plain": [
       "Text(0.5, 0, 'Trajectory Actual Length')"
      ]
     },
     "execution_count": 187,
     "metadata": {},
     "output_type": "execute_result"
    },
    {
     "data": {
      "image/png": "[encoded data removed]",
      "text/plain": [
       "<Figure size 1800x1200 with 1 Axes>"
      ]
     },
     "metadata": {
      "needs_background": "light"
     },
     "output_type": "display_data"
    },
    {
     "data": {
      "text/plain": [
       "<IPython.core.display.Javascript object>"
      ]
     },
     "metadata": {},
     "output_type": "display_data"
    }
   ],
   "source": [
    "sns.countplot(\n",
    "    compare_df[\n",
    "        compare_df.apply(\n",
    "            lambda x: len(set(x.simulated) & set(x.actual)) / len(x.actual)\n",
    "            if not isinstance(x.simulated, float)\n",
    "            else 0,\n",
    "            1,\n",
    "        )\n",
    "        >= 0.9\n",
    "    ].actual.map(len)\n",
    ")\n",
    "plt.xlabel(\"Trajectory Actual Length\")"
   ]
  },
  {
   "cell_type": "markdown",
   "metadata": {},
   "source": [
    "#### Histogram of efficiency"
   ]
  },
  {
   "cell_type": "code",
   "execution_count": 192,
   "metadata": {
    "scrolled": false
   },
   "outputs": [
    {
     "data": {
      "text/plain": [
       "<matplotlib.legend.Legend at 0x7f9352e0b710>"
      ]
     },
     "execution_count": 192,
     "metadata": {},
     "output_type": "execute_result"
    },
    {
     "data": {
      "image/png": "[encoded data removed]",
      "text/plain": [
       "<Figure size 1800x1200 with 1 Axes>"
      ]
     },
     "metadata": {
      "needs_background": "light"
     },
     "output_type": "display_data"
    },
    {
     "data": {
      "text/plain": [
       "<IPython.core.display.Javascript object>"
      ]
     },
     "metadata": {},
     "output_type": "display_data"
    }
   ],
   "source": [
    "pd.Series(\n",
    "    [\n",
    "        len(set(df_model.loc[idx, \"beans\"]) & set(item[\"simulated\"]))\n",
    "        / len(item[\"simulated\"])\n",
    "        if not isinstance(item[\"simulated\"], float)\n",
    "        else 0\n",
    "        for idx, item in compare_df.loc[\n",
    "            (~if_reach_same_energizer.values) & (compare_df.actual.map(len) < 302)\n",
    "        ].iterrows()\n",
    "    ]\n",
    ").hist(bins=np.linspace(0, 1, 11), color=\"blue\", alpha=0.5)\n",
    "plt.grid(False)\n",
    "\n",
    "pd.Series(\n",
    "    [\n",
    "        len(set(df_model.loc[idx, \"beans\"]) & set(item[\"actual\"])) / len(item[\"actual\"])\n",
    "        if not isinstance(item[\"actual\"], float)\n",
    "        else 0\n",
    "        for idx, item in compare_df.loc[\n",
    "            (~if_reach_same_energizer.values) & (compare_df.actual.map(len) < 302)\n",
    "        ].iterrows()\n",
    "    ]\n",
    ").hist(bins=np.linspace(0, 1, 11), color=\"orange\", alpha=0.5)\n",
    "plt.grid(False)\n",
    "plt.xlabel(\"Histogram of efficiency\")\n",
    "plt.ylabel(\"count\")\n",
    "plt.legend([\"simulated\", \"actual\"])"
   ]
  },
  {
   "cell_type": "markdown",
   "metadata": {},
   "source": [
    "### Hot Pursuit: 区分追的形式——追还是堵截"
   ]
  },
  {
   "cell_type": "code",
   "execution_count": null,
   "metadata": {},
   "outputs": [],
   "source": [
    "speed = []\n",
    "for r in indexes_filtered:\n",
    "    start = r[0]\n",
    "    end = df_total.loc[r, \"ifscared1\"].where(lambda x: x == 3).dropna().index[0]\n",
    "    eat_rwds = (\n",
    "        df_total.loc[start:end, \"rwd_cnt\"].max()\n",
    "        - df_total.loc[start:end, \"rwd_cnt\"].min()\n",
    "    )\n",
    "    best_route_ratio = len(\n",
    "        set(df_total.loc[start:end, \"pacmanPos\"])\n",
    "        & set(\n",
    "            dijkstra_distance(\n",
    "                df_total.loc[start, \"pacmanPos\"], df_total.loc[start, \"ghost1Pos\"]\n",
    "            )[1:]\n",
    "        )\n",
    "    ) / len(set(df_total.loc[start:end, \"pacmanPos\"]))\n",
    "    route_diff = (end - start) - len(\n",
    "        dijkstra_distance(\n",
    "            df_total.loc[start, \"pacmanPos\"], df_total.loc[start, \"ghost1Pos\"]\n",
    "        )[1:]\n",
    "    )\n",
    "    try:\n",
    "        start_new = (\n",
    "            df_total.loc[start:end, \"distance1\"]\n",
    "            .diff()\n",
    "            .where(lambda x: x > 0)\n",
    "            .dropna()\n",
    "            .index[-1]\n",
    "        )\n",
    "\n",
    "        speed.append(\n",
    "            [\n",
    "                df_total.loc[start_new:end, \"distance1\"].max() / (end - start_new),\n",
    "                \"partial\",\n",
    "                best_route_ratio,\n",
    "                eat_rwds,\n",
    "                route_diff,\n",
    "                all(df_total.loc[start_new:end, \"status_h1\"] == 1),\n",
    "                all(df_total.loc[start_new:end, \"status_g\"] == 0),\n",
    "            ]\n",
    "        )\n",
    "    except:\n",
    "        speed.append(\n",
    "            [\n",
    "                df_total.loc[start:end, \"distance1\"].max() / (end - start),\n",
    "                \"full\",\n",
    "                best_route_ratio,\n",
    "                eat_rwds,\n",
    "                route_diff,\n",
    "                all(df_total.loc[start:end, \"status_h1\"] == 1),\n",
    "                all(df_total.loc[start:end, \"status_g\"] == 0),\n",
    "            ]\n",
    "        )\n",
    "\n",
    "df_index = pd.DataFrame(\n",
    "    speed,\n",
    "    columns=[\n",
    "        \"speed\",\n",
    "        \"if_complete\",\n",
    "        \"best_route_ratio\",\n",
    "        \"eat_rwds\",\n",
    "        \"route_diff\",\n",
    "        \"if_only_hunt\",\n",
    "        \"if_no_graze\",\n",
    "    ],\n",
    ").assign(idx=indexes_filtered, if_intercept=[s[0] >= 1 for s in speed])\n",
    "\n",
    "df_index[\"start_distance\"] = df_index.apply(\n",
    "    lambda x: df_total.loc[x.idx, \"distance1\"].values[0], 1\n",
    ")"
   ]
  },
  {
   "cell_type": "code",
   "execution_count": null,
   "metadata": {},
   "outputs": [],
   "source": [
    "energizer_graze_agent((16,26),df_model.beans.values[0])"
   ]
  },
  {
   "cell_type": "code",
   "execution_count": null,
   "metadata": {},
   "outputs": [],
   "source": [
    "sns.jointplot(x=\"eat_rwds\", y=\"route_diff\", data=df_index)"
   ]
  },
  {
   "cell_type": "markdown",
   "metadata": {},
   "source": [
    "### Hot pursuit: 预测1）hunt/hunt+graze 2）only graze的joystick"
   ]
  },
  {
   "cell_type": "code",
   "execution_count": null,
   "metadata": {},
   "outputs": [],
   "source": [
    "df_model = (\n",
    "    df_total[\n",
    "        (df_total.when_switch == df_total.index)\n",
    "        & (df_total.handler.replace(handler_mapping) != df_total.pacman_dir)\n",
    "        #     & (df_total.status_h1 == 1)  ## 这里调1）hunt/hunt+graze 2）only graze\n",
    "        & (df_total.index.isin(list(itertools.chain.from_iterable(scared_to_eaten))))\n",
    "    ]\n",
    "    .dropna(subset=[\"pacman_dir\"])\n",
    ")\n",
    "df_model[\"next_cross\"] = df_model.apply(\n",
    "    lambda x: next_cross(x.pacmanPos, x.pacman_dir), 1\n",
    ")\n",
    "df_model[\"next_possible_dir\"] = df_model.apply(lambda x: dir_choices(x.next_cross), 1)"
   ]
  },
  {
   "cell_type": "code",
   "execution_count": null,
   "metadata": {},
   "outputs": [],
   "source": [
    "df_model[\"nearbean_dir_big\"] = df_model.apply(\n",
    "    lambda x: next_cross_nearbean(x.pacmanPos, x.next_cross, x.beans), 1\n",
    ")\n",
    "df_model[\"nearbean_dir_big_global\"] = df_model.apply(\n",
    "    lambda x: dirs_global(x.pacmanPos, x.beans, x.next_cross, atcross=True), 1\n",
    ")\n",
    "df_model[\"if_go_straight_local\"] = df_model.apply(\n",
    "    lambda x: go_straight(x.pacmanPos, x.pacman_dir, x.beans), 1\n",
    ")\n",
    "df_model[\"if_go_straight_global\"] = df_model.apply(\n",
    "    lambda x: go_straight(x.pacmanPos, x.pacman_dir, x.beans, False), 1\n",
    ")\n",
    "df_model[\"energizer_dirs_big\"] = df_model.apply(\n",
    "    lambda x: approaching_energizer(x.next_cross, x.energizers), 1\n",
    ")\n",
    "df_model[\"energizer_dirs_big_global\"] = df_model.apply(\n",
    "    lambda x: dirs_global(x.pacmanPos, x.energizers, x.next_cross, atcross=True), 1\n",
    ")"
   ]
  },
  {
   "cell_type": "code",
   "execution_count": null,
   "metadata": {},
   "outputs": [],
   "source": [
    "local_features = [\n",
    "    \"pacman_dir\",\n",
    "    \"nearbean_dir_big\",\n",
    "    \"ghost1_wrt_pacman_big\",\n",
    "    \"energizer_dirs_big\",\n",
    "    \"next_possible_dir\",\n",
    "    \"ghost_cross_over_dirs\",\n",
    "    \"if_go_straight_local\",\n",
    "]\n",
    "global_features = [\n",
    "    \"pacman_dir\",\n",
    "    \"nearbean_dir_big_global\",\n",
    "    \"ghost1_wrt_pacman_big_global\",\n",
    "    \"energizer_dirs_big_global\",\n",
    "    \"next_possible_dir\",\n",
    "    \"ghost_cross_over_dirs_global\",\n",
    "    \"if_go_straight_global\",\n",
    "]"
   ]
  },
  {
   "cell_type": "code",
   "execution_count": null,
   "metadata": {},
   "outputs": [],
   "source": [
    "df_model.to_csv(\"df_model_scared.csv\", index=False)"
   ]
  },
  {
   "cell_type": "code",
   "execution_count": null,
   "metadata": {},
   "outputs": [],
   "source": [
    "state = \"global\"\n",
    "# for t in range(1, 10):\n",
    "if state == \"local\":\n",
    "    df_model[\"ghost1_wrt_pacman_big\"] = df_model.apply(\n",
    "        lambda x: relative_dir(x.ghost1Pos, x.next_cross), 1,\n",
    "    )\n",
    "    df_model[\"ghost_cross_over_dirs\"] = df_model.apply(\n",
    "        lambda x: list(set(x.ghost1_wrt_pacman_big) & set(x.next_possible_dir)), 1\n",
    "    )\n",
    "    features = local_features\n",
    "else:\n",
    "    df_model[\"ghost1_wrt_pacman_big_global\"] = df_model.apply(\n",
    "        lambda x: relative_dir(global_pos(x.ghost1Pos), global_pos(x.next_cross)), 1,\n",
    "    )\n",
    "    df_model[\"ghost_cross_over_dirs_global\"] = df_model.apply(\n",
    "        lambda x: list(set(x.ghost1_wrt_pacman_big_global) & set(x.next_possible_dir)),\n",
    "        1,\n",
    "    )\n",
    "    features = global_features\n",
    "X = df_model[\n",
    "    (\n",
    "        df_model.assign(handlertext=df_total.handler.replace(handler_mapping),).apply(\n",
    "            lambda x: x.handlertext in x.next_possible_dir\n",
    "            if x.next_possible_dir and not isinstance(x.next_possible_dir, float)\n",
    "            else False,\n",
    "            1,\n",
    "        )\n",
    "    )\n",
    "][features + [\"index\", \"file\", \"handler\"]]\n",
    "\n",
    "les = {}\n",
    "le = preprocessing.LabelEncoder()\n",
    "for i in features:\n",
    "    X[i] = le.fit_transform(X[i].astype(str))\n",
    "    les[i] = dict(zip(le.transform(le.classes_), le.classes_))\n",
    "\n",
    "X_train, X_test, Y_train, Y_test = train_test_split(\n",
    "    X[features], X[\"handler\"], test_size=0.3, random_state=0,\n",
    ")\n",
    "\n",
    "clf = DecisionTreeClassifier(class_weight=\"balanced\", random_state=0)\n",
    "clf.fit(X_train, Y_train)\n",
    "\n",
    "y_pred = (\n",
    "    pd.DataFrame(clf.predict_proba(X_test), columns=[1, 2, 3, 4]).mask(\n",
    "        (\n",
    "            1\n",
    "            - pd.get_dummies(\n",
    "                df_model.loc[X_test.index, \"next_possible_dir\"].apply(pd.Series).stack()\n",
    "            ).sum(level=0)[[\"up\", \"down\", \"left\", \"right\"]]\n",
    "        )\n",
    "        .astype(bool)\n",
    "        .values\n",
    "    )\n",
    ").idxmax(axis=1)\n",
    "\n",
    "print(accuracy_score(y_pred, Y_test))"
   ]
  },
  {
   "cell_type": "code",
   "execution_count": null,
   "metadata": {},
   "outputs": [],
   "source": [
    "y_pred = (\n",
    "    pd.DataFrame(clf.predict_proba(X.loc[:, features]), columns=[1, 2, 3, 4])\n",
    "    .mask(\n",
    "        (\n",
    "            1\n",
    "            - pd.get_dummies(\n",
    "                df_model.loc[X.index, \"next_possible_dir\"].apply(pd.Series).stack()\n",
    "            ).sum(level=0)[[\"up\", \"down\", \"left\", \"right\"]]\n",
    "        )\n",
    "        .astype(bool)\n",
    "        .values\n",
    "    )\n",
    "    .idxmax(axis=1)\n",
    ")\n",
    "\n",
    "accuracy_map = (\n",
    "    df_model.loc[X.index, [\"pacmanPos\", \"handler\"]]\n",
    "    .assign(prd=y_pred.values, check=y_pred.values == X.handler.values)\n",
    "    .groupby(\"pacmanPos\")\n",
    "    .check.agg({\"avg_accuracy\": \"mean\", \"handler\": \"count\"},)\n",
    ")\n",
    "\n",
    "array = np.asarray(\n",
    "    map_info.pivot_table(columns=\"Pos1\", index=\"Pos2\")\n",
    "    .iswall.reindex(range(map_info.Pos2.max() + 1))\n",
    "    .replace({1: F, np.nan: F, 0: T})\n",
    ")"
   ]
  },
  {
   "cell_type": "code",
   "execution_count": null,
   "metadata": {},
   "outputs": [],
   "source": [
    "import re"
   ]
  },
  {
   "cell_type": "code",
   "execution_count": null,
   "metadata": {},
   "outputs": [],
   "source": [
    "plt.rcParams[\"figure.dpi\"] = 300\n",
    "f, ax = plt.subplots(figsize=(10, 10))\n",
    "ax.set_title(\"Scared: \" + state.capitalize() + \" Features Applied\")\n",
    "sns.heatmap(array, ax=ax, linewidth=0.5, annot=False, cbar=False, cmap=\"bone\")\n",
    "# sns.heatmap(array_accuracy, ax=ax, linewidth=0.5, annot=False, cmap=\"Oranges\")\n",
    "sc = ax.scatter(\n",
    "    pd.Series(accuracy_map.index).apply(lambda x: x[0]) + 0.5,\n",
    "    pd.Series(accuracy_map.index).apply(lambda x: x[1]) + 0.5,\n",
    "    s=accuracy_map.handler * 8,\n",
    "    c=accuracy_map.avg_accuracy,\n",
    "    cmap=\"Oranges\",\n",
    ")\n",
    "plt.colorbar(sc, aspect=80)\n",
    "handles, labels = sc.legend_elements(prop=\"sizes\", alpha=0.6)\n",
    "legend2 = plt.legend(\n",
    "    handles,\n",
    "    [\n",
    "        re.sub(\n",
    "            re.search(\"[0-9]+\", l).group(0),\n",
    "            str(int(int(re.search(\"[0-9]+\", l).group(0)) / 8)),\n",
    "            l,\n",
    "        )\n",
    "        for l in labels\n",
    "    ],\n",
    "    ncol=4,\n",
    "    title=\"Sample Size\",\n",
    ")"
   ]
  },
  {
   "cell_type": "markdown",
   "metadata": {},
   "source": [
    "## 研究pacman是如何graze的"
   ]
  },
  {
   "cell_type": "markdown",
   "metadata": {},
   "source": [
    "### 怎么吃energizer"
   ]
  },
  {
   "cell_type": "code",
   "execution_count": null,
   "metadata": {},
   "outputs": [],
   "source": [
    "df_total = pd.concat(\n",
    "    [\n",
    "        df_total,\n",
    "        df_total.groupby(\"file\")\n",
    "        .apply(lambda x: x.next_eat_rwd.mask(~x.eat_energizer).fillna(method=\"bfill\"))\n",
    "        .rename(\"next_eat_energizer\")\n",
    "        .reset_index()\n",
    "        .drop(columns=[\"file\"])\n",
    "        .set_index(\"level_1\"),\n",
    "    ],\n",
    "    1,\n",
    ")\n",
    "\n",
    "df_temp = df_total[[\"next_eat_energizer\", \"pacmanPos\", \"file\", \"index\"]].merge(\n",
    "    locs_df,\n",
    "    left_on=[\"next_eat_energizer\", \"pacmanPos\"],\n",
    "    right_on=[\"pos2\", \"pos1\"],\n",
    "    how=\"left\",\n",
    ")\n",
    "\n",
    "df_result = df_temp.groupby([\"file\", \"next_eat_energizer\"]).apply(\n",
    "    lambda d: d.dropna(subset=[\"dis\"]).index.max()\n",
    "    - d.dropna(subset=[\"dis\"]).dis.diff().where(lambda x: x > 0).dropna().index.max()\n",
    "    if not pd.isnull(\n",
    "        d.dropna(subset=[\"dis\"]).dis.diff().where(lambda x: x > 0).dropna().index.max()\n",
    "    )\n",
    "    else d.dropna(subset=[\"dis\"]).index.max() - d.dropna(subset=[\"dis\"]).index.min()\n",
    ")\n",
    "\n",
    "energizer_data = (\n",
    "    df_temp.groupby([\"file\", \"next_eat_energizer\"])\n",
    "    .apply(\n",
    "        lambda d: list(\n",
    "            range(\n",
    "                d.dropna(subset=[\"dis\"])\n",
    "                .dis.diff()\n",
    "                .where(lambda x: x > 0)\n",
    "                .dropna()\n",
    "                .index.max(),\n",
    "                d.dropna(subset=[\"dis\"]).index.max() + 1,\n",
    "            )\n",
    "        )\n",
    "        if not pd.isnull(\n",
    "            d.dropna(subset=[\"dis\"])\n",
    "            .dis.diff()\n",
    "            .where(lambda x: x > 0)\n",
    "            .dropna()\n",
    "            .index.max()\n",
    "        )\n",
    "        else list(\n",
    "            range(\n",
    "                d.dropna(subset=[\"dis\"]).index.min(),\n",
    "                d.dropna(subset=[\"dis\"]).index.max(),\n",
    "            )\n",
    "        )\n",
    "    )\n",
    "    .reset_index()\n",
    ")\n",
    "\n",
    "energizer_data = (\n",
    "    df_total.reset_index()\n",
    "    .merge(energizer_data, on=[\"file\", \"next_eat_energizer\"])\n",
    "    .set_index(\"level_0\")\n",
    ")\n",
    "\n",
    "energizer_data = energizer_data[energizer_data.apply(lambda x: x.name in x[0], 1)]"
   ]
  },
  {
   "cell_type": "code",
   "execution_count": null,
   "metadata": {},
   "outputs": [],
   "source": [
    "plt.subplots(figsize=(15, 3))\n",
    "ax = sns.countplot(df_result)\n",
    "ax.set_xticklabels([i.get_text().split(\".\")[0] for i in ax.get_xticklabels()])\n",
    "ax.set_xlabel(\"Last # Steps Pacman Dashes to Energizer in Shortest Route\")"
   ]
  },
  {
   "cell_type": "markdown",
   "metadata": {},
   "source": [
    "### 怎么吃水果"
   ]
  },
  {
   "cell_type": "code",
   "execution_count": null,
   "metadata": {},
   "outputs": [],
   "source": [
    "df_total = df_total.merge(\n",
    "    reward_dfs.loc[reward_dfs.Reward >= 3, [\"rwdpos\", \"file\",'Reward']]\n",
    "    .drop_duplicates()\n",
    "    .rename(columns={\"rwdpos\": \"fruitPos\"}),\n",
    "    on=\"file\",\n",
    "    how=\"left\",\n",
    ")"
   ]
  },
  {
   "cell_type": "code",
   "execution_count": null,
   "metadata": {},
   "outputs": [],
   "source": [
    "df_total = pd.concat(\n",
    "    [\n",
    "        df_total,\n",
    "        df_total.groupby(\"file\")\n",
    "        .apply(\n",
    "            lambda x: x.pacmanPos.mask(x.pacmanPos != x.fruitPos).fillna(method=\"bfill\")\n",
    "        )\n",
    "        .rename(\"next_eat_fruit\")\n",
    "        .reset_index()\n",
    "        .drop(columns=[\"file\"])\n",
    "        .set_index(\"level_1\"),\n",
    "    ],\n",
    "    1,\n",
    ")"
   ]
  },
  {
   "cell_type": "code",
   "execution_count": null,
   "metadata": {},
   "outputs": [],
   "source": [
    "df_temp = df_total[[\"next_eat_fruit\", \"pacmanPos\", \"file\", \"index\", \"Reward\"]].merge(\n",
    "    locs_df,\n",
    "    left_on=[\"next_eat_fruit\", \"pacmanPos\"],\n",
    "    right_on=[\"pos2\", \"pos1\"],\n",
    "    how=\"left\",\n",
    ")\n",
    "\n",
    "df_result = df_temp.groupby([\"file\", \"next_eat_fruit\", \"Reward\"]).apply(\n",
    "    lambda d: d.index.max() - d.dis.diff().where(lambda x: x > 0).dropna().index.max()\n",
    ")"
   ]
  },
  {
   "cell_type": "code",
   "execution_count": null,
   "metadata": {},
   "outputs": [],
   "source": [
    "fruit_dict = {3: \"cherry\", 4: \"strawberry\", 5: \"orange\", 6: \"apple\", 7: \"melon\"}\n",
    "reward_dict = {3: 3, 4: 5, 5: 8, 6: 12, 7: 17}"
   ]
  },
  {
   "cell_type": "code",
   "execution_count": null,
   "metadata": {},
   "outputs": [],
   "source": [
    "from matplotlib.ticker import MaxNLocator\n",
    "\n",
    "for r in range(3, 8):\n",
    "    plt.subplots(figsize=(15, 3))\n",
    "    data = (\n",
    "        df_result.reset_index()\n",
    "        .where(lambda x: x.Reward == r)\n",
    "        .dropna()[0]\n",
    "        .value_counts()\n",
    "        .reindex(range(2, 47))\n",
    "        .reset_index()\n",
    "    )\n",
    "    ax = sns.barplot(data=data, x=\"index\", y=0)\n",
    "    #     ax.set(xticks=range(2, 47), xticklabels=[i for i in range(2, 47)])\n",
    "    ax.set_xticklabels([i.get_text().split(\".\")[0] for i in ax.get_xticklabels()])\n",
    "    ax.set_ylabel(\"count\")\n",
    "    ax.set_ylim([0, 6])\n",
    "    ax.set_xlabel(\"Last # Steps Pacman Dashes to Fruit in Shortest Route\")\n",
    "    ax.set_title(fruit_dict[r] + \", reward: \" + str(reward_dict[r]))"
   ]
  },
  {
   "cell_type": "markdown",
   "metadata": {},
   "source": [
    "## simulate path: scared, from peak(hunt), tau=0-9, no status differentiation"
   ]
  },
  {
   "cell_type": "code",
   "execution_count": null,
   "metadata": {},
   "outputs": [],
   "source": [
    "all_results = []\n",
    "inter = 8\n",
    "for t in range(10):\n",
    "    overlap_part = []\n",
    "    for idx, f in enumerate(from_last_peak):\n",
    "        curr = f[0]\n",
    "        path_result = [[df_total.loc[curr, \"pacmanPos\"]]]\n",
    "        while (\n",
    "            sum(\n",
    "                [\n",
    "                    compare_list(\n",
    "                        df_total.loc[f[0] : f[0] + len(p) - 1, \"ghost1Pos\"].values, p,\n",
    "                    )\n",
    "                    for p in path_result\n",
    "                ]\n",
    "            )\n",
    "            != len(path_result)\n",
    "            and curr <= f[-1]\n",
    "        ):\n",
    "            path_result = dedup_list(\n",
    "                [\n",
    "                    p + i[1 : inter + 1]\n",
    "                    for p in path_result\n",
    "                    for i in all_shortest_paths(\n",
    "                        G,\n",
    "                        source=p[-1],\n",
    "                        target=future_position(\n",
    "                            df_total.loc[curr, \"ghost1Pos\"],\n",
    "                            df_total.loc[curr, \"ghost1_dir\"],\n",
    "                            t,\n",
    "                            p[-1],\n",
    "                        ),\n",
    "                    )\n",
    "                ]\n",
    "            )\n",
    "            curr += inter\n",
    "        overlap_part.append(path_result)\n",
    "    all_results.append(overlap_part)"
   ]
  },
  {
   "cell_type": "code",
   "execution_count": null,
   "metadata": {},
   "outputs": [],
   "source": [
    "simulated_tbl = pd.DataFrame()\n",
    "for a in range(len(all_results)):\n",
    "    simulated_tbl = simulated_tbl.append(\n",
    "        pd.DataFrame({\"path_simulated\": all_results[a]}).assign(\n",
    "            path_actual=[\n",
    "                remove_consecutive_dup(\n",
    "                    df_total.loc[i, \"pacmanPos\"].tolist()\n",
    "                    + [df_total.loc[i[-1], \"ghost1Pos\"]]\n",
    "                )\n",
    "                for i in from_last_peak\n",
    "            ],\n",
    "            file=[df_total.loc[i, \"file\"].tolist()[0] for i in from_last_peak],\n",
    "            index=[df_total.loc[i, \"index\"].tolist() for i in from_last_peak],\n",
    "            tau=a,\n",
    "        )\n",
    "    )\n",
    "\n",
    "simulated_tbl.path_simulated = simulated_tbl.path_simulated.apply(shortest)\n",
    "simulated_tbl = simulated_tbl.merge(\n",
    "    reward_collective,\n",
    "    left_on=[\"file\", simulated_tbl[\"index\"].apply(lambda x: x[0])],\n",
    "    right_on=[\"file\", \"Step\"],\n",
    "    how=\"left\",\n",
    ")\n",
    "\n",
    "simulated_tbl[\"pick_path\"] = simulated_tbl.apply(\n",
    "    lambda x: pick_morebean(x.path_simulated, x[\"beans\"]), 1\n",
    ")\n",
    "\n",
    "simulated_tbl[\"accuracy\"] = simulated_tbl.apply(\n",
    "    lambda x: max(\n",
    "        [len(set(i) & set(x.path_actual)) / len(x.path_actual) for i in x.pick_path]\n",
    "    ),\n",
    "    1,\n",
    ")\n",
    "\n",
    "simulated_tbl[\"pick_random\"] = simulated_tbl.path_simulated.apply(\n",
    "    lambda x: [x[random.sample(range(len(x)), 1)[0]]]\n",
    ")\n",
    "\n",
    "simulated_tbl[\"accuracy_random\"] = simulated_tbl.apply(\n",
    "    lambda x: max(\n",
    "        [len(set(i) & set(x.path_actual)) / len(x.path_actual) for i in x.pick_random]\n",
    "    ),\n",
    "    1,\n",
    ")"
   ]
  },
  {
   "cell_type": "code",
   "execution_count": null,
   "metadata": {},
   "outputs": [],
   "source": [
    "simulated_tbl = pd.read_csv(\"simulated_tbl_best8.csv\")\n",
    "for c in [\"path_simulated\", \"path_actual\", \"index\", \"beans\", \"pick_path\"]:\n",
    "    simulated_tbl[c] = simulated_tbl[c].map(eval)\n",
    "simulated_tbl[\"pick_random\"] = simulated_tbl.path_simulated.apply(\n",
    "    lambda x: [x[random.sample(range(len(x)), 1)[0]]]\n",
    ")\n",
    "\n",
    "simulated_tbl[\"accuracy_random\"] = simulated_tbl.apply(\n",
    "    lambda x: max(\n",
    "        [len(set(i) & set(x.path_actual)) / len(x.path_actual) for i in x.pick_random]\n",
    "    ),\n",
    "    1,\n",
    ")\n",
    "# simulated_tbl.to_csv(\"simulated_tbl_best8.csv\", index=False)"
   ]
  },
  {
   "cell_type": "markdown",
   "metadata": {},
   "source": [
    "### 基本数据分析"
   ]
  },
  {
   "cell_type": "markdown",
   "metadata": {},
   "source": [
    "#### Subplot 1 & Subplot 4: Which inference scheme has the best predictive accuracy? | compare accuracy when random pick alternatives"
   ]
  },
  {
   "cell_type": "code",
   "execution_count": null,
   "metadata": {},
   "outputs": [],
   "source": [
    "# df_trajectory = simulated_tbl.merge(\n",
    "#     simulated_tbl[\n",
    "#         (simulated_tbl.tau == 0) & (simulated_tbl.path_simulated.map(len) > 1)\n",
    "#     ][[\"file\", \"Step\"]].drop_duplicates(),\n",
    "#     on=[\"file\", \"Step\"],\n",
    "# )"
   ]
  },
  {
   "cell_type": "code",
   "execution_count": null,
   "metadata": {
    "scrolled": false
   },
   "outputs": [],
   "source": [
    "plt.rcParams[\"figure.dpi\"] = 300\n",
    "simulated_tbl.groupby(\"tau\").accuracy.mean().plot(marker=\"o\")\n",
    "simulated_tbl.groupby(\"tau\").accuracy_random.mean().plot(marker=\"o\")\n",
    "plt.ylabel(\"trajectory overlap ratio\")\n",
    "plt.legend()"
   ]
  },
  {
   "cell_type": "markdown",
   "metadata": {},
   "source": [
    "#### Subplot 2: Is the monkey use the identical inference scheme when it’s hunting?"
   ]
  },
  {
   "cell_type": "code",
   "execution_count": null,
   "metadata": {},
   "outputs": [],
   "source": [
    "plt.rcParams[\"figure.dpi\"] = 300\n",
    "plt.rcParams[\"axes.prop_cycle\"] = plt.cycler(\n",
    "    \"color\", plt.cm.plasma(np.linspace(0, 1, 5))\n",
    ")\n",
    "simulated_tbl.assign(\n",
    "    trajectory_length=pd.cut(\n",
    "        simulated_tbl.path_actual.map(len), [0, 5, 10, 15, 20, 100]\n",
    "    )\n",
    ").pivot_table(\n",
    "    columns=\"tau\", index=\"trajectory_length\", values=\"accuracy\", aggfunc=\"mean\",\n",
    ")[\n",
    "    [0, 2, 4, 6, 8]\n",
    "].plot(\n",
    "    figsize=(6, 3), marker=\"o\"\n",
    ")\n",
    "plt.legend(ncol=3)\n",
    "plt.ylabel(\"trajectory overlap ratio\")\n",
    "# plt.axes().set_xticklabels([\"0-4\", \"5-9\", \"10-14\", \"15-19\", \"20+\"])"
   ]
  },
  {
   "cell_type": "code",
   "execution_count": null,
   "metadata": {},
   "outputs": [],
   "source": [
    "ax = (\n",
    "    simulated_tbl.assign(\n",
    "        trajectory_length=pd.cut(\n",
    "            simulated_tbl.path_actual.map(len), [0, 5, 10, 15, 20, 100]\n",
    "        )\n",
    "    )[simulated_tbl.tau == 0]\n",
    "    .trajectory_length.value_counts()\n",
    "    .sort_index()\n",
    "    .plot(kind=\"bar\", figsize=(6, 3))\n",
    ")\n",
    "plt.ylabel(\"trial count\")\n",
    "plt.xlabel(\"trajectory length range\")\n",
    "ax.set_xticklabels([i.get_text() for i in ax.get_xticklabels()], rotation=0)"
   ]
  },
  {
   "cell_type": "markdown",
   "metadata": {
    "scrolled": false
   },
   "source": [
    "#### Subplots 3: Give some examples to show the prediction accuracy."
   ]
  },
  {
   "cell_type": "code",
   "execution_count": null,
   "metadata": {},
   "outputs": [],
   "source": [
    "# upzip(\"Archive.zip\", \"DataHMM_plot/\")"
   ]
  },
  {
   "cell_type": "code",
   "execution_count": null,
   "metadata": {},
   "outputs": [],
   "source": [
    "Process_dict_plot = {}\n",
    "Rewards_dict_plot = {}\n",
    "path = \"DataHMM_plot/\"\n",
    "for d in os.listdir(path):\n",
    "    if \"Omega\" in d:\n",
    "        Process_dict_plot = take_record_df(path + d, Process_dict_plot)\n",
    "        Rewards_dict_plot = take_reward_df(\n",
    "            path + d + \"/Rewards/\", Process_dict_plot, Rewards_dict_plot\n",
    "        )"
   ]
  },
  {
   "cell_type": "code",
   "execution_count": null,
   "metadata": {},
   "outputs": [],
   "source": [
    "df_total_plot = (\n",
    "    (\n",
    "        pd.concat(Process_dict_plot)\n",
    "        .reset_index()\n",
    "        .rename(columns={\"level_0\": \"file\", \"level_1\": \"index\"})\n",
    "    )\n",
    "    .merge(\n",
    "        locs_df,\n",
    "        left_on=[\"pacmanPos\", \"ghost1Pos\"],\n",
    "        right_on=[\"pos1\", \"pos2\"],\n",
    "        how=\"left\",\n",
    "    )\n",
    "    .drop(columns=[\"pos1\", \"pos2\"])\n",
    "    .rename(columns={\"dis\": \"distance1\"})\n",
    "    .groupby(\"file\")\n",
    "    .apply(ghost_dir)\n",
    ")\n",
    "\n",
    "df_total_plot.ghost1_dir = df_total_plot.ghost1_dir.fillna(method=\"ffill\")"
   ]
  },
  {
   "cell_type": "code",
   "execution_count": null,
   "metadata": {},
   "outputs": [],
   "source": [
    "indexes = [\n",
    "    list(i)\n",
    "    for i in consecutive_groups(df_total_plot[df_total_plot.ifscared1 >= 3].index)\n",
    "]\n",
    "indexes_filtered = [\n",
    "    i for i in indexes if (df_total_plot.loc[i, \"ifscared1\"] == 3).sum() > 0\n",
    "]\n",
    "scared_to_eaten = [\n",
    "    list(\n",
    "        range(\n",
    "            i[0],\n",
    "            df_total_plot.loc[i, \"ifscared1\"].where(lambda x: x == 3).dropna().index[0]\n",
    "            + 1,\n",
    "        )\n",
    "    )\n",
    "    for i in indexes_filtered\n",
    "]\n",
    "\n",
    "from_last_peak = [\n",
    "    list(\n",
    "        range(\n",
    "            df_total_plot.loc[i, \"distance1\"]\n",
    "            .diff()\n",
    "            .where(lambda x: x > 0)\n",
    "            .dropna()\n",
    "            .index[-1],\n",
    "            i[-1] + 1,\n",
    "        )\n",
    "    )\n",
    "    if len(\n",
    "        df_total_plot.loc[i, \"distance1\"].diff().where(lambda x: x > 0).dropna().index\n",
    "    )\n",
    "    > 0\n",
    "    else i\n",
    "    for i in scared_to_eaten\n",
    "]"
   ]
  },
  {
   "cell_type": "code",
   "execution_count": null,
   "metadata": {},
   "outputs": [],
   "source": [
    "all_results = []\n",
    "inter = 8\n",
    "for t in [0, 4, 5]:\n",
    "    overlap_part = []\n",
    "    for idx, f in enumerate(from_last_peak):\n",
    "        curr = f[0]\n",
    "        path_result = [[df_total_plot.loc[curr, \"pacmanPos\"]]]\n",
    "        while (\n",
    "            sum(\n",
    "                [\n",
    "                    compare_list(\n",
    "                        df_total_plot.loc[f[0] : f[0] + len(p) - 1, \"ghost1Pos\"].values,\n",
    "                        p,\n",
    "                    )\n",
    "                    for p in path_result\n",
    "                ]\n",
    "            )\n",
    "            != len(path_result)\n",
    "            and curr <= f[-1]\n",
    "        ):\n",
    "            path_result = dedup_list(\n",
    "                [\n",
    "                    p + i[1 : inter + 1]\n",
    "                    for p in path_result\n",
    "                    for i in all_shortest_paths(\n",
    "                        G,\n",
    "                        source=p[-1],\n",
    "                        target=future_position(\n",
    "                            df_total_plot.loc[curr, \"ghost1Pos\"],\n",
    "                            df_total_plot.loc[curr, \"ghost1_dir\"],\n",
    "                            t,\n",
    "                            p[-1],\n",
    "                        ),\n",
    "                    )\n",
    "                ]\n",
    "            )\n",
    "            curr += inter\n",
    "        overlap_part.append(path_result)\n",
    "    all_results.append(overlap_part)"
   ]
  },
  {
   "cell_type": "code",
   "execution_count": null,
   "metadata": {},
   "outputs": [],
   "source": [
    "mp = {0: 0, 1: 4, 2: 5}\n",
    "simulated_tbl = pd.DataFrame()\n",
    "for a in range(len(all_results)):\n",
    "    simulated_tbl = simulated_tbl.append(\n",
    "        pd.DataFrame({\"path_simulated\": all_results[a]}).assign(\n",
    "            path_actual=[\n",
    "                remove_consecutive_dup(\n",
    "                    df_total_plot.loc[i, \"pacmanPos\"].tolist()\n",
    "                    + [df_total_plot.loc[i[-1], \"ghost1Pos\"]]\n",
    "                )\n",
    "                for i in from_last_peak\n",
    "            ],\n",
    "            file=[df_total_plot.loc[i, \"file\"].tolist()[0] for i in from_last_peak],\n",
    "            index=[df_total_plot.loc[i, \"index\"].tolist() for i in from_last_peak],\n",
    "            tau=mp[a],\n",
    "        )\n",
    "    )\n",
    "\n",
    "simulated_tbl.path_simulated = simulated_tbl.path_simulated.apply(shortest)\n",
    "simulated_tbl = simulated_tbl.merge(\n",
    "    reward_collective,\n",
    "    left_on=[\"file\", simulated_tbl[\"index\"].apply(lambda x: x[0])],\n",
    "    right_on=[\"file\", \"Step\"],\n",
    "    how=\"left\",\n",
    ")\n",
    "\n",
    "simulated_tbl[\"pick_path\"] = simulated_tbl.apply(\n",
    "    lambda x: pick_morebean(x.path_simulated, x[\"beans\"]), 1\n",
    ")\n",
    "\n",
    "simulated_tbl[\"accuracy\"] = simulated_tbl.apply(\n",
    "    lambda x: max(\n",
    "        [len(set(i) & set(x.path_actual)) / len(x.path_actual) for i in x.pick_path]\n",
    "    ),\n",
    "    1,\n",
    ")\n",
    "\n",
    "simulated_tbl[\"pick_random\"] = simulated_tbl.path_simulated.apply(\n",
    "    lambda x: [x[random.sample(range(len(x)), 1)[0]]]\n",
    ")\n",
    "\n",
    "simulated_tbl[\"accuracy_random\"] = simulated_tbl.apply(\n",
    "    lambda x: max(\n",
    "        [len(set(i) & set(x.path_actual)) / len(x.path_actual) for i in x.pick_random]\n",
    "    ),\n",
    "    1,\n",
    ")"
   ]
  },
  {
   "cell_type": "code",
   "execution_count": null,
   "metadata": {
    "scrolled": false
   },
   "outputs": [],
   "source": [
    "plt.rcParams[\"axes.prop_cycle\"] = plt.cycler(\n",
    "    \"color\", plt.cm.plasma(np.linspace(0, 1, 3))\n",
    ")\n",
    "\n",
    "sel = simulated_tbl[\n",
    "    (simulated_tbl.file == \"18-1-Omega-15-Jun-2019.csv\")\n",
    "    & (simulated_tbl.tau.isin([0, 4, 5]))\n",
    "]\n",
    "\n",
    "for i in [0, 4]:\n",
    "    #     plt.subplots()\n",
    "    plot_eating_simple(\n",
    "        df_pos=df_total_plot[df_total_plot.file == sel.file.values[0]].set_index(\n",
    "            \"index\"\n",
    "        ),\n",
    "        k=sel.file.values[0].split(\".\")[0],\n",
    "        idx=sel[\"index\"].values[0][0],\n",
    "        Rewards_dict=Rewards_dict_plot,\n",
    "    )\n",
    "    #     if i == 0:\n",
    "    #         plt.plot(\n",
    "    #             pd.DataFrame(sel[sel.tau == i].pick_path.values[0][0] + [(27, 24)])[0]\n",
    "    #             + 0.5,\n",
    "    #             pd.DataFrame(sel[sel.tau == i].pick_path.values[0][0] + [(27, 24)])[1]\n",
    "    #             + 0.5,\n",
    "    #             marker=\"x\",\n",
    "    #             label=i,\n",
    "    #         )\n",
    "    #     else:\n",
    "    plt.plot(\n",
    "        pd.DataFrame(sel[sel.tau == i].pick_path.values[0][0])[0] + 0.5,\n",
    "        pd.DataFrame(sel[sel.tau == i].pick_path.values[0][0])[1] + 0.5,\n",
    "        linewidth=3,\n",
    "        #         marker=\"j\",\n",
    "        label=i,\n",
    "    )\n",
    "    handles, labels = plt.gca().get_legend_handles_labels()\n",
    "    by_label = dict(zip(labels, handles))\n",
    "    by_label.pop(\"Y\")\n",
    "    plt.legend(by_label.values(), list(by_label.keys())[:-1] + [\"tau = \" + str(i)])"
   ]
  },
  {
   "cell_type": "code",
   "execution_count": null,
   "metadata": {},
   "outputs": [],
   "source": [
    "df_total[df_total.file == \"16-2-Omega-21-Aug-2019.csv\"]"
   ]
  },
  {
   "cell_type": "code",
   "execution_count": null,
   "metadata": {},
   "outputs": [],
   "source": [
    "plt.rcParams[\"figure.dpi\"] = 300\n",
    "fig, subplots = plt.subplots(\n",
    "    1, 10, sharey=True, figsize=(15, 3), subplot_kw={\"ylim\": (0, 40)}\n",
    ")\n",
    "# [\n",
    "#     sns.distplot(\n",
    "#         simulated_tbl[simulated_tbl.tau == i].path_actual.map(len).values,\n",
    "#         ax=sp,\n",
    "#         #         norm_hist=True,\n",
    "#         kde=False,\n",
    "#         hist_kws={\n",
    "#             \"histtype\": \"step\",\n",
    "#             \"linewidth\": 2,\n",
    "#             \"alpha\": 1,\n",
    "#             \"color\": \"grey\",\n",
    "#             \"weights\": [100 / simulated_tbl[simulated_tbl.tau == i].shape[0]]\n",
    "#             * simulated_tbl[simulated_tbl.tau == i].shape[0],\n",
    "#         },\n",
    "#     )\n",
    "#     for i, sp in enumerate(subplots.reshape(-1))\n",
    "# ]\n",
    "[\n",
    "    sns.distplot(\n",
    "        simulated_tbl[(simulated_tbl.tau == i) & (simulated_tbl.accuracy == 1)]\n",
    "        .path_simulated.apply(lambda x: len(x[0]))\n",
    "        .values,\n",
    "        ax=sp,\n",
    "        #         norm_hist=True,\n",
    "        kde=False,\n",
    "        hist_kws={\n",
    "            \"histtype\": \"step\",\n",
    "            \"linewidth\": 2,\n",
    "            \"alpha\": 1,\n",
    "            \"color\": \"black\",\n",
    "            \"weights\": [\n",
    "                100\n",
    "                / simulated_tbl[\n",
    "                    (simulated_tbl.tau == i) & (simulated_tbl.accuracy == 1)\n",
    "                ].shape[0]\n",
    "            ]\n",
    "            * simulated_tbl[\n",
    "                (simulated_tbl.tau == i) & (simulated_tbl.accuracy == 1)\n",
    "            ].shape[0],\n",
    "        },\n",
    "    )\n",
    "    for i, sp in enumerate(subplots.reshape(-1))\n",
    "]\n",
    "[sp.set_title(\"tau = \" + str(i)) for i, sp in enumerate(subplots.reshape(-1))]\n",
    "fig.text(0.09, 0.5, \"Percentage\", va=\"center\", rotation=\"vertical\")\n",
    "fig.text(0.5, -0.03, \"trajectory length\", ha=\"center\")\n",
    "fig.text(0.5, 1, \"simulated_trajectory when accuracy = 1\", ha=\"center\")\n",
    "# plt.legend(\n",
    "#     [\"actual_trajectory\", \"simulated_trajectory\"],\n",
    "#     fancybox=True,\n",
    "#     framealpha=0,\n",
    "#     bbox_to_anchor=(1, 1),\n",
    "#     loc=\"upper left\",\n",
    "# )"
   ]
  },
  {
   "cell_type": "code",
   "execution_count": null,
   "metadata": {
    "scrolled": true
   },
   "outputs": [],
   "source": [
    "plt.rcParams[\"figure.dpi\"] = 300\n",
    "fig, subplots = plt.subplots(\n",
    "    1, 10, sharey=True, figsize=(15, 3), subplot_kw={\"ylim\": (0, 100)}\n",
    ")\n",
    "[\n",
    "    simulated_tbl[simulated_tbl.tau == i].accuracy.hist(\n",
    "        ax=sp,\n",
    "        weights=[100 / simulated_tbl[simulated_tbl.tau == i].shape[0]]\n",
    "        * simulated_tbl[simulated_tbl.tau == i].shape[0],\n",
    "    )\n",
    "    for i, sp in enumerate(subplots.reshape(-1))\n",
    "]\n",
    "[sp.set_title(\"tau = \" + str(i)) for i, sp in enumerate(subplots.reshape(-1))]\n",
    "fig.text(0.08, 0.5, \"Percentage\", va=\"center\", rotation=\"vertical\")\n",
    "fig.text(0.5, -0.03, \"accuracy\", ha=\"center\")"
   ]
  },
  {
   "cell_type": "markdown",
   "metadata": {},
   "source": [
    "### 分析pacman为什么在多个最近路线选择的情况下选择当前路线"
   ]
  },
  {
   "cell_type": "code",
   "execution_count": null,
   "metadata": {},
   "outputs": [],
   "source": [
    "multiple_df = simulated_tbl[\n",
    "    (simulated_tbl.accuracy == 1) & (simulated_tbl.path_simulated.map(len) > 1)\n",
    "]"
   ]
  },
  {
   "cell_type": "code",
   "execution_count": null,
   "metadata": {},
   "outputs": [],
   "source": [
    "sel = multiple_df.sample(1)\n",
    "aa = pd.DataFrame(\n",
    "    sel.path_simulated.values[0]\n",
    "    + [\n",
    "        df_total.loc[\n",
    "            (df_total[\"index\"].isin(sel[\"index\"].values[0]))\n",
    "            & (df_total.file == sel.file.values[0]),\n",
    "            \"ghost1Pos\",\n",
    "        ].tolist()\n",
    "    ]\n",
    "    + [sel.path_actual.values[0]]\n",
    "    + sel.pick_path.values[0]\n",
    ").T\n",
    "aa.columns = list(range(len(sel.path_simulated.values[0]))) + [\n",
    "    \"ghost\",\n",
    "    \"pacman_actual\",\n",
    "    \"pick\",\n",
    "]\n",
    "\n",
    "print(\n",
    "    [\n",
    "        len(set(sel.path_simulated.values[0][i]) & set(sel.path_actual.values[0]))\n",
    "        for i in range(len(sel.path_simulated.values[0]))\n",
    "    ]\n",
    ")\n",
    "\n",
    "print(\n",
    "    [\n",
    "        len(sel.path_simulated.values[0][i])\n",
    "        for i in range(len(sel.path_simulated.values[0]))\n",
    "    ]\n",
    ")"
   ]
  },
  {
   "cell_type": "code",
   "execution_count": null,
   "metadata": {},
   "outputs": [],
   "source": [
    "## tau比较大的时候靠的近的时候容易引起误差，这样会走回头路\n",
    "## 两条路豆子差不多时，倾向于走拐弯少的路"
   ]
  },
  {
   "cell_type": "code",
   "execution_count": null,
   "metadata": {},
   "outputs": [],
   "source": [
    "plt.rcParams[\"axes.prop_cycle\"] = plt.cycler(\n",
    "    \"color\", plt.cm.plasma(np.linspace(0, 1, 3))\n",
    ")\n",
    "plot_eating_all(\n",
    "    df_pos=df_total[df_total.file == sel.file.values[0]].set_index(\"index\"),\n",
    "    k=sel.file.values[0].split(\".\")[0],\n",
    "    idx=sel[\"index\"].values[0][0],\n",
    "    Rewards_dict=Rewards_dict,\n",
    ")\n",
    "for i in range(len(sel.path_simulated.values[0])):\n",
    "    plt.plot(\n",
    "        pd.DataFrame(sel.path_simulated.values[0][i])[0] + 0.5,\n",
    "        pd.DataFrame(sel.path_simulated.values[0][i])[1] + 0.5,\n",
    "        marker=\"o\",\n",
    "        label=i,\n",
    "    )\n",
    "    handles, labels = plt.gca().get_legend_handles_labels()\n",
    "    by_label = dict(zip(labels, handles))\n",
    "    by_label.pop(\"Y\")\n",
    "    plt.legend(by_label.values(), by_label.keys())"
   ]
  },
  {
   "cell_type": "markdown",
   "metadata": {},
   "source": [
    "## 动画"
   ]
  },
  {
   "cell_type": "code",
   "execution_count": 16,
   "metadata": {
    "scrolled": false
   },
   "outputs": [
    {
     "data": {
      "text/plain": [
       "interactive(children=(IntSlider(value=104, description='idx', max=187), Output()), _dom_classes=('widget-inter…"
      ]
     },
     "metadata": {},
     "output_type": "display_data"
    },
    {
     "data": {
      "text/plain": [
       "<IPython.core.display.Javascript object>"
      ]
     },
     "metadata": {},
     "output_type": "display_data"
    }
   ],
   "source": [
    "plt.rcParams[\"figure.dpi\"] = 100\n",
    "# haha = df_total.loc[from_last_peak[1]]\n",
    "# print(haha.pred.replace(handler_mapping).values[0])\n",
    "# print(haha.predict.values[0])\n",
    "# sel = df_model.sample(1)\n",
    "# sel_file = sel.file.values[0].split(\".\")[0]  # suicide = 1 and graze = 1\n",
    "\n",
    "sel_file = \"12-1-Omega-28-Aug-2019\"\n",
    "df_explore = df_total[df_total.file == sel_file + \".csv\"].set_index(\"index\")\n",
    "\n",
    "w = interact(\n",
    "    plot_eating_all,\n",
    "    k=fixed(sel_file),\n",
    "    df_pos=fixed(df_explore),\n",
    "    Rewards_dict=fixed(Rewards_dict),\n",
    "    idx=(\n",
    "        widgets.IntSlider(\n",
    "            min=df_explore.index.min(),\n",
    "            max=df_explore.index.max(),\n",
    "            step=1,\n",
    "            #             value=sel[\"index\"].values[0],\n",
    "            value=104,\n",
    "        )\n",
    "    ),\n",
    ")"
   ]
  }
 ],
 "metadata": {
  "jupytext": {
   "encoding": "# -*- coding: utf-8 -*-"
  },
  "kernelspec": {
   "display_name": "Python 3",
   "language": "python",
   "name": "python3"
  },
  "language_info": {
   "codemirror_mode": {
    "name": "ipython",
    "version": 3
   },
   "file_extension": ".py",
   "mimetype": "text/x-python",
   "name": "python",
   "nbconvert_exporter": "python",
   "pygments_lexer": "ipython3",
   "version": "3.6.9"
  },
  "toc": {
   "base_numbering": 1,
   "nav_menu": {},
   "number_sections": true,
   "sideBar": true,
   "skip_h1_title": false,
   "title_cell": "Table of Contents",
   "title_sidebar": "Contents",
   "toc_cell": false,
   "toc_position": {
    "height": "calc(100% - 180px)",
    "left": "10px",
    "top": "150px",
    "width": "241px"
   },
   "toc_section_display": true,
   "toc_window_display": true
  },
  "varInspector": {
   "cols": {
    "lenName": 16,
    "lenType": 16,
    "lenVar": 40
   },
   "kernels_config": {
    "python": {
     "delete_cmd_postfix": "",
     "delete_cmd_prefix": "del ",
     "library": "var_list.py",
     "varRefreshCmd": "print(var_dic_list())"
    },
    "r": {
     "delete_cmd_postfix": ") ",
     "delete_cmd_prefix": "rm(",
     "library": "var_list.r",
     "varRefreshCmd": "cat(var_dic_list()) "
    }
   },
   "position": {
    "height": "400px",
    "left": "538px",
    "right": "20px",
    "top": "124px",
    "width": "427px"
   },
   "types_to_exclude": [
    "module",
    "function",
    "builtin_function_or_method",
    "instance",
    "_Feature"
   ],
   "window_display": false
  }
 },
 "nbformat": 4,
 "nbformat_minor": 1
}
